{
 "cells": [
  {
   "cell_type": "markdown",
   "id": "41a4eaf5-cfe9-4b80-86a8-c315732cb15f",
   "metadata": {},
   "source": [
    "# Car Insurance Claims Classification Project\n",
    "\n",
    "In this classification project, we are using machine learning models to predict whether a car insurance claim was filed by a policyholder based on their given traits. The goal of this notebook is to explore and analyze the given data, preprocess the data, and then fit the data on the best performing model and hypertune its parameters. The purpose of this project is to help automate the insurance application process, optimize pricing strategies by better assessing risk, and analyze which traits are desirable in future policyholders. \n",
    "\n",
    "The dataset used in this project is from: https://www.kaggle.com/datasets/sagnik1511/car-insurance-data\n",
    "\n",
    "## Data Overview \n",
    "\n",
    "This dataset contains 10,000 records of car insurance policyholders\n",
    "\n",
    "Our target variable is the claim_made (originally OUTCOME) feature, which represents whether a car insurance claim was made or not by the policyholder\n",
    "\n",
    "Features include:\n",
    "\n",
    "**Demographic Information:** Age, gender, education, income, etc.\n",
    "\n",
    "**Vehicle Specifications:** Ownership, vehicle year, annual mileage, etc.\n",
    "\n",
    "**Driving Record:** History of duis, speeding violations, past accidents\n",
    "\n",
    "## Objective\n",
    "\n",
    "We are trying to predict whether a claim has been filed based on given features of policyholders\n",
    "\n",
    "We will achieve this through five main steps:\n",
    "\n",
    "#### 1. Data Overview\n",
    "#### 2. Exploratory Data Analysis\n",
    "#### 3. Data Cleaning and Preprocessing\n",
    "#### 4. Creating Model Pipeline\n",
    "#### 5. Model Testing "
   ]
  },
  {
   "cell_type": "code",
   "execution_count": 2,
   "id": "30074318-a4df-441b-898a-89d43bceb592",
   "metadata": {},
   "outputs": [],
   "source": [
    "from pathlib import Path\n",
    "import pandas as pd\n",
    "import tarfile\n",
    "import urllib.request\n",
    "import matplotlib.pyplot as plt\n",
    "import numpy as np\n",
    "from sklearn.model_selection import train_test_split\n",
    "import seaborn as sns\n",
    "from sklearn.preprocessing import power_transform\n",
    "from sklearn.impute import SimpleImputer\n",
    "from sklearn.preprocessing import RobustScaler\n",
    "from sklearn.preprocessing import OrdinalEncoder\n",
    "from sklearn.preprocessing import OneHotEncoder\n",
    "from statsmodels.stats.outliers_influence import variance_inflation_factor\n",
    "from sklearn.preprocessing import FunctionTransformer\n",
    "from sklearn.pipeline import make_pipeline\n",
    "from sklearn.preprocessing import PowerTransformer\n",
    "from sklearn.compose import ColumnTransformer\n",
    "from imblearn.pipeline import Pipeline as ImbPipeline\n",
    "from imblearn.over_sampling import ADASYN\n",
    "from sklearn.linear_model import LogisticRegression\n",
    "from sklearn.neighbors import KNeighborsClassifier\n",
    "from sklearn.tree import DecisionTreeClassifier\n",
    "from sklearn.ensemble import RandomForestClassifier\n",
    "from sklearn.svm import LinearSVC\n",
    "from xgboost import XGBClassifier\n",
    "from sklearn.ensemble import AdaBoostClassifier\n",
    "from sklearn.ensemble import GradientBoostingClassifier\n",
    "from sklearn.ensemble import BaggingClassifier\n",
    "from catboost import CatBoostClassifier\n",
    "from sklearn.model_selection import cross_val_score, KFold\n",
    "from sklearn.metrics import make_scorer, accuracy_score\n",
    "from sklearn.model_selection import RandomizedSearchCV\n",
    "from scipy.stats import randint\n",
    "from sklearn.ensemble import VotingClassifier\n",
    "from sklearn.metrics import ConfusionMatrixDisplay, confusion_matrix\n",
    "import warnings\n",
    "warnings.filterwarnings(\"ignore\")"
   ]
  },
  {
   "cell_type": "code",
   "execution_count": 3,
   "id": "4fe4391c-0bcb-4590-aaf7-43437ce07335",
   "metadata": {},
   "outputs": [
    {
     "data": {
      "text/html": [
       "<div>\n",
       "<style scoped>\n",
       "    .dataframe tbody tr th:only-of-type {\n",
       "        vertical-align: middle;\n",
       "    }\n",
       "\n",
       "    .dataframe tbody tr th {\n",
       "        vertical-align: top;\n",
       "    }\n",
       "\n",
       "    .dataframe thead th {\n",
       "        text-align: right;\n",
       "    }\n",
       "</style>\n",
       "<table border=\"1\" class=\"dataframe\">\n",
       "  <thead>\n",
       "    <tr style=\"text-align: right;\">\n",
       "      <th></th>\n",
       "      <th>ID</th>\n",
       "      <th>AGE</th>\n",
       "      <th>GENDER</th>\n",
       "      <th>RACE</th>\n",
       "      <th>DRIVING_EXPERIENCE</th>\n",
       "      <th>EDUCATION</th>\n",
       "      <th>INCOME</th>\n",
       "      <th>CREDIT_SCORE</th>\n",
       "      <th>VEHICLE_OWNERSHIP</th>\n",
       "      <th>VEHICLE_YEAR</th>\n",
       "      <th>MARRIED</th>\n",
       "      <th>CHILDREN</th>\n",
       "      <th>POSTAL_CODE</th>\n",
       "      <th>ANNUAL_MILEAGE</th>\n",
       "      <th>VEHICLE_TYPE</th>\n",
       "      <th>SPEEDING_VIOLATIONS</th>\n",
       "      <th>DUIS</th>\n",
       "      <th>PAST_ACCIDENTS</th>\n",
       "      <th>OUTCOME</th>\n",
       "    </tr>\n",
       "  </thead>\n",
       "  <tbody>\n",
       "    <tr>\n",
       "      <th>0</th>\n",
       "      <td>569520</td>\n",
       "      <td>65+</td>\n",
       "      <td>female</td>\n",
       "      <td>majority</td>\n",
       "      <td>0-9y</td>\n",
       "      <td>high school</td>\n",
       "      <td>upper class</td>\n",
       "      <td>0.629027</td>\n",
       "      <td>1.0</td>\n",
       "      <td>after 2015</td>\n",
       "      <td>0.0</td>\n",
       "      <td>1.0</td>\n",
       "      <td>10238</td>\n",
       "      <td>12000.0</td>\n",
       "      <td>sedan</td>\n",
       "      <td>0</td>\n",
       "      <td>0</td>\n",
       "      <td>0</td>\n",
       "      <td>0.0</td>\n",
       "    </tr>\n",
       "    <tr>\n",
       "      <th>1</th>\n",
       "      <td>750365</td>\n",
       "      <td>16-25</td>\n",
       "      <td>male</td>\n",
       "      <td>majority</td>\n",
       "      <td>0-9y</td>\n",
       "      <td>none</td>\n",
       "      <td>poverty</td>\n",
       "      <td>0.357757</td>\n",
       "      <td>0.0</td>\n",
       "      <td>before 2015</td>\n",
       "      <td>0.0</td>\n",
       "      <td>0.0</td>\n",
       "      <td>10238</td>\n",
       "      <td>16000.0</td>\n",
       "      <td>sedan</td>\n",
       "      <td>0</td>\n",
       "      <td>0</td>\n",
       "      <td>0</td>\n",
       "      <td>1.0</td>\n",
       "    </tr>\n",
       "    <tr>\n",
       "      <th>2</th>\n",
       "      <td>199901</td>\n",
       "      <td>16-25</td>\n",
       "      <td>female</td>\n",
       "      <td>majority</td>\n",
       "      <td>0-9y</td>\n",
       "      <td>high school</td>\n",
       "      <td>working class</td>\n",
       "      <td>0.493146</td>\n",
       "      <td>1.0</td>\n",
       "      <td>before 2015</td>\n",
       "      <td>0.0</td>\n",
       "      <td>0.0</td>\n",
       "      <td>10238</td>\n",
       "      <td>11000.0</td>\n",
       "      <td>sedan</td>\n",
       "      <td>0</td>\n",
       "      <td>0</td>\n",
       "      <td>0</td>\n",
       "      <td>0.0</td>\n",
       "    </tr>\n",
       "    <tr>\n",
       "      <th>3</th>\n",
       "      <td>478866</td>\n",
       "      <td>16-25</td>\n",
       "      <td>male</td>\n",
       "      <td>majority</td>\n",
       "      <td>0-9y</td>\n",
       "      <td>university</td>\n",
       "      <td>working class</td>\n",
       "      <td>0.206013</td>\n",
       "      <td>1.0</td>\n",
       "      <td>before 2015</td>\n",
       "      <td>0.0</td>\n",
       "      <td>1.0</td>\n",
       "      <td>32765</td>\n",
       "      <td>11000.0</td>\n",
       "      <td>sedan</td>\n",
       "      <td>0</td>\n",
       "      <td>0</td>\n",
       "      <td>0</td>\n",
       "      <td>0.0</td>\n",
       "    </tr>\n",
       "    <tr>\n",
       "      <th>4</th>\n",
       "      <td>731664</td>\n",
       "      <td>26-39</td>\n",
       "      <td>male</td>\n",
       "      <td>majority</td>\n",
       "      <td>10-19y</td>\n",
       "      <td>none</td>\n",
       "      <td>working class</td>\n",
       "      <td>0.388366</td>\n",
       "      <td>1.0</td>\n",
       "      <td>before 2015</td>\n",
       "      <td>0.0</td>\n",
       "      <td>0.0</td>\n",
       "      <td>32765</td>\n",
       "      <td>12000.0</td>\n",
       "      <td>sedan</td>\n",
       "      <td>2</td>\n",
       "      <td>0</td>\n",
       "      <td>1</td>\n",
       "      <td>1.0</td>\n",
       "    </tr>\n",
       "  </tbody>\n",
       "</table>\n",
       "</div>"
      ],
      "text/plain": [
       "       ID    AGE  GENDER      RACE DRIVING_EXPERIENCE    EDUCATION  \\\n",
       "0  569520    65+  female  majority               0-9y  high school   \n",
       "1  750365  16-25    male  majority               0-9y         none   \n",
       "2  199901  16-25  female  majority               0-9y  high school   \n",
       "3  478866  16-25    male  majority               0-9y   university   \n",
       "4  731664  26-39    male  majority             10-19y         none   \n",
       "\n",
       "          INCOME  CREDIT_SCORE  VEHICLE_OWNERSHIP VEHICLE_YEAR  MARRIED  \\\n",
       "0    upper class      0.629027                1.0   after 2015      0.0   \n",
       "1        poverty      0.357757                0.0  before 2015      0.0   \n",
       "2  working class      0.493146                1.0  before 2015      0.0   \n",
       "3  working class      0.206013                1.0  before 2015      0.0   \n",
       "4  working class      0.388366                1.0  before 2015      0.0   \n",
       "\n",
       "   CHILDREN  POSTAL_CODE  ANNUAL_MILEAGE VEHICLE_TYPE  SPEEDING_VIOLATIONS  \\\n",
       "0       1.0        10238         12000.0        sedan                    0   \n",
       "1       0.0        10238         16000.0        sedan                    0   \n",
       "2       0.0        10238         11000.0        sedan                    0   \n",
       "3       1.0        32765         11000.0        sedan                    0   \n",
       "4       0.0        32765         12000.0        sedan                    2   \n",
       "\n",
       "   DUIS  PAST_ACCIDENTS  OUTCOME  \n",
       "0     0               0      0.0  \n",
       "1     0               0      1.0  \n",
       "2     0               0      0.0  \n",
       "3     0               0      0.0  \n",
       "4     0               1      1.0  "
      ]
     },
     "execution_count": 3,
     "metadata": {},
     "output_type": "execute_result"
    }
   ],
   "source": [
    "csv = r\"Car_Insurance_Claim.csv\"\n",
    "\n",
    "claims = pd.read_csv(csv, delimiter = \",\")\n",
    "claims.head()"
   ]
  },
  {
   "cell_type": "code",
   "execution_count": 4,
   "id": "fd7d806d-6396-4aee-8784-bcbfab247d25",
   "metadata": {},
   "outputs": [
    {
     "data": {
      "text/plain": [
       "(10000, 19)"
      ]
     },
     "execution_count": 4,
     "metadata": {},
     "output_type": "execute_result"
    }
   ],
   "source": [
    "claims.shape"
   ]
  },
  {
   "cell_type": "markdown",
   "id": "a5a910d7-87a1-4436-9b5c-2a3eb13764b4",
   "metadata": {},
   "source": [
    "## 1. Data Overview\n",
    "\n",
    "#### 1.1 Basic data cleaning and inspection"
   ]
  },
  {
   "cell_type": "code",
   "execution_count": 6,
   "id": "91795917-e042-43b2-86dd-5c1bdcaebb93",
   "metadata": {},
   "outputs": [],
   "source": [
    "# Create copy of original dataset\n",
    "claims_copy = claims.copy()"
   ]
  },
  {
   "cell_type": "code",
   "execution_count": 7,
   "id": "128bcba2-c3a6-4549-958e-c47d12f4eac5",
   "metadata": {},
   "outputs": [],
   "source": [
    "# Renaming columns\n",
    "new_name_dict = {\"ID\": \"id\", \"AGE\": \"age\", \"GENDER\": \"gender\", \"RACE\": \"race\", \"DRIVING_EXPERIENCE\": \"driving_experience\", \n",
    "                 \"EDUCATION\": \"education_level\", \"INCOME\": \"income_level\", \"CREDIT_SCORE\": \"credit_score\", \n",
    "                 \"VEHICLE_OWNERSHIP\": \"vehicle_owned\", \"VEHICLE_YEAR\": \"vehicle_year\", \"MARRIED\": \"is_married\",\n",
    "                 \"CHILDREN\": \"has_children\", \"POSTAL_CODE\": \"postal_code\", \"ANNUAL_MILEAGE\": \"annual_mileage\",\n",
    "                 \"VEHICLE_TYPE\": \"vehicle_type\", \"SPEEDING_VIOLATIONS\": \"num_speeding_violations\", \n",
    "                 \"DUIS\": \"num_duis\", \"PAST_ACCIDENTS\": \"num_past_accidents\", \"OUTCOME\": \"claim_made\"}\n",
    "\n",
    "claims_copy.rename(columns = new_name_dict, inplace = True)"
   ]
  },
  {
   "cell_type": "code",
   "execution_count": 8,
   "id": "7477a262-b546-4f7e-9495-aebb6db80c06",
   "metadata": {},
   "outputs": [
    {
     "data": {
      "text/html": [
       "<div>\n",
       "<style scoped>\n",
       "    .dataframe tbody tr th:only-of-type {\n",
       "        vertical-align: middle;\n",
       "    }\n",
       "\n",
       "    .dataframe tbody tr th {\n",
       "        vertical-align: top;\n",
       "    }\n",
       "\n",
       "    .dataframe thead th {\n",
       "        text-align: right;\n",
       "    }\n",
       "</style>\n",
       "<table border=\"1\" class=\"dataframe\">\n",
       "  <thead>\n",
       "    <tr style=\"text-align: right;\">\n",
       "      <th></th>\n",
       "      <th>id</th>\n",
       "      <th>age</th>\n",
       "      <th>gender</th>\n",
       "      <th>race</th>\n",
       "      <th>driving_experience</th>\n",
       "      <th>education_level</th>\n",
       "      <th>income_level</th>\n",
       "      <th>credit_score</th>\n",
       "      <th>vehicle_owned</th>\n",
       "      <th>vehicle_year</th>\n",
       "      <th>is_married</th>\n",
       "      <th>has_children</th>\n",
       "      <th>postal_code</th>\n",
       "      <th>annual_mileage</th>\n",
       "      <th>vehicle_type</th>\n",
       "      <th>num_speeding_violations</th>\n",
       "      <th>num_duis</th>\n",
       "      <th>num_past_accidents</th>\n",
       "      <th>claim_made</th>\n",
       "    </tr>\n",
       "  </thead>\n",
       "  <tbody>\n",
       "    <tr>\n",
       "      <th>0</th>\n",
       "      <td>569520</td>\n",
       "      <td>65+</td>\n",
       "      <td>female</td>\n",
       "      <td>majority</td>\n",
       "      <td>0-9y</td>\n",
       "      <td>high school</td>\n",
       "      <td>upper class</td>\n",
       "      <td>0.629027</td>\n",
       "      <td>1.0</td>\n",
       "      <td>after 2015</td>\n",
       "      <td>0.0</td>\n",
       "      <td>1.0</td>\n",
       "      <td>10238</td>\n",
       "      <td>12000.0</td>\n",
       "      <td>sedan</td>\n",
       "      <td>0</td>\n",
       "      <td>0</td>\n",
       "      <td>0</td>\n",
       "      <td>0.0</td>\n",
       "    </tr>\n",
       "    <tr>\n",
       "      <th>1</th>\n",
       "      <td>750365</td>\n",
       "      <td>16-25</td>\n",
       "      <td>male</td>\n",
       "      <td>majority</td>\n",
       "      <td>0-9y</td>\n",
       "      <td>none</td>\n",
       "      <td>poverty</td>\n",
       "      <td>0.357757</td>\n",
       "      <td>0.0</td>\n",
       "      <td>before 2015</td>\n",
       "      <td>0.0</td>\n",
       "      <td>0.0</td>\n",
       "      <td>10238</td>\n",
       "      <td>16000.0</td>\n",
       "      <td>sedan</td>\n",
       "      <td>0</td>\n",
       "      <td>0</td>\n",
       "      <td>0</td>\n",
       "      <td>1.0</td>\n",
       "    </tr>\n",
       "    <tr>\n",
       "      <th>2</th>\n",
       "      <td>199901</td>\n",
       "      <td>16-25</td>\n",
       "      <td>female</td>\n",
       "      <td>majority</td>\n",
       "      <td>0-9y</td>\n",
       "      <td>high school</td>\n",
       "      <td>working class</td>\n",
       "      <td>0.493146</td>\n",
       "      <td>1.0</td>\n",
       "      <td>before 2015</td>\n",
       "      <td>0.0</td>\n",
       "      <td>0.0</td>\n",
       "      <td>10238</td>\n",
       "      <td>11000.0</td>\n",
       "      <td>sedan</td>\n",
       "      <td>0</td>\n",
       "      <td>0</td>\n",
       "      <td>0</td>\n",
       "      <td>0.0</td>\n",
       "    </tr>\n",
       "    <tr>\n",
       "      <th>3</th>\n",
       "      <td>478866</td>\n",
       "      <td>16-25</td>\n",
       "      <td>male</td>\n",
       "      <td>majority</td>\n",
       "      <td>0-9y</td>\n",
       "      <td>university</td>\n",
       "      <td>working class</td>\n",
       "      <td>0.206013</td>\n",
       "      <td>1.0</td>\n",
       "      <td>before 2015</td>\n",
       "      <td>0.0</td>\n",
       "      <td>1.0</td>\n",
       "      <td>32765</td>\n",
       "      <td>11000.0</td>\n",
       "      <td>sedan</td>\n",
       "      <td>0</td>\n",
       "      <td>0</td>\n",
       "      <td>0</td>\n",
       "      <td>0.0</td>\n",
       "    </tr>\n",
       "    <tr>\n",
       "      <th>4</th>\n",
       "      <td>731664</td>\n",
       "      <td>26-39</td>\n",
       "      <td>male</td>\n",
       "      <td>majority</td>\n",
       "      <td>10-19y</td>\n",
       "      <td>none</td>\n",
       "      <td>working class</td>\n",
       "      <td>0.388366</td>\n",
       "      <td>1.0</td>\n",
       "      <td>before 2015</td>\n",
       "      <td>0.0</td>\n",
       "      <td>0.0</td>\n",
       "      <td>32765</td>\n",
       "      <td>12000.0</td>\n",
       "      <td>sedan</td>\n",
       "      <td>2</td>\n",
       "      <td>0</td>\n",
       "      <td>1</td>\n",
       "      <td>1.0</td>\n",
       "    </tr>\n",
       "  </tbody>\n",
       "</table>\n",
       "</div>"
      ],
      "text/plain": [
       "       id    age  gender      race driving_experience education_level  \\\n",
       "0  569520    65+  female  majority               0-9y     high school   \n",
       "1  750365  16-25    male  majority               0-9y            none   \n",
       "2  199901  16-25  female  majority               0-9y     high school   \n",
       "3  478866  16-25    male  majority               0-9y      university   \n",
       "4  731664  26-39    male  majority             10-19y            none   \n",
       "\n",
       "    income_level  credit_score  vehicle_owned vehicle_year  is_married  \\\n",
       "0    upper class      0.629027            1.0   after 2015         0.0   \n",
       "1        poverty      0.357757            0.0  before 2015         0.0   \n",
       "2  working class      0.493146            1.0  before 2015         0.0   \n",
       "3  working class      0.206013            1.0  before 2015         0.0   \n",
       "4  working class      0.388366            1.0  before 2015         0.0   \n",
       "\n",
       "   has_children  postal_code  annual_mileage vehicle_type  \\\n",
       "0           1.0        10238         12000.0        sedan   \n",
       "1           0.0        10238         16000.0        sedan   \n",
       "2           0.0        10238         11000.0        sedan   \n",
       "3           1.0        32765         11000.0        sedan   \n",
       "4           0.0        32765         12000.0        sedan   \n",
       "\n",
       "   num_speeding_violations  num_duis  num_past_accidents  claim_made  \n",
       "0                        0         0                   0         0.0  \n",
       "1                        0         0                   0         1.0  \n",
       "2                        0         0                   0         0.0  \n",
       "3                        0         0                   0         0.0  \n",
       "4                        2         0                   1         1.0  "
      ]
     },
     "execution_count": 8,
     "metadata": {},
     "output_type": "execute_result"
    }
   ],
   "source": [
    "claims_copy.head()"
   ]
  },
  {
   "cell_type": "code",
   "execution_count": 9,
   "id": "c6febb2d-4e40-4dfe-8cda-0c9eec510269",
   "metadata": {},
   "outputs": [
    {
     "data": {
      "text/plain": [
       "True"
      ]
     },
     "execution_count": 9,
     "metadata": {},
     "output_type": "execute_result"
    }
   ],
   "source": [
    "# Checking if id feature is unique identifier\n",
    "claims_copy[\"id\"].is_unique"
   ]
  },
  {
   "cell_type": "code",
   "execution_count": 10,
   "id": "01563ae9-2799-46f2-9f17-90cbe854defb",
   "metadata": {},
   "outputs": [],
   "source": [
    "# Dropping unique identifier column id\n",
    "claims_copy = claims_copy.drop(columns = \"id\")"
   ]
  },
  {
   "cell_type": "code",
   "execution_count": 11,
   "id": "20067918-9f66-43e4-aca7-9f44a297e783",
   "metadata": {},
   "outputs": [
    {
     "name": "stdout",
     "output_type": "stream",
     "text": [
      "<class 'pandas.core.frame.DataFrame'>\n",
      "RangeIndex: 10000 entries, 0 to 9999\n",
      "Data columns (total 18 columns):\n",
      " #   Column                   Non-Null Count  Dtype  \n",
      "---  ------                   --------------  -----  \n",
      " 0   age                      10000 non-null  object \n",
      " 1   gender                   10000 non-null  object \n",
      " 2   race                     10000 non-null  object \n",
      " 3   driving_experience       10000 non-null  object \n",
      " 4   education_level          10000 non-null  object \n",
      " 5   income_level             10000 non-null  object \n",
      " 6   credit_score             9018 non-null   float64\n",
      " 7   vehicle_owned            10000 non-null  float64\n",
      " 8   vehicle_year             10000 non-null  object \n",
      " 9   is_married               10000 non-null  float64\n",
      " 10  has_children             10000 non-null  float64\n",
      " 11  postal_code              10000 non-null  int64  \n",
      " 12  annual_mileage           9043 non-null   float64\n",
      " 13  vehicle_type             10000 non-null  object \n",
      " 14  num_speeding_violations  10000 non-null  int64  \n",
      " 15  num_duis                 10000 non-null  int64  \n",
      " 16  num_past_accidents       10000 non-null  int64  \n",
      " 17  claim_made               10000 non-null  float64\n",
      "dtypes: float64(6), int64(4), object(8)\n",
      "memory usage: 1.4+ MB\n"
     ]
    }
   ],
   "source": [
    "claims_copy.info()"
   ]
  },
  {
   "cell_type": "code",
   "execution_count": 12,
   "id": "506dc623-cd2d-45fa-8bad-97ec05874baf",
   "metadata": {},
   "outputs": [],
   "source": [
    "# Convert postal_code column to string datatype instead of integer\n",
    "claims_copy[\"postal_code\"] = claims_copy[\"postal_code\"].astype(str)"
   ]
  },
  {
   "cell_type": "code",
   "execution_count": 13,
   "id": "0687ae7a-bf37-4e16-b2c2-df871d973cd2",
   "metadata": {},
   "outputs": [
    {
     "data": {
      "text/plain": [
       "12"
      ]
     },
     "execution_count": 13,
     "metadata": {},
     "output_type": "execute_result"
    }
   ],
   "source": [
    "# Checking for duplicates \n",
    "claims_copy.duplicated().sum()"
   ]
  },
  {
   "cell_type": "code",
   "execution_count": 14,
   "id": "397bfef6-9959-4817-9ab8-8b11f5daf4a1",
   "metadata": {},
   "outputs": [],
   "source": [
    "# Dropping duplicate rows\n",
    "claims_copy.drop_duplicates(inplace = True)"
   ]
  },
  {
   "cell_type": "code",
   "execution_count": 15,
   "id": "b22b802a-5751-4fa8-940b-9b29ee5ec55d",
   "metadata": {},
   "outputs": [
    {
     "data": {
      "text/plain": [
       "(9988, 18)"
      ]
     },
     "execution_count": 15,
     "metadata": {},
     "output_type": "execute_result"
    }
   ],
   "source": [
    "claims_copy.shape"
   ]
  },
  {
   "cell_type": "code",
   "execution_count": 16,
   "id": "8fc8ddbe-cbb6-4076-8218-b32dc869bcc4",
   "metadata": {},
   "outputs": [
    {
     "data": {
      "text/html": [
       "<div>\n",
       "<style scoped>\n",
       "    .dataframe tbody tr th:only-of-type {\n",
       "        vertical-align: middle;\n",
       "    }\n",
       "\n",
       "    .dataframe tbody tr th {\n",
       "        vertical-align: top;\n",
       "    }\n",
       "\n",
       "    .dataframe thead th {\n",
       "        text-align: right;\n",
       "    }\n",
       "</style>\n",
       "<table border=\"1\" class=\"dataframe\">\n",
       "  <thead>\n",
       "    <tr style=\"text-align: right;\">\n",
       "      <th></th>\n",
       "      <th>credit_score</th>\n",
       "      <th>vehicle_owned</th>\n",
       "      <th>is_married</th>\n",
       "      <th>has_children</th>\n",
       "      <th>annual_mileage</th>\n",
       "      <th>num_speeding_violations</th>\n",
       "      <th>num_duis</th>\n",
       "      <th>num_past_accidents</th>\n",
       "      <th>claim_made</th>\n",
       "    </tr>\n",
       "  </thead>\n",
       "  <tbody>\n",
       "    <tr>\n",
       "      <th>count</th>\n",
       "      <td>9018.000000</td>\n",
       "      <td>9988.000000</td>\n",
       "      <td>9988.000000</td>\n",
       "      <td>9988.000000</td>\n",
       "      <td>9034.000000</td>\n",
       "      <td>9988.000000</td>\n",
       "      <td>9988.000000</td>\n",
       "      <td>9988.000000</td>\n",
       "      <td>9988.000000</td>\n",
       "    </tr>\n",
       "    <tr>\n",
       "      <th>mean</th>\n",
       "      <td>0.515813</td>\n",
       "      <td>0.697537</td>\n",
       "      <td>0.498698</td>\n",
       "      <td>0.689327</td>\n",
       "      <td>11694.598185</td>\n",
       "      <td>1.484581</td>\n",
       "      <td>0.239487</td>\n",
       "      <td>1.057369</td>\n",
       "      <td>0.312775</td>\n",
       "    </tr>\n",
       "    <tr>\n",
       "      <th>std</th>\n",
       "      <td>0.137688</td>\n",
       "      <td>0.459348</td>\n",
       "      <td>0.500023</td>\n",
       "      <td>0.462792</td>\n",
       "      <td>2818.004386</td>\n",
       "      <td>2.242766</td>\n",
       "      <td>0.555262</td>\n",
       "      <td>1.653047</td>\n",
       "      <td>0.463647</td>\n",
       "    </tr>\n",
       "    <tr>\n",
       "      <th>min</th>\n",
       "      <td>0.053358</td>\n",
       "      <td>0.000000</td>\n",
       "      <td>0.000000</td>\n",
       "      <td>0.000000</td>\n",
       "      <td>2000.000000</td>\n",
       "      <td>0.000000</td>\n",
       "      <td>0.000000</td>\n",
       "      <td>0.000000</td>\n",
       "      <td>0.000000</td>\n",
       "    </tr>\n",
       "    <tr>\n",
       "      <th>25%</th>\n",
       "      <td>0.417191</td>\n",
       "      <td>0.000000</td>\n",
       "      <td>0.000000</td>\n",
       "      <td>0.000000</td>\n",
       "      <td>10000.000000</td>\n",
       "      <td>0.000000</td>\n",
       "      <td>0.000000</td>\n",
       "      <td>0.000000</td>\n",
       "      <td>0.000000</td>\n",
       "    </tr>\n",
       "    <tr>\n",
       "      <th>50%</th>\n",
       "      <td>0.525033</td>\n",
       "      <td>1.000000</td>\n",
       "      <td>0.000000</td>\n",
       "      <td>1.000000</td>\n",
       "      <td>12000.000000</td>\n",
       "      <td>0.000000</td>\n",
       "      <td>0.000000</td>\n",
       "      <td>0.000000</td>\n",
       "      <td>0.000000</td>\n",
       "    </tr>\n",
       "    <tr>\n",
       "      <th>75%</th>\n",
       "      <td>0.618312</td>\n",
       "      <td>1.000000</td>\n",
       "      <td>1.000000</td>\n",
       "      <td>1.000000</td>\n",
       "      <td>14000.000000</td>\n",
       "      <td>2.000000</td>\n",
       "      <td>0.000000</td>\n",
       "      <td>2.000000</td>\n",
       "      <td>1.000000</td>\n",
       "    </tr>\n",
       "    <tr>\n",
       "      <th>max</th>\n",
       "      <td>0.960819</td>\n",
       "      <td>1.000000</td>\n",
       "      <td>1.000000</td>\n",
       "      <td>1.000000</td>\n",
       "      <td>22000.000000</td>\n",
       "      <td>22.000000</td>\n",
       "      <td>6.000000</td>\n",
       "      <td>15.000000</td>\n",
       "      <td>1.000000</td>\n",
       "    </tr>\n",
       "  </tbody>\n",
       "</table>\n",
       "</div>"
      ],
      "text/plain": [
       "       credit_score  vehicle_owned   is_married  has_children  annual_mileage  \\\n",
       "count   9018.000000    9988.000000  9988.000000   9988.000000     9034.000000   \n",
       "mean       0.515813       0.697537     0.498698      0.689327    11694.598185   \n",
       "std        0.137688       0.459348     0.500023      0.462792     2818.004386   \n",
       "min        0.053358       0.000000     0.000000      0.000000     2000.000000   \n",
       "25%        0.417191       0.000000     0.000000      0.000000    10000.000000   \n",
       "50%        0.525033       1.000000     0.000000      1.000000    12000.000000   \n",
       "75%        0.618312       1.000000     1.000000      1.000000    14000.000000   \n",
       "max        0.960819       1.000000     1.000000      1.000000    22000.000000   \n",
       "\n",
       "       num_speeding_violations     num_duis  num_past_accidents   claim_made  \n",
       "count              9988.000000  9988.000000         9988.000000  9988.000000  \n",
       "mean                  1.484581     0.239487            1.057369     0.312775  \n",
       "std                   2.242766     0.555262            1.653047     0.463647  \n",
       "min                   0.000000     0.000000            0.000000     0.000000  \n",
       "25%                   0.000000     0.000000            0.000000     0.000000  \n",
       "50%                   0.000000     0.000000            0.000000     0.000000  \n",
       "75%                   2.000000     0.000000            2.000000     1.000000  \n",
       "max                  22.000000     6.000000           15.000000     1.000000  "
      ]
     },
     "execution_count": 16,
     "metadata": {},
     "output_type": "execute_result"
    }
   ],
   "source": [
    "claims_copy.describe()"
   ]
  },
  {
   "cell_type": "code",
   "execution_count": 17,
   "id": "c439bc5a-8e4e-4ad4-a755-f4157bd16bc8",
   "metadata": {},
   "outputs": [
    {
     "data": {
      "text/html": [
       "<div>\n",
       "<style scoped>\n",
       "    .dataframe tbody tr th:only-of-type {\n",
       "        vertical-align: middle;\n",
       "    }\n",
       "\n",
       "    .dataframe tbody tr th {\n",
       "        vertical-align: top;\n",
       "    }\n",
       "\n",
       "    .dataframe thead th {\n",
       "        text-align: right;\n",
       "    }\n",
       "</style>\n",
       "<table border=\"1\" class=\"dataframe\">\n",
       "  <thead>\n",
       "    <tr style=\"text-align: right;\">\n",
       "      <th></th>\n",
       "      <th>age</th>\n",
       "      <th>gender</th>\n",
       "      <th>race</th>\n",
       "      <th>driving_experience</th>\n",
       "      <th>education_level</th>\n",
       "      <th>income_level</th>\n",
       "      <th>vehicle_year</th>\n",
       "      <th>postal_code</th>\n",
       "      <th>vehicle_type</th>\n",
       "    </tr>\n",
       "  </thead>\n",
       "  <tbody>\n",
       "    <tr>\n",
       "      <th>count</th>\n",
       "      <td>9988</td>\n",
       "      <td>9988</td>\n",
       "      <td>9988</td>\n",
       "      <td>9988</td>\n",
       "      <td>9988</td>\n",
       "      <td>9988</td>\n",
       "      <td>9988</td>\n",
       "      <td>9988</td>\n",
       "      <td>9988</td>\n",
       "    </tr>\n",
       "    <tr>\n",
       "      <th>unique</th>\n",
       "      <td>4</td>\n",
       "      <td>2</td>\n",
       "      <td>2</td>\n",
       "      <td>4</td>\n",
       "      <td>3</td>\n",
       "      <td>4</td>\n",
       "      <td>2</td>\n",
       "      <td>4</td>\n",
       "      <td>2</td>\n",
       "    </tr>\n",
       "    <tr>\n",
       "      <th>top</th>\n",
       "      <td>26-39</td>\n",
       "      <td>female</td>\n",
       "      <td>majority</td>\n",
       "      <td>0-9y</td>\n",
       "      <td>high school</td>\n",
       "      <td>upper class</td>\n",
       "      <td>before 2015</td>\n",
       "      <td>10238</td>\n",
       "      <td>sedan</td>\n",
       "    </tr>\n",
       "    <tr>\n",
       "      <th>freq</th>\n",
       "      <td>3062</td>\n",
       "      <td>5003</td>\n",
       "      <td>9000</td>\n",
       "      <td>3519</td>\n",
       "      <td>4151</td>\n",
       "      <td>4335</td>\n",
       "      <td>6955</td>\n",
       "      <td>6929</td>\n",
       "      <td>9511</td>\n",
       "    </tr>\n",
       "  </tbody>\n",
       "</table>\n",
       "</div>"
      ],
      "text/plain": [
       "          age  gender      race driving_experience education_level  \\\n",
       "count    9988    9988      9988               9988            9988   \n",
       "unique      4       2         2                  4               3   \n",
       "top     26-39  female  majority               0-9y     high school   \n",
       "freq     3062    5003      9000               3519            4151   \n",
       "\n",
       "       income_level vehicle_year postal_code vehicle_type  \n",
       "count          9988         9988        9988         9988  \n",
       "unique            4            2           4            2  \n",
       "top     upper class  before 2015       10238        sedan  \n",
       "freq           4335         6955        6929         9511  "
      ]
     },
     "execution_count": 17,
     "metadata": {},
     "output_type": "execute_result"
    }
   ],
   "source": [
    "claims_copy.describe(include=\"object\")"
   ]
  },
  {
   "cell_type": "code",
   "execution_count": 18,
   "id": "afb882a0-8246-485a-bd55-717ea02ec7ea",
   "metadata": {},
   "outputs": [
    {
     "data": {
      "text/plain": [
       "age                          0\n",
       "gender                       0\n",
       "race                         0\n",
       "driving_experience           0\n",
       "education_level              0\n",
       "income_level                 0\n",
       "credit_score               970\n",
       "vehicle_owned                0\n",
       "vehicle_year                 0\n",
       "is_married                   0\n",
       "has_children                 0\n",
       "postal_code                  0\n",
       "annual_mileage             954\n",
       "vehicle_type                 0\n",
       "num_speeding_violations      0\n",
       "num_duis                     0\n",
       "num_past_accidents           0\n",
       "claim_made                   0\n",
       "dtype: int64"
      ]
     },
     "execution_count": 18,
     "metadata": {},
     "output_type": "execute_result"
    }
   ],
   "source": [
    "# Check for null values in columns\n",
    "np.sum(claims_copy.isnull())"
   ]
  },
  {
   "cell_type": "code",
   "execution_count": 19,
   "id": "d8964e87-d9ff-4f0a-ba0a-dc80514c2ebe",
   "metadata": {},
   "outputs": [
    {
     "name": "stdout",
     "output_type": "stream",
     "text": [
      "Positive claims: 3124\n",
      "Negative claims: 6864\n"
     ]
    }
   ],
   "source": [
    "# Check for class inbalance in the target feature\n",
    "postive_claim_count = 0\n",
    "negative_claim_count = 0\n",
    "\n",
    "for i in range(len(claims_copy[\"claim_made\"])):\n",
    "    if claims_copy[\"claim_made\"].iloc[i] == 1:\n",
    "        postive_claim_count += 1\n",
    "    else:\n",
    "        negative_claim_count += 1\n",
    "\n",
    "print(f\"Positive claims: {postive_claim_count}\")\n",
    "print(f\"Negative claims: {negative_claim_count}\")"
   ]
  },
  {
   "cell_type": "code",
   "execution_count": 20,
   "id": "69713a41-df34-4800-b5b4-ea7562c9cd5e",
   "metadata": {},
   "outputs": [
    {
     "data": {
      "image/png": "[encoded data removed]",
      "text/plain": [
       "<Figure size 600x600 with 1 Axes>"
      ]
     },
     "metadata": {},
     "output_type": "display_data"
    }
   ],
   "source": [
    "# Plot distribution of claims\n",
    "claim_counts = claims_copy[\"claim_made\"].value_counts().reindex([0.0, 1.0])\n",
    "\n",
    "plt.figure(figsize=(6, 6))\n",
    "plt.bar(claim_counts.index, claim_counts.values, color=[\"darkblue\", \"darkred\"])\n",
    "plt.xlabel(\"Claim Status\")\n",
    "plt.ylabel(\"Count\")\n",
    "plt.title(\"Distribution of Claims\")\n",
    "\n",
    "plt.xticks([0, 1], labels=[\"No Claim\", \"Claim Made\"])\n",
    "\n",
    "plt.show()"
   ]
  },
  {
   "cell_type": "markdown",
   "id": "03da14a7-0298-489e-a303-28d42556c8b4",
   "metadata": {},
   "source": [
    "Since this dataset has a class imbalance in the target feature (claims made vs not made), we will utilize stratified sampling while splitting our data\n",
    "\n",
    "Later, we will also use oversampling on our training set to fit the data without the class imbalance"
   ]
  },
  {
   "cell_type": "markdown",
   "id": "ae8850c9-c119-40c1-99b6-80f4848245de",
   "metadata": {},
   "source": [
    "#### 1.2 Creating Training/Test Split"
   ]
  },
  {
   "cell_type": "code",
   "execution_count": 23,
   "id": "7ce729a2-f3fb-4363-8dad-511ba2fe8a27",
   "metadata": {},
   "outputs": [],
   "source": [
    "# Creating training test split while stratifying by driving experience\n",
    "X = claims_copy.copy()\n",
    "y = claims_copy[\"claim_made\"]\n",
    "\n",
    "# Dropping target feature\n",
    "X = X.drop(columns = \"claim_made\", inplace = False)\n",
    "\n",
    "# Creating training test split\n",
    "X_train, X_test, y_train, y_test = train_test_split(X, y, test_size = 0.2, stratify = claims_copy[\"claim_made\"], random_state = 42)"
   ]
  },
  {
   "cell_type": "code",
   "execution_count": 24,
   "id": "e295036d-296a-46d2-b8df-120a09ab4aa5",
   "metadata": {},
   "outputs": [
    {
     "name": "stdout",
     "output_type": "stream",
     "text": [
      "claim_made\n",
      "0.0    0.687234\n",
      "1.0    0.312766\n",
      "Name: count, dtype: float64\n",
      "claim_made\n",
      "0.0    0.687187\n",
      "1.0    0.312813\n",
      "Name: count, dtype: float64\n"
     ]
    }
   ],
   "source": [
    "# Checking whether the distribution of claims made/not made is relatively equal between training and test sets \n",
    "training_label_distrib = y_train.value_counts() / len(y_train)\n",
    "test_label_distrib = y_test.value_counts() / len(y_test)\n",
    "\n",
    "print(training_label_distrib)\n",
    "print(test_label_distrib)"
   ]
  },
  {
   "cell_type": "markdown",
   "id": "f5273c5e-8b44-45f7-9764-b33478f1fcf2",
   "metadata": {},
   "source": [
    "## 2. Exploratory Data Analysis\n",
    "\n",
    "#### 2.1 Sorting features"
   ]
  },
  {
   "cell_type": "code",
   "execution_count": 26,
   "id": "ed4fca9f-0b2c-499c-8dfe-c9586d05d696",
   "metadata": {},
   "outputs": [],
   "source": [
    "# Creating a copy of training set for EDA\n",
    "eda_data = X_train.copy()\n",
    "eda_data[\"claim_made\"] = y_train"
   ]
  },
  {
   "cell_type": "code",
   "execution_count": 27,
   "id": "04f6bc36-5fd2-44d4-b650-ac5fca6b1b9d",
   "metadata": {},
   "outputs": [
    {
     "name": "stdout",
     "output_type": "stream",
     "text": [
      "credit_score\n",
      "0.378046    1\n",
      "0.588605    1\n",
      "0.488311    1\n",
      "0.326033    1\n",
      "0.623790    1\n",
      "           ..\n",
      "0.581499    1\n",
      "0.578371    1\n",
      "0.125896    1\n",
      "0.430522    1\n",
      "0.670803    1\n",
      "Name: count, Length: 7207, dtype: int64\n",
      "vehicle_owned\n",
      "1.0    5617\n",
      "0.0    2373\n",
      "Name: count, dtype: int64\n",
      "is_married\n",
      "0.0    4030\n",
      "1.0    3960\n",
      "Name: count, dtype: int64\n",
      "has_children\n",
      "1.0    5512\n",
      "0.0    2478\n",
      "Name: count, dtype: int64\n",
      "annual_mileage\n",
      "12000.0    989\n",
      "11000.0    984\n",
      "13000.0    924\n",
      "10000.0    836\n",
      "14000.0    720\n",
      "9000.0     688\n",
      "15000.0    511\n",
      "8000.0     456\n",
      "16000.0    330\n",
      "7000.0     259\n",
      "17000.0    196\n",
      "6000.0     133\n",
      "18000.0     86\n",
      "5000.0      52\n",
      "19000.0     35\n",
      "4000.0      17\n",
      "20000.0     11\n",
      "3000.0       7\n",
      "22000.0      2\n",
      "2000.0       2\n",
      "Name: count, dtype: int64\n",
      "num_speeding_violations\n",
      "0     4029\n",
      "1     1238\n",
      "2      916\n",
      "3      669\n",
      "4      420\n",
      "5      250\n",
      "6      148\n",
      "7      110\n",
      "8       64\n",
      "10      43\n",
      "9       40\n",
      "11      25\n",
      "12      12\n",
      "13       9\n",
      "15       6\n",
      "14       4\n",
      "16       3\n",
      "17       1\n",
      "18       1\n",
      "22       1\n",
      "19       1\n",
      "Name: count, dtype: int64\n",
      "num_duis\n",
      "0    6470\n",
      "1    1182\n",
      "2     271\n",
      "3      56\n",
      "4       8\n",
      "5       2\n",
      "6       1\n",
      "Name: count, dtype: int64\n",
      "num_past_accidents\n",
      "0     4446\n",
      "1     1427\n",
      "2      878\n",
      "3      523\n",
      "4      302\n",
      "5      190\n",
      "6      116\n",
      "7       49\n",
      "8       26\n",
      "9       16\n",
      "10       7\n",
      "11       6\n",
      "12       2\n",
      "14       1\n",
      "15       1\n",
      "Name: count, dtype: int64\n",
      "claim_made\n",
      "0.0    5491\n",
      "1.0    2499\n",
      "Name: count, dtype: int64\n"
     ]
    }
   ],
   "source": [
    "# Exploring numeral type column values\n",
    "for col in eda_data.select_dtypes(include=[np.number]).columns:\n",
    "    print(eda_data[col].value_counts())"
   ]
  },
  {
   "cell_type": "markdown",
   "id": "96df589c-6f1d-4a12-bb2e-e04e57b1e79a",
   "metadata": {},
   "source": [
    "Binary numerical columns: is_married, has_children, vehicle_owned, claim_made\n",
    "\n",
    "Unique numerical columns: credit_score, annual_mileage, num_speeding_violations, num_duis, num_past_accidentschildren"
   ]
  },
  {
   "cell_type": "code",
   "execution_count": 29,
   "id": "2a780238-3ecf-4491-866e-17c7ef44c4e1",
   "metadata": {},
   "outputs": [
    {
     "name": "stdout",
     "output_type": "stream",
     "text": [
      "age\n",
      "26-39    2473\n",
      "40-64    2324\n",
      "16-25    1599\n",
      "65+      1594\n",
      "Name: count, dtype: int64\n",
      "gender\n",
      "female    4011\n",
      "male      3979\n",
      "Name: count, dtype: int64\n",
      "race\n",
      "majority    7212\n",
      "minority     778\n",
      "Name: count, dtype: int64\n",
      "driving_experience\n",
      "0-9y      2812\n",
      "10-19y    2648\n",
      "20-29y    1682\n",
      "30y+       848\n",
      "Name: count, dtype: int64\n",
      "education_level\n",
      "high school    3318\n",
      "university     3141\n",
      "none           1531\n",
      "Name: count, dtype: int64\n",
      "income_level\n",
      "upper class      3453\n",
      "middle class     1708\n",
      "poverty          1450\n",
      "working class    1379\n",
      "Name: count, dtype: int64\n",
      "vehicle_year\n",
      "before 2015    5556\n",
      "after 2015     2434\n",
      "Name: count, dtype: int64\n",
      "postal_code\n",
      "10238    5571\n",
      "32765    1932\n",
      "92101     399\n",
      "21217      88\n",
      "Name: count, dtype: int64\n",
      "vehicle_type\n",
      "sedan         7624\n",
      "sports car     366\n",
      "Name: count, dtype: int64\n"
     ]
    }
   ],
   "source": [
    "# Exploring object type columns and their values \n",
    "for col in eda_data.select_dtypes(include=[object]).columns:\n",
    "    print(eda_data[col].value_counts())"
   ]
  },
  {
   "cell_type": "markdown",
   "id": "50ff1f9e-6d2f-40f8-aef1-9fb0f9388bad",
   "metadata": {},
   "source": [
    "Binary Categorical Columns: gender, race, vehicle_year, vehicle_type\n",
    "\n",
    "Ordinal Categorical Columns: driving_experience, education_level, income_level\n",
    "\n",
    "Nominal Categorical Columns: age, postal_code"
   ]
  },
  {
   "cell_type": "code",
   "execution_count": 31,
   "id": "2ab1aeae-c42d-43d4-ad52-f22f77e34c2e",
   "metadata": {},
   "outputs": [
    {
     "data": {
      "text/html": [
       "<div>\n",
       "<style scoped>\n",
       "    .dataframe tbody tr th:only-of-type {\n",
       "        vertical-align: middle;\n",
       "    }\n",
       "\n",
       "    .dataframe tbody tr th {\n",
       "        vertical-align: top;\n",
       "    }\n",
       "\n",
       "    .dataframe thead th {\n",
       "        text-align: right;\n",
       "    }\n",
       "</style>\n",
       "<table border=\"1\" class=\"dataframe\">\n",
       "  <thead>\n",
       "    <tr style=\"text-align: right;\">\n",
       "      <th></th>\n",
       "      <th>age</th>\n",
       "      <th>gender</th>\n",
       "      <th>race</th>\n",
       "      <th>driving_experience</th>\n",
       "      <th>education_level</th>\n",
       "      <th>income_level</th>\n",
       "      <th>credit_score</th>\n",
       "      <th>vehicle_owned</th>\n",
       "      <th>vehicle_year</th>\n",
       "      <th>is_married</th>\n",
       "      <th>has_children</th>\n",
       "      <th>postal_code</th>\n",
       "      <th>annual_mileage</th>\n",
       "      <th>vehicle_type</th>\n",
       "      <th>num_speeding_violations</th>\n",
       "      <th>num_duis</th>\n",
       "      <th>num_past_accidents</th>\n",
       "      <th>claim_made</th>\n",
       "    </tr>\n",
       "  </thead>\n",
       "  <tbody>\n",
       "    <tr>\n",
       "      <th>1310</th>\n",
       "      <td>26-39</td>\n",
       "      <td>1</td>\n",
       "      <td>0</td>\n",
       "      <td>10-19y</td>\n",
       "      <td>none</td>\n",
       "      <td>working class</td>\n",
       "      <td>0.378046</td>\n",
       "      <td>0.0</td>\n",
       "      <td>1</td>\n",
       "      <td>0.0</td>\n",
       "      <td>0.0</td>\n",
       "      <td>10238</td>\n",
       "      <td>13000.0</td>\n",
       "      <td>0</td>\n",
       "      <td>2</td>\n",
       "      <td>1</td>\n",
       "      <td>3</td>\n",
       "      <td>0.0</td>\n",
       "    </tr>\n",
       "    <tr>\n",
       "      <th>156</th>\n",
       "      <td>16-25</td>\n",
       "      <td>0</td>\n",
       "      <td>0</td>\n",
       "      <td>0-9y</td>\n",
       "      <td>none</td>\n",
       "      <td>poverty</td>\n",
       "      <td>NaN</td>\n",
       "      <td>0.0</td>\n",
       "      <td>0</td>\n",
       "      <td>0.0</td>\n",
       "      <td>0.0</td>\n",
       "      <td>21217</td>\n",
       "      <td>14000.0</td>\n",
       "      <td>0</td>\n",
       "      <td>0</td>\n",
       "      <td>0</td>\n",
       "      <td>0</td>\n",
       "      <td>1.0</td>\n",
       "    </tr>\n",
       "    <tr>\n",
       "      <th>3581</th>\n",
       "      <td>65+</td>\n",
       "      <td>0</td>\n",
       "      <td>0</td>\n",
       "      <td>0-9y</td>\n",
       "      <td>university</td>\n",
       "      <td>upper class</td>\n",
       "      <td>0.590250</td>\n",
       "      <td>1.0</td>\n",
       "      <td>1</td>\n",
       "      <td>1.0</td>\n",
       "      <td>1.0</td>\n",
       "      <td>10238</td>\n",
       "      <td>12000.0</td>\n",
       "      <td>0</td>\n",
       "      <td>0</td>\n",
       "      <td>0</td>\n",
       "      <td>0</td>\n",
       "      <td>0.0</td>\n",
       "    </tr>\n",
       "    <tr>\n",
       "      <th>3322</th>\n",
       "      <td>26-39</td>\n",
       "      <td>0</td>\n",
       "      <td>0</td>\n",
       "      <td>10-19y</td>\n",
       "      <td>university</td>\n",
       "      <td>upper class</td>\n",
       "      <td>0.747843</td>\n",
       "      <td>1.0</td>\n",
       "      <td>0</td>\n",
       "      <td>1.0</td>\n",
       "      <td>1.0</td>\n",
       "      <td>32765</td>\n",
       "      <td>13000.0</td>\n",
       "      <td>0</td>\n",
       "      <td>1</td>\n",
       "      <td>0</td>\n",
       "      <td>0</td>\n",
       "      <td>0.0</td>\n",
       "    </tr>\n",
       "    <tr>\n",
       "      <th>8547</th>\n",
       "      <td>65+</td>\n",
       "      <td>1</td>\n",
       "      <td>0</td>\n",
       "      <td>0-9y</td>\n",
       "      <td>high school</td>\n",
       "      <td>upper class</td>\n",
       "      <td>0.730233</td>\n",
       "      <td>1.0</td>\n",
       "      <td>0</td>\n",
       "      <td>0.0</td>\n",
       "      <td>0.0</td>\n",
       "      <td>32765</td>\n",
       "      <td>11000.0</td>\n",
       "      <td>0</td>\n",
       "      <td>0</td>\n",
       "      <td>0</td>\n",
       "      <td>0</td>\n",
       "      <td>1.0</td>\n",
       "    </tr>\n",
       "    <tr>\n",
       "      <th>...</th>\n",
       "      <td>...</td>\n",
       "      <td>...</td>\n",
       "      <td>...</td>\n",
       "      <td>...</td>\n",
       "      <td>...</td>\n",
       "      <td>...</td>\n",
       "      <td>...</td>\n",
       "      <td>...</td>\n",
       "      <td>...</td>\n",
       "      <td>...</td>\n",
       "      <td>...</td>\n",
       "      <td>...</td>\n",
       "      <td>...</td>\n",
       "      <td>...</td>\n",
       "      <td>...</td>\n",
       "      <td>...</td>\n",
       "      <td>...</td>\n",
       "      <td>...</td>\n",
       "    </tr>\n",
       "    <tr>\n",
       "      <th>5892</th>\n",
       "      <td>26-39</td>\n",
       "      <td>0</td>\n",
       "      <td>0</td>\n",
       "      <td>0-9y</td>\n",
       "      <td>high school</td>\n",
       "      <td>working class</td>\n",
       "      <td>0.420189</td>\n",
       "      <td>0.0</td>\n",
       "      <td>1</td>\n",
       "      <td>1.0</td>\n",
       "      <td>1.0</td>\n",
       "      <td>10238</td>\n",
       "      <td>9000.0</td>\n",
       "      <td>0</td>\n",
       "      <td>0</td>\n",
       "      <td>0</td>\n",
       "      <td>0</td>\n",
       "      <td>1.0</td>\n",
       "    </tr>\n",
       "    <tr>\n",
       "      <th>3135</th>\n",
       "      <td>16-25</td>\n",
       "      <td>1</td>\n",
       "      <td>0</td>\n",
       "      <td>0-9y</td>\n",
       "      <td>none</td>\n",
       "      <td>working class</td>\n",
       "      <td>0.583197</td>\n",
       "      <td>1.0</td>\n",
       "      <td>0</td>\n",
       "      <td>0.0</td>\n",
       "      <td>1.0</td>\n",
       "      <td>10238</td>\n",
       "      <td>NaN</td>\n",
       "      <td>0</td>\n",
       "      <td>0</td>\n",
       "      <td>0</td>\n",
       "      <td>0</td>\n",
       "      <td>1.0</td>\n",
       "    </tr>\n",
       "    <tr>\n",
       "      <th>1822</th>\n",
       "      <td>16-25</td>\n",
       "      <td>0</td>\n",
       "      <td>0</td>\n",
       "      <td>0-9y</td>\n",
       "      <td>high school</td>\n",
       "      <td>poverty</td>\n",
       "      <td>0.326029</td>\n",
       "      <td>0.0</td>\n",
       "      <td>0</td>\n",
       "      <td>1.0</td>\n",
       "      <td>0.0</td>\n",
       "      <td>10238</td>\n",
       "      <td>19000.0</td>\n",
       "      <td>0</td>\n",
       "      <td>0</td>\n",
       "      <td>0</td>\n",
       "      <td>0</td>\n",
       "      <td>1.0</td>\n",
       "    </tr>\n",
       "    <tr>\n",
       "      <th>9259</th>\n",
       "      <td>16-25</td>\n",
       "      <td>0</td>\n",
       "      <td>0</td>\n",
       "      <td>0-9y</td>\n",
       "      <td>none</td>\n",
       "      <td>working class</td>\n",
       "      <td>0.382970</td>\n",
       "      <td>1.0</td>\n",
       "      <td>1</td>\n",
       "      <td>1.0</td>\n",
       "      <td>0.0</td>\n",
       "      <td>10238</td>\n",
       "      <td>14000.0</td>\n",
       "      <td>0</td>\n",
       "      <td>0</td>\n",
       "      <td>0</td>\n",
       "      <td>0</td>\n",
       "      <td>0.0</td>\n",
       "    </tr>\n",
       "    <tr>\n",
       "      <th>5061</th>\n",
       "      <td>65+</td>\n",
       "      <td>1</td>\n",
       "      <td>0</td>\n",
       "      <td>10-19y</td>\n",
       "      <td>none</td>\n",
       "      <td>upper class</td>\n",
       "      <td>0.670803</td>\n",
       "      <td>1.0</td>\n",
       "      <td>1</td>\n",
       "      <td>1.0</td>\n",
       "      <td>0.0</td>\n",
       "      <td>10238</td>\n",
       "      <td>13000.0</td>\n",
       "      <td>0</td>\n",
       "      <td>4</td>\n",
       "      <td>0</td>\n",
       "      <td>2</td>\n",
       "      <td>0.0</td>\n",
       "    </tr>\n",
       "  </tbody>\n",
       "</table>\n",
       "<p>7990 rows × 18 columns</p>\n",
       "</div>"
      ],
      "text/plain": [
       "        age  gender  race driving_experience education_level   income_level  \\\n",
       "1310  26-39       1     0             10-19y            none  working class   \n",
       "156   16-25       0     0               0-9y            none        poverty   \n",
       "3581    65+       0     0               0-9y      university    upper class   \n",
       "3322  26-39       0     0             10-19y      university    upper class   \n",
       "8547    65+       1     0               0-9y     high school    upper class   \n",
       "...     ...     ...   ...                ...             ...            ...   \n",
       "5892  26-39       0     0               0-9y     high school  working class   \n",
       "3135  16-25       1     0               0-9y            none  working class   \n",
       "1822  16-25       0     0               0-9y     high school        poverty   \n",
       "9259  16-25       0     0               0-9y            none  working class   \n",
       "5061    65+       1     0             10-19y            none    upper class   \n",
       "\n",
       "      credit_score  vehicle_owned  vehicle_year  is_married  has_children  \\\n",
       "1310      0.378046            0.0             1         0.0           0.0   \n",
       "156            NaN            0.0             0         0.0           0.0   \n",
       "3581      0.590250            1.0             1         1.0           1.0   \n",
       "3322      0.747843            1.0             0         1.0           1.0   \n",
       "8547      0.730233            1.0             0         0.0           0.0   \n",
       "...            ...            ...           ...         ...           ...   \n",
       "5892      0.420189            0.0             1         1.0           1.0   \n",
       "3135      0.583197            1.0             0         0.0           1.0   \n",
       "1822      0.326029            0.0             0         1.0           0.0   \n",
       "9259      0.382970            1.0             1         1.0           0.0   \n",
       "5061      0.670803            1.0             1         1.0           0.0   \n",
       "\n",
       "     postal_code  annual_mileage  vehicle_type  num_speeding_violations  \\\n",
       "1310       10238         13000.0             0                        2   \n",
       "156        21217         14000.0             0                        0   \n",
       "3581       10238         12000.0             0                        0   \n",
       "3322       32765         13000.0             0                        1   \n",
       "8547       32765         11000.0             0                        0   \n",
       "...          ...             ...           ...                      ...   \n",
       "5892       10238          9000.0             0                        0   \n",
       "3135       10238             NaN             0                        0   \n",
       "1822       10238         19000.0             0                        0   \n",
       "9259       10238         14000.0             0                        0   \n",
       "5061       10238         13000.0             0                        4   \n",
       "\n",
       "      num_duis  num_past_accidents  claim_made  \n",
       "1310         1                   3         0.0  \n",
       "156          0                   0         1.0  \n",
       "3581         0                   0         0.0  \n",
       "3322         0                   0         0.0  \n",
       "8547         0                   0         1.0  \n",
       "...        ...                 ...         ...  \n",
       "5892         0                   0         1.0  \n",
       "3135         0                   0         1.0  \n",
       "1822         0                   0         1.0  \n",
       "9259         0                   0         0.0  \n",
       "5061         0                   2         0.0  \n",
       "\n",
       "[7990 rows x 18 columns]"
      ]
     },
     "execution_count": 31,
     "metadata": {},
     "output_type": "execute_result"
    }
   ],
   "source": [
    "# Transform binary object columns into having numerical values before exploratory data analysis\n",
    "binary_cols = [\"gender\", \"race\", \"vehicle_year\", \"vehicle_type\"]\n",
    "\n",
    "mapping = {\"male\": 1,\n",
    "           \"female\": 0,\n",
    "           \"minority\": 1,\n",
    "           \"majority\": 0,\n",
    "           \"after 2015\": 1,\n",
    "           \"before 2015\": 0,\n",
    "           \"sports car\": 1,\n",
    "           \"sedan\": 0}\n",
    "\n",
    "def binarize_values(data, cols, map):\n",
    "    for col in cols:\n",
    "        data[col] = data[col].map(map)\n",
    "    return data\n",
    "\n",
    "binarize_values(eda_data, binary_cols, mapping)"
   ]
  },
  {
   "cell_type": "markdown",
   "id": "63bf4e4b-0988-4fb7-93c4-983958981987",
   "metadata": {},
   "source": [
    "#### 2.2 Analyzing Categorical Features\n",
    "\n",
    "Let's analyze how some promising categorical features and how they are correlated to the claim_made column:"
   ]
  },
  {
   "cell_type": "code",
   "execution_count": 33,
   "id": "bf95243f-f850-4996-9a56-041e333483a8",
   "metadata": {},
   "outputs": [
    {
     "data": {
      "text/plain": [
       "education_level\n",
       "none           0.191615\n",
       "high school    0.415269\n",
       "university     0.393116\n",
       "Name: count, dtype: float64"
      ]
     },
     "metadata": {},
     "output_type": "display_data"
    },
    {
     "data": {
      "image/png": "[encoded data removed]",
      "text/plain": [
       "<Figure size 640x480 with 1 Axes>"
      ]
     },
     "metadata": {},
     "output_type": "display_data"
    },
    {
     "data": {
      "text/plain": [
       "education_level\n",
       "none           0.089487\n",
       "high school    0.132290\n",
       "university     0.090989\n",
       "Name: count, dtype: float64"
      ]
     },
     "metadata": {},
     "output_type": "display_data"
    },
    {
     "data": {
      "image/png": "[encoded data removed]",
      "text/plain": [
       "<Figure size 640x480 with 1 Axes>"
      ]
     },
     "metadata": {},
     "output_type": "display_data"
    }
   ],
   "source": [
    "# Comparing education level to education level when a claim is made\n",
    "\n",
    "# Number of rows in the data\n",
    "num_rows = eda_data.shape[0]\n",
    "\n",
    "#Sorting education level in ascending order\n",
    "edu_order = [\"none\", \"high school\", \"university\"]\n",
    "eda_data[\"education_level\"] = pd.Categorical(eda_data[\"education_level\"], categories=edu_order, ordered=True)\n",
    "edu_vals = eda_data[\"education_level\"].value_counts(sort=False)\n",
    "\n",
    "#Plotting distribution\n",
    "display(edu_vals / num_rows)\n",
    "(edu_vals / num_rows).plot(kind=\"bar\")\n",
    "plt.title(\"Education Level Distribution\")\n",
    "plt.show()\n",
    "\n",
    "# Extracting/plotting education_level distribution when a claim is made\n",
    "pos_claims_edu = eda_data[eda_data[\"claim_made\"] == 1][\"education_level\"].value_counts(sort=False)\n",
    "display(pos_claims_edu / num_rows)\n",
    "(pos_claims_edu / num_rows).plot(kind=\"bar\")\n",
    "plt.title(\"Education Level Distribution for Postive Claims\")\n",
    "plt.show()"
   ]
  },
  {
   "cell_type": "markdown",
   "id": "1fd2fffa-93fb-4514-9d5e-8771e9100269",
   "metadata": {},
   "source": [
    "Our bar charts show a weak-moderate correlation between higher education level and lower chances of filing a claim\n",
    "\n",
    "Now let's see how income level is correlated in these circumstances"
   ]
  },
  {
   "cell_type": "code",
   "execution_count": 35,
   "id": "6a2efbf5-eb3c-4d6c-9acf-8d939203e416",
   "metadata": {},
   "outputs": [
    {
     "data": {
      "text/plain": [
       "income_level\n",
       "poverty          0.181477\n",
       "working class    0.172591\n",
       "middle class     0.213767\n",
       "upper class      0.432165\n",
       "Name: count, dtype: float64"
      ]
     },
     "metadata": {},
     "output_type": "display_data"
    },
    {
     "data": {
      "image/png": "[encoded data removed]",
      "text/plain": [
       "<Figure size 640x480 with 1 Axes>"
      ]
     },
     "metadata": {},
     "output_type": "display_data"
    },
    {
     "data": {
      "text/plain": [
       "income_level\n",
       "poverty          0.117146\n",
       "working class    0.078223\n",
       "middle class     0.059825\n",
       "upper class      0.057572\n",
       "Name: count, dtype: float64"
      ]
     },
     "metadata": {},
     "output_type": "display_data"
    },
    {
     "data": {
      "image/png": "[encoded data removed]",
      "text/plain": [
       "<Figure size 640x480 with 1 Axes>"
      ]
     },
     "metadata": {},
     "output_type": "display_data"
    }
   ],
   "source": [
    "# Comparing income distribution to income distribution when a claim is made\n",
    "income_order = [\"poverty\", \"working class\", \"middle class\", \"upper class\"]\n",
    "eda_data[\"income_level\"] = pd.Categorical(eda_data[\"income_level\"], categories=income_order, ordered=True)\n",
    "income_vals = eda_data[\"income_level\"].value_counts(sort=False)\n",
    "\n",
    "#Plotting distribution\n",
    "display(income_vals / num_rows)\n",
    "(income_vals / num_rows).plot(kind=\"bar\")\n",
    "plt.title(\"Income Level Distribution\")\n",
    "plt.show()\n",
    "\n",
    "# Extracting/plotting education_level distribution when a claim is made\n",
    "pos_claims_income = eda_data[eda_data[\"claim_made\"] == 1][\"income_level\"].value_counts(sort=False)\n",
    "display(pos_claims_income / num_rows)\n",
    "(pos_claims_income / num_rows).plot(kind=\"bar\")\n",
    "plt.title(\"Income Level Distribution for Postive Claims\")\n",
    "plt.show()"
   ]
  },
  {
   "cell_type": "markdown",
   "id": "6d97b2b8-ea98-4d11-a99a-958dcc08ba57",
   "metadata": {},
   "source": [
    "The graphs indicate a moderately strong correlation between increased income level and decreased likelehood of filing a claim\n",
    "\n",
    "We'll try vehicle year next:"
   ]
  },
  {
   "cell_type": "code",
   "execution_count": 37,
   "id": "d8abd1ac-bcb6-441c-ad6f-d71478a1e627",
   "metadata": {},
   "outputs": [
    {
     "data": {
      "text/plain": [
       "vehicle_year\n",
       "before 2015    0.695369\n",
       "after 2015     0.304631\n",
       "Name: count, dtype: float64"
      ]
     },
     "metadata": {},
     "output_type": "display_data"
    },
    {
     "data": {
      "image/png": "[encoded data removed]",
      "text/plain": [
       "<Figure size 640x480 with 1 Axes>"
      ]
     },
     "metadata": {},
     "output_type": "display_data"
    },
    {
     "data": {
      "text/plain": [
       "vehicle_year\n",
       "before 2015    0.281602\n",
       "after 2015     0.031164\n",
       "Name: count, dtype: float64"
      ]
     },
     "metadata": {},
     "output_type": "display_data"
    },
    {
     "data": {
      "image/png": "[encoded data removed]",
      "text/plain": [
       "<Figure size 640x480 with 1 Axes>"
      ]
     },
     "metadata": {},
     "output_type": "display_data"
    }
   ],
   "source": [
    "year_labels = {0: \"before 2015\", 1: \"after 2015\"}\n",
    "eda_data[\"vehicle_year\"] = pd.Categorical(\n",
    "    eda_data[\"vehicle_year\"].map(year_labels), categories=year_labels.values(), ordered=True\n",
    ")\n",
    "year_vals = eda_data[\"vehicle_year\"].value_counts(sort=False)\n",
    "\n",
    "#Plotting distribution\n",
    "display(year_vals / num_rows)\n",
    "(year_vals / num_rows).plot(kind=\"bar\")\n",
    "plt.title(\"Vehicle Year Distribution\")\n",
    "plt.show()\n",
    "\n",
    "#Extracting/plotting vehicle year distribution when a claim is made\n",
    "pos_claims_year = eda_data[eda_data[\"claim_made\"] == 1][\"vehicle_year\"].value_counts(sort=False)\n",
    "\n",
    "# Plotting the distribution for positive claims\n",
    "display(pos_claims_year / num_rows)\n",
    "(pos_claims_year / num_rows).plot(kind=\"bar\")\n",
    "plt.title(\"Vehicle Year Distribution for Positive Claims\")\n",
    "plt.show()"
   ]
  },
  {
   "cell_type": "markdown",
   "id": "e8f272fa-5e15-4a79-81a8-4b92a372819c",
   "metadata": {},
   "source": [
    "It seems that vehicle year of after 2015 is strongly correlated with smaller chance of filing a claim\n",
    "\n",
    "Next, we will assess postal codes:"
   ]
  },
  {
   "cell_type": "code",
   "execution_count": 39,
   "id": "ac88ad7c-e2f9-49d7-b004-9546290eeb38",
   "metadata": {},
   "outputs": [
    {
     "data": {
      "text/plain": [
       "postal_code\n",
       "10238    0.697247\n",
       "32765    0.241802\n",
       "92101    0.049937\n",
       "21217    0.011014\n",
       "Name: count, dtype: float64"
      ]
     },
     "metadata": {},
     "output_type": "display_data"
    },
    {
     "data": {
      "image/png": "[encoded data removed]",
      "text/plain": [
       "<Figure size 640x480 with 1 Axes>"
      ]
     },
     "metadata": {},
     "output_type": "display_data"
    },
    {
     "data": {
      "text/plain": [
       "postal_code\n",
       "10238    0.190113\n",
       "32765    0.090738\n",
       "92101    0.020901\n",
       "21217    0.011014\n",
       "Name: count, dtype: float64"
      ]
     },
     "metadata": {},
     "output_type": "display_data"
    },
    {
     "data": {
      "image/png": "[encoded data removed]",
      "text/plain": [
       "<Figure size 640x480 with 1 Axes>"
      ]
     },
     "metadata": {},
     "output_type": "display_data"
    }
   ],
   "source": [
    "# Comparing postal code distribution versus postal code distribution for postive claims\n",
    "\n",
    "postal_code_vals = eda_data[\"postal_code\"].value_counts()\n",
    "display(postal_code_vals / num_rows)\n",
    "(postal_code_vals / num_rows).plot(kind=\"bar\")\n",
    "plt.title(\"Postal Code Distribution\")\n",
    "plt.show()\n",
    "\n",
    "pos_claims_postal = eda_data[eda_data[\"claim_made\"] == 1][\"postal_code\"].value_counts()\n",
    "display(pos_claims_postal / num_rows)\n",
    "(pos_claims_postal / num_rows).plot(kind=\"bar\")\n",
    "plt.title(\"Postal Code Distribution for Postive Claims\")\n",
    "plt.show()"
   ]
  },
  {
   "cell_type": "code",
   "execution_count": 40,
   "id": "fc1044dc-563e-4e4e-b572-81ef9c7cf1db",
   "metadata": {},
   "outputs": [
    {
     "data": {
      "text/html": [
       "<style>.output_scroll { height: auto; }</style>"
      ],
      "text/plain": [
       "<IPython.core.display.HTML object>"
      ]
     },
     "metadata": {},
     "output_type": "display_data"
    }
   ],
   "source": [
    "from IPython.core.display import display, HTML\n",
    "display(HTML(\"<style>.output_scroll { height: auto; }</style>\"))"
   ]
  },
  {
   "cell_type": "markdown",
   "id": "004e5df2-c45a-49bf-b917-fdcc0bac1073",
   "metadata": {},
   "source": [
    "Postal code does not seem to be correlated with positive claims\n",
    "\n",
    "Next feature we'll check is age\n",
    "\n",
    "**Note:** Postal Code 21217 has an 100% positive claim rate, but I'm assuming that is because of bias data collection from that particular postal code"
   ]
  },
  {
   "cell_type": "code",
   "execution_count": 42,
   "id": "33e8cac5-6508-40c2-9dea-9b6472c20658",
   "metadata": {},
   "outputs": [
    {
     "data": {
      "text/plain": [
       "age\n",
       "16-25    0.200125\n",
       "26-39    0.309512\n",
       "40-64    0.290864\n",
       "65+      0.199499\n",
       "Name: count, dtype: float64"
      ]
     },
     "metadata": {},
     "output_type": "display_data"
    },
    {
     "data": {
      "image/png": "[encoded data removed]",
      "text/plain": [
       "<Figure size 640x480 with 1 Axes>"
      ]
     },
     "metadata": {},
     "output_type": "display_data"
    },
    {
     "data": {
      "text/plain": [
       "age\n",
       "16-25    0.143179\n",
       "26-39    0.105257\n",
       "40-64    0.044806\n",
       "65+      0.019524\n",
       "Name: count, dtype: float64"
      ]
     },
     "metadata": {},
     "output_type": "display_data"
    },
    {
     "data": {
      "image/png": "[encoded data removed]",
      "text/plain": [
       "<Figure size 640x480 with 1 Axes>"
      ]
     },
     "metadata": {},
     "output_type": "display_data"
    }
   ],
   "source": [
    "# Comparing age distribution to age distribution when a claim is made\n",
    "age_order = [\"16-25\", \"26-39\", \"40-64\", \"65+\"]\n",
    "eda_data[\"age\"] = pd.Categorical(eda_data[\"age\"], categories=age_order, ordered=True)\n",
    "age_vals = eda_data[\"age\"].value_counts(sort=False)\n",
    "\n",
    "display(age_vals / num_rows)\n",
    "\n",
    "(age_vals / num_rows).plot(kind=\"bar\")\n",
    "plt.title(\"Age distribution\")\n",
    "plt.show()\n",
    "\n",
    "pos_claims_age = eda_data[eda_data[\"claim_made\"] == 1][\"age\"].value_counts(sort=False)\n",
    "display(pos_claims_age / num_rows)\n",
    "(pos_claims_age / num_rows).plot(kind=\"bar\")\n",
    "plt.title(\"Age Distribution for Positive Claims\")\n",
    "plt.show()"
   ]
  },
  {
   "cell_type": "markdown",
   "id": "d5421afd-ab74-49ea-9865-a9700ad2f3c4",
   "metadata": {},
   "source": [
    "Show a strong trend in which the older a policyholder is, the less likely to file for a claim\n",
    "\n",
    "Let's see if we can replicate this trend for the driving_experience feature"
   ]
  },
  {
   "cell_type": "code",
   "execution_count": 44,
   "id": "2f3e37a4-180d-4378-92bc-1d332091e674",
   "metadata": {},
   "outputs": [
    {
     "data": {
      "text/plain": [
       "driving_experience\n",
       "0-9y      0.351940\n",
       "10-19y    0.331414\n",
       "20-29y    0.210513\n",
       "30y+      0.106133\n",
       "Name: count, dtype: float64"
      ]
     },
     "metadata": {},
     "output_type": "display_data"
    },
    {
     "data": {
      "image/png": "[encoded data removed]",
      "text/plain": [
       "<Figure size 640x480 with 1 Axes>"
      ]
     },
     "metadata": {},
     "output_type": "display_data"
    },
    {
     "data": {
      "text/plain": [
       "driving_experience\n",
       "0-9y      0.220776\n",
       "10-19y    0.079599\n",
       "20-29y    0.010513\n",
       "30y+      0.001877\n",
       "Name: count, dtype: float64"
      ]
     },
     "metadata": {},
     "output_type": "display_data"
    },
    {
     "data": {
      "image/png": "[encoded data removed]",
      "text/plain": [
       "<Figure size 640x480 with 1 Axes>"
      ]
     },
     "metadata": {},
     "output_type": "display_data"
    }
   ],
   "source": [
    "# Comparing driving experience distribution to driving experience distribution when a claim is made\n",
    "driving_exp_order = [\"0-9y\", \"10-19y\", \"20-29y\", \"30y+\"] \n",
    "eda_data[\"driving_experience\"] = pd.Categorical(eda_data[\"driving_experience\"], categories=driving_exp_order, ordered=True)\n",
    "driving_exp_vals = eda_data[\"driving_experience\"].value_counts(sort=False)\n",
    "\n",
    "display(driving_exp_vals/ num_rows)\n",
    "\n",
    "(driving_exp_vals / num_rows).plot(kind=\"bar\")\n",
    "plt.title(\"Driving Experience Distribution\")\n",
    "plt.show()\n",
    "\n",
    "pos_claims_driving_exp = eda_data[eda_data[\"claim_made\"] == 1][\"driving_experience\"].value_counts(sort=False)\n",
    "display(pos_claims_driving_exp / num_rows)\n",
    "(pos_claims_driving_exp / num_rows).plot(kind=\"bar\")\n",
    "plt.title(\"Driving Experience Distribution for Positive Claims\")\n",
    "plt.show()"
   ]
  },
  {
   "cell_type": "code",
   "execution_count": 45,
   "id": "476f7774-23eb-4d8e-9369-e20493c0f78c",
   "metadata": {},
   "outputs": [],
   "source": [
    "new = eda_data[eda_data[\"claim_made\"] == 1][\"driving_experience\"]\n",
    "new = pd.DataFrame(new)\n",
    "new.to_csv(\"C:/Users/julia/OneDrive/Documents/new_data.csv\", index=False)"
   ]
  },
  {
   "cell_type": "markdown",
   "id": "2eff2905-8fa1-474b-9f70-c47566ea6695",
   "metadata": {},
   "source": [
    "Our most promising category yet:\n",
    "\n",
    "- Driving experience is even more strongly correlated to a smaller chance in filing a claim than age\n",
    "\n",
    "- This gives us a better idea of what categorical features are important in determining whether a claim is made or not, and by extension, what our model will find useful\n",
    "\n",
    "The model aside, the marketing team should push their advertising efforts towards tailoring to those with more driving experience, those older, and maybe a little towards those that are more educated and higher income"
   ]
  },
  {
   "cell_type": "markdown",
   "id": "907b894e-8ab5-4181-baac-45b68e6283c7",
   "metadata": {},
   "source": [
    "#### 2.3 Correlation Matrix\n",
    "\n",
    "**Goal:** To see how our data's numerical features are correlated with our target feature"
   ]
  },
  {
   "cell_type": "code",
   "execution_count": 48,
   "id": "ba939b99-603e-4ad4-b76e-778cd87e0e6d",
   "metadata": {},
   "outputs": [
    {
     "data": {
      "text/html": [
       "<div>\n",
       "<style scoped>\n",
       "    .dataframe tbody tr th:only-of-type {\n",
       "        vertical-align: middle;\n",
       "    }\n",
       "\n",
       "    .dataframe tbody tr th {\n",
       "        vertical-align: top;\n",
       "    }\n",
       "\n",
       "    .dataframe thead th {\n",
       "        text-align: right;\n",
       "    }\n",
       "</style>\n",
       "<table border=\"1\" class=\"dataframe\">\n",
       "  <thead>\n",
       "    <tr style=\"text-align: right;\">\n",
       "      <th></th>\n",
       "      <th>claim_made</th>\n",
       "    </tr>\n",
       "  </thead>\n",
       "  <tbody>\n",
       "    <tr>\n",
       "      <th>annual_mileage</th>\n",
       "      <td>0.184371</td>\n",
       "    </tr>\n",
       "    <tr>\n",
       "      <th>gender</th>\n",
       "      <td>0.109875</td>\n",
       "    </tr>\n",
       "    <tr>\n",
       "      <th>race</th>\n",
       "      <td>0.011535</td>\n",
       "    </tr>\n",
       "    <tr>\n",
       "      <th>vehicle_type</th>\n",
       "      <td>-0.008357</td>\n",
       "    </tr>\n",
       "    <tr>\n",
       "      <th>num_duis</th>\n",
       "      <td>-0.185693</td>\n",
       "    </tr>\n",
       "    <tr>\n",
       "      <th>has_children</th>\n",
       "      <td>-0.228760</td>\n",
       "    </tr>\n",
       "    <tr>\n",
       "      <th>is_married</th>\n",
       "      <td>-0.252986</td>\n",
       "    </tr>\n",
       "    <tr>\n",
       "      <th>num_speeding_violations</th>\n",
       "      <td>-0.289955</td>\n",
       "    </tr>\n",
       "    <tr>\n",
       "      <th>num_past_accidents</th>\n",
       "      <td>-0.306924</td>\n",
       "    </tr>\n",
       "    <tr>\n",
       "      <th>credit_score</th>\n",
       "      <td>-0.333810</td>\n",
       "    </tr>\n",
       "    <tr>\n",
       "      <th>vehicle_owned</th>\n",
       "      <td>-0.376222</td>\n",
       "    </tr>\n",
       "  </tbody>\n",
       "</table>\n",
       "</div>"
      ],
      "text/plain": [
       "                         claim_made\n",
       "annual_mileage             0.184371\n",
       "gender                     0.109875\n",
       "race                       0.011535\n",
       "vehicle_type              -0.008357\n",
       "num_duis                  -0.185693\n",
       "has_children              -0.228760\n",
       "is_married                -0.252986\n",
       "num_speeding_violations   -0.289955\n",
       "num_past_accidents        -0.306924\n",
       "credit_score              -0.333810\n",
       "vehicle_owned             -0.376222"
      ]
     },
     "execution_count": 48,
     "metadata": {},
     "output_type": "execute_result"
    }
   ],
   "source": [
    "# Create a correlation matrix \n",
    "numeric_claims = eda_data.select_dtypes(include = [np.number])\n",
    "\n",
    "corr_matrix = numeric_claims.corr()\n",
    "\n",
    "claims_corr = corr_matrix[\"claim_made\"].sort_values(ascending = False)\n",
    "claims_corr = claims_corr.drop(\"claim_made\")\n",
    "\n",
    "claims_corr = pd.DataFrame(claims_corr)\n",
    "claims_corr"
   ]
  },
  {
   "cell_type": "code",
   "execution_count": 49,
   "id": "e906cb1e-ebe1-4162-aa06-7e1e0a9d5ce1",
   "metadata": {},
   "outputs": [
    {
     "data": {
      "image/png": "[encoded data removed]",
      "text/plain": [
       "<Figure size 400x800 with 2 Axes>"
      ]
     },
     "metadata": {},
     "output_type": "display_data"
    }
   ],
   "source": [
    "# Creating heatmap of correlation matrix\n",
    "fig, ax = plt.subplots(figsize=(4, 8))\n",
    "\n",
    "\n",
    "claims_heatmap = sns.heatmap(claims_corr, cmap = \"RdBu_r\", annot=True)\n",
    "\n",
    "plt.tight_layout()"
   ]
  },
  {
   "cell_type": "markdown",
   "id": "99e7d6e0-fe21-48cd-ad63-848c0c7cd73b",
   "metadata": {},
   "source": [
    "**Note**: These observations are not assuming causation but for possible reasons for the correlation\n",
    "\n",
    "**Postive Correlations:**\n",
    "- Overall, not many notable positive correlations\n",
    "- The data suggest that the more annual mileage, the more likely a claim is made\n",
    "    -   Driving more naturally leads to more chances to be involved in an incident\n",
    "\n",
    "**Negative Correlations:**\n",
    "- Only moderately correlated features\n",
    "- A claim is less likely to be made if the person has ownership of their vehicle\n",
    "  - Ownership implies the policyholder has full control on whether to file a claim or not if an accident were to occur, which means they can choose not to file one for smaller accidents in fear of higher premiums\n",
    "- A higher credit score may suggest they are less likely to make a claim\n",
    "    - Higher credit scores can indicate low risk behavior, which then leads to less incidents\n",
    "- The **more** past accidents, the less likely they are to make a claim\n",
    "  - Seems counterintuitive but may suggest they don't file claims for smaller incidents to avoid higher deductibles and premiums\n",
    "-  Same goes for DUIs and speeding violations, where a higher count seems to suggest a lower likelihood of filing a claim\n",
    "    - Another explanation may be because there is simply not a lot of data in the higher end of these features, and claims are generally speaking less likely to be made than not, therefore displaying an inaccurate correlation score\n",
    "\n",
    "**Negligable Correlations:**\n",
    "- Vehicle type and race seem to have little to no effect on whether a claim is made"
   ]
  },
  {
   "cell_type": "markdown",
   "id": "5bf79e8b-59de-41f0-9be1-8205791b8db2",
   "metadata": {},
   "source": [
    "## 3. Data Cleaning and Preprocessing\n",
    "\n",
    "#### 3.1 Dropping columns and checking for null values"
   ]
  },
  {
   "cell_type": "code",
   "execution_count": 52,
   "id": "183e871c-0b88-4e0d-942e-263e681668d1",
   "metadata": {},
   "outputs": [],
   "source": [
    "# Creating another copy of X_train to test preprocessing transformations\n",
    "X_train_raw = X_train.copy()"
   ]
  },
  {
   "cell_type": "code",
   "execution_count": 53,
   "id": "95be4ca7-9cce-48bf-9202-c7137d21b0a9",
   "metadata": {},
   "outputs": [],
   "source": [
    "# Dropping vehicle_type and race columns as they seem to be negligable\n",
    "X_train_raw.drop(columns=[\"vehicle_type\", \"race\"], axis=1, inplace=True)"
   ]
  },
  {
   "cell_type": "code",
   "execution_count": 54,
   "id": "375ce662-73e3-4d90-8646-0b07ea0ab83b",
   "metadata": {},
   "outputs": [
    {
     "data": {
      "text/plain": [
       "Index(['credit_score', 'annual_mileage'], dtype='object')"
      ]
     },
     "execution_count": 54,
     "metadata": {},
     "output_type": "execute_result"
    }
   ],
   "source": [
    "# Check which columns have missing values\n",
    "X_train_raw.columns[np.sum(X_train_raw.isnull()) != 0]"
   ]
  },
  {
   "cell_type": "markdown",
   "id": "085d6902-e4e9-4694-8501-dd63de150463",
   "metadata": {},
   "source": [
    "**Overview of Preprocessing Transformations**\n",
    "\n",
    "Numerical features: SimpleImputer (median) => Feature Scaling\n",
    "\n",
    "Ordinal categorical features: SimpleImputer (most_frequent) => OrdinalEncoder\n",
    "\n",
    "Nominal categorical features: SimpleImputer (most_frequent) => OneHotEncoder\n",
    "\n",
    "Binary Features: SimpleImputer (most_frequent) "
   ]
  },
  {
   "cell_type": "markdown",
   "id": "2c4b157f-5891-4b79-8ee2-3d45a3de21c4",
   "metadata": {},
   "source": [
    "#### 3.2 Imputing features"
   ]
  },
  {
   "cell_type": "code",
   "execution_count": 57,
   "id": "6eaddb64-6818-4329-a1df-bb318ada3697",
   "metadata": {},
   "outputs": [],
   "source": [
    "# Sort columns by type\n",
    "\n",
    "# Defining numerical columns and dataframe\n",
    "num_cols = [\"credit_score\", \"annual_mileage\", \"num_speeding_violations\", \"num_duis\", \"num_past_accidents\"]\n",
    "num_df = X_train_raw[num_cols].reset_index(drop=True)\n",
    "\n",
    "# Defining ordinal categorical columns and dataframe\n",
    "ord_cat_cols = [\"age\", \"driving_experience\", \"education_level\", \"income_level\"] \n",
    "ord_cat_df = X_train_raw[ord_cat_cols].reset_index(drop=True)\n",
    "\n",
    "# Defining nominal categorical columns and dataframe\n",
    "nom_cat_cols = [\"postal_code\"]\n",
    "nom_cat_df = X_train_raw[nom_cat_cols].reset_index(drop=True)\n",
    "\n",
    "# Defining binary columns and dataframe\n",
    "bin_cols = [\"gender\", \"vehicle_owned\", \"vehicle_year\", \"is_married\", \"has_children\"]\n",
    "bin_df = X_train_raw[bin_cols].reset_index(drop=True)"
   ]
  },
  {
   "cell_type": "code",
   "execution_count": 58,
   "id": "9349ed2e-121d-496a-bc20-753445171131",
   "metadata": {},
   "outputs": [
    {
     "data": {
      "text/plain": [
       "credit_score               783\n",
       "annual_mileage             752\n",
       "num_speeding_violations      0\n",
       "num_duis                     0\n",
       "num_past_accidents           0\n",
       "dtype: int64"
      ]
     },
     "execution_count": 58,
     "metadata": {},
     "output_type": "execute_result"
    }
   ],
   "source": [
    "num_df.isnull().sum()"
   ]
  },
  {
   "cell_type": "code",
   "execution_count": 59,
   "id": "38734da0-3bf6-4729-92e4-d0e9bbbaa4e3",
   "metadata": {},
   "outputs": [
    {
     "data": {
      "text/html": [
       "<div>\n",
       "<style scoped>\n",
       "    .dataframe tbody tr th:only-of-type {\n",
       "        vertical-align: middle;\n",
       "    }\n",
       "\n",
       "    .dataframe tbody tr th {\n",
       "        vertical-align: top;\n",
       "    }\n",
       "\n",
       "    .dataframe thead th {\n",
       "        text-align: right;\n",
       "    }\n",
       "</style>\n",
       "<table border=\"1\" class=\"dataframe\">\n",
       "  <thead>\n",
       "    <tr style=\"text-align: right;\">\n",
       "      <th></th>\n",
       "      <th>credit_score</th>\n",
       "      <th>annual_mileage</th>\n",
       "      <th>num_speeding_violations</th>\n",
       "      <th>num_duis</th>\n",
       "      <th>num_past_accidents</th>\n",
       "    </tr>\n",
       "  </thead>\n",
       "  <tbody>\n",
       "    <tr>\n",
       "      <th>0</th>\n",
       "      <td>0.378046</td>\n",
       "      <td>13000.0</td>\n",
       "      <td>2</td>\n",
       "      <td>1</td>\n",
       "      <td>3</td>\n",
       "    </tr>\n",
       "    <tr>\n",
       "      <th>1</th>\n",
       "      <td>NaN</td>\n",
       "      <td>14000.0</td>\n",
       "      <td>0</td>\n",
       "      <td>0</td>\n",
       "      <td>0</td>\n",
       "    </tr>\n",
       "    <tr>\n",
       "      <th>2</th>\n",
       "      <td>0.590250</td>\n",
       "      <td>12000.0</td>\n",
       "      <td>0</td>\n",
       "      <td>0</td>\n",
       "      <td>0</td>\n",
       "    </tr>\n",
       "    <tr>\n",
       "      <th>3</th>\n",
       "      <td>0.747843</td>\n",
       "      <td>13000.0</td>\n",
       "      <td>1</td>\n",
       "      <td>0</td>\n",
       "      <td>0</td>\n",
       "    </tr>\n",
       "    <tr>\n",
       "      <th>4</th>\n",
       "      <td>0.730233</td>\n",
       "      <td>11000.0</td>\n",
       "      <td>0</td>\n",
       "      <td>0</td>\n",
       "      <td>0</td>\n",
       "    </tr>\n",
       "  </tbody>\n",
       "</table>\n",
       "</div>"
      ],
      "text/plain": [
       "   credit_score  annual_mileage  num_speeding_violations  num_duis  \\\n",
       "0      0.378046         13000.0                        2         1   \n",
       "1           NaN         14000.0                        0         0   \n",
       "2      0.590250         12000.0                        0         0   \n",
       "3      0.747843         13000.0                        1         0   \n",
       "4      0.730233         11000.0                        0         0   \n",
       "\n",
       "   num_past_accidents  \n",
       "0                   3  \n",
       "1                   0  \n",
       "2                   0  \n",
       "3                   0  \n",
       "4                   0  "
      ]
     },
     "execution_count": 59,
     "metadata": {},
     "output_type": "execute_result"
    }
   ],
   "source": [
    "# Display df before imputation\n",
    "num_df.head()"
   ]
  },
  {
   "cell_type": "code",
   "execution_count": 60,
   "id": "91821997-973c-4712-9f0e-bcaf813fa21d",
   "metadata": {},
   "outputs": [
    {
     "data": {
      "text/html": [
       "<div>\n",
       "<style scoped>\n",
       "    .dataframe tbody tr th:only-of-type {\n",
       "        vertical-align: middle;\n",
       "    }\n",
       "\n",
       "    .dataframe tbody tr th {\n",
       "        vertical-align: top;\n",
       "    }\n",
       "\n",
       "    .dataframe thead th {\n",
       "        text-align: right;\n",
       "    }\n",
       "</style>\n",
       "<table border=\"1\" class=\"dataframe\">\n",
       "  <thead>\n",
       "    <tr style=\"text-align: right;\">\n",
       "      <th></th>\n",
       "      <th>credit_score</th>\n",
       "      <th>annual_mileage</th>\n",
       "      <th>num_speeding_violations</th>\n",
       "      <th>num_duis</th>\n",
       "      <th>num_past_accidents</th>\n",
       "    </tr>\n",
       "  </thead>\n",
       "  <tbody>\n",
       "    <tr>\n",
       "      <th>0</th>\n",
       "      <td>0.378046</td>\n",
       "      <td>13000.0</td>\n",
       "      <td>2.0</td>\n",
       "      <td>1.0</td>\n",
       "      <td>3.0</td>\n",
       "    </tr>\n",
       "    <tr>\n",
       "      <th>1</th>\n",
       "      <td>0.524603</td>\n",
       "      <td>14000.0</td>\n",
       "      <td>0.0</td>\n",
       "      <td>0.0</td>\n",
       "      <td>0.0</td>\n",
       "    </tr>\n",
       "    <tr>\n",
       "      <th>2</th>\n",
       "      <td>0.590250</td>\n",
       "      <td>12000.0</td>\n",
       "      <td>0.0</td>\n",
       "      <td>0.0</td>\n",
       "      <td>0.0</td>\n",
       "    </tr>\n",
       "    <tr>\n",
       "      <th>3</th>\n",
       "      <td>0.747843</td>\n",
       "      <td>13000.0</td>\n",
       "      <td>1.0</td>\n",
       "      <td>0.0</td>\n",
       "      <td>0.0</td>\n",
       "    </tr>\n",
       "    <tr>\n",
       "      <th>4</th>\n",
       "      <td>0.730233</td>\n",
       "      <td>11000.0</td>\n",
       "      <td>0.0</td>\n",
       "      <td>0.0</td>\n",
       "      <td>0.0</td>\n",
       "    </tr>\n",
       "  </tbody>\n",
       "</table>\n",
       "</div>"
      ],
      "text/plain": [
       "   credit_score  annual_mileage  num_speeding_violations  num_duis  \\\n",
       "0      0.378046         13000.0                      2.0       1.0   \n",
       "1      0.524603         14000.0                      0.0       0.0   \n",
       "2      0.590250         12000.0                      0.0       0.0   \n",
       "3      0.747843         13000.0                      1.0       0.0   \n",
       "4      0.730233         11000.0                      0.0       0.0   \n",
       "\n",
       "   num_past_accidents  \n",
       "0                 3.0  \n",
       "1                 0.0  \n",
       "2                 0.0  \n",
       "3                 0.0  \n",
       "4                 0.0  "
      ]
     },
     "execution_count": 60,
     "metadata": {},
     "output_type": "execute_result"
    }
   ],
   "source": [
    "# Create imputer for numerical features\n",
    "num_simple_imputer = SimpleImputer(strategy = \"median\")\n",
    "\n",
    "# Define function to impute numerical features\n",
    "def num_col_imputer(data, columns, imputer):\n",
    "    num_imputer = imputer.fit_transform(data)\n",
    "    num_imputer_df = pd.DataFrame(num_imputer, columns = columns)\n",
    "    return num_imputer_df\n",
    "\n",
    "imputed_num_cols = num_col_imputer(num_df, num_cols, num_simple_imputer)\n",
    "imputed_num_cols.head()"
   ]
  },
  {
   "cell_type": "code",
   "execution_count": 61,
   "id": "23cc94f9-c5a9-4b78-913e-6e27de67c8fa",
   "metadata": {},
   "outputs": [
    {
     "data": {
      "text/plain": [
       "credit_score               0\n",
       "annual_mileage             0\n",
       "num_speeding_violations    0\n",
       "num_duis                   0\n",
       "num_past_accidents         0\n",
       "dtype: int64"
      ]
     },
     "execution_count": 61,
     "metadata": {},
     "output_type": "execute_result"
    }
   ],
   "source": [
    "# Checking whether imputer executed properly\n",
    "imputed_num_cols.isnull().sum()"
   ]
  },
  {
   "cell_type": "markdown",
   "id": "d7809c57-c7a0-418e-8327-e970d481e107",
   "metadata": {},
   "source": [
    "**Note:** Null values are only present in *numerical* features in the current dataset used, but imputing these other features (categorical and binary) may be necessary for future data"
   ]
  },
  {
   "cell_type": "code",
   "execution_count": 63,
   "id": "08a8fff5-5fde-4ce3-b837-3a46c1e41ccc",
   "metadata": {},
   "outputs": [],
   "source": [
    "# Create imputer for ordinal categorical columns\n",
    "ord_simple_imputer = SimpleImputer(strategy= \"most_frequent\")\n",
    "\n",
    "def ord_col_imputer(data, columns, imputer):\n",
    "    ord_imputer = imputer.fit_transform(data)\n",
    "    ord_imputer_df = pd.DataFrame(ord_imputer, columns = columns)\n",
    "    return ord_imputer_df\n",
    "\n",
    "imputed_ord_cols = ord_col_imputer(ord_cat_df, ord_cat_cols, ord_simple_imputer)"
   ]
  },
  {
   "cell_type": "code",
   "execution_count": 64,
   "id": "4e6603b5-b513-4db3-a158-089a37435673",
   "metadata": {},
   "outputs": [],
   "source": [
    "# Create imputer for nominal categorical columns \n",
    "# Same process as ordinal imputer, but want to separate the columns for encoding later\n",
    "nom_simple_imputer = SimpleImputer(strategy= \"most_frequent\")\n",
    "\n",
    "def nom_col_imputer(data, columns, imputer):\n",
    "    nom_imputer = imputer.fit_transform(data)\n",
    "    nom_imputer_df = pd.DataFrame(nom_imputer, columns = columns)\n",
    "    return nom_imputer_df\n",
    "\n",
    "imputed_nom_cols = nom_col_imputer(nom_cat_df, nom_cat_cols, nom_simple_imputer)"
   ]
  },
  {
   "cell_type": "code",
   "execution_count": 65,
   "id": "0171c82d-65c0-4944-9f56-3eaa1f01d910",
   "metadata": {},
   "outputs": [],
   "source": [
    "# Transform binary categorical columns into having numeric values\n",
    "# Note: Remember that vehicle_type and race were dropped previously because of lack of correlation\n",
    "binary_cols = [\"gender\", \"vehicle_year\"]\n",
    "\n",
    "mapping = {\"male\": 1,\n",
    "           \"female\": 0,\n",
    "           \"after 2015\": 1,\n",
    "           \"before 2015\": 0}\n",
    "\n",
    "def binarize_values(data, cols, map):\n",
    "    for col in cols:\n",
    "        data[col] = data[col].map(map)\n",
    "    return data\n",
    "\n",
    "bin_df = binarize_values(bin_df, binary_cols, mapping)"
   ]
  },
  {
   "cell_type": "code",
   "execution_count": 66,
   "id": "7a2036f3-fba2-4d96-966f-e7c0c53b534c",
   "metadata": {},
   "outputs": [],
   "source": [
    "# Create imputer for binary columns \n",
    "bin_simple_imputer = SimpleImputer(strategy= \"most_frequent\")\n",
    "\n",
    "def bin_col_imputer(data, columns, imputer):\n",
    "    bin_imputer = imputer.fit_transform(data)\n",
    "    bin_imputer_df = pd.DataFrame(bin_imputer, columns = columns)\n",
    "    return bin_imputer_df\n",
    "\n",
    "imputed_bin_cols = bin_col_imputer(bin_df, bin_cols, bin_simple_imputer)"
   ]
  },
  {
   "cell_type": "markdown",
   "id": "98aa9d4c-6467-4dd0-b21f-ff5e5a46e0f3",
   "metadata": {},
   "source": [
    "#### 3.3 Checking for Normal Distribution in Numerical Features"
   ]
  },
  {
   "cell_type": "code",
   "execution_count": 68,
   "id": "4e675d1a-ce24-4f0e-805e-21af3c5a2633",
   "metadata": {},
   "outputs": [
    {
     "data": {
      "image/png": "[encoded data removed]",
      "text/plain": [
       "<Figure size 1200x800 with 6 Axes>"
      ]
     },
     "metadata": {},
     "output_type": "display_data"
    }
   ],
   "source": [
    "# Creating histograms for numerical columns\n",
    "imputed_num_cols.hist(bins=75, figsize=(12,8))\n",
    "plt.show()"
   ]
  },
  {
   "cell_type": "markdown",
   "id": "bde0a922-f073-4b41-8cb6-a2249341598e",
   "metadata": {},
   "source": [
    "**Note:** There is a spike where the median is located for credit_score and annual_mileage because the null values were all assigned the median during the imputation process\n",
    "\n",
    "**Observations:**\n",
    "- credit_score and annual_mileage seem to have relatively normal distributions\n",
    "- num_past_accidents, num_duis, and num_speeding_violations have right skewed distributions\n",
    "\n",
    "**Goal:** We are trying to ensure these numerical features have a normal distribution or close to one, as it is favorable to certain ML models such as Logistic Regression\n",
    "\n",
    "Now, we check the skew value of each of feature to see if we need to transform them"
   ]
  },
  {
   "cell_type": "code",
   "execution_count": 70,
   "id": "76f55f50-aaa5-4882-9b34-8a62d44c0b45",
   "metadata": {},
   "outputs": [
    {
     "name": "stdout",
     "output_type": "stream",
     "text": [
      "-0.268 skew value\n"
     ]
    },
    {
     "data": {
      "text/plain": [
       "<seaborn.axisgrid.FacetGrid at 0x2421c8c6390>"
      ]
     },
     "execution_count": 70,
     "metadata": {},
     "output_type": "execute_result"
    },
    {
     "data": {
      "image/png": "[encoded data removed]",
      "text/plain": [
       "<Figure size 500x500 with 1 Axes>"
      ]
     },
     "metadata": {},
     "output_type": "display_data"
    }
   ],
   "source": [
    "# Checking skew value of credit_score\n",
    "print(f\"{imputed_num_cols['credit_score'].skew():.3f} skew value\")\n",
    "sns.displot(imputed_num_cols[\"credit_score\"], kde=True, bins=30)"
   ]
  },
  {
   "cell_type": "markdown",
   "id": "f00b5657-e385-40e3-bfb0-0c2645526c35",
   "metadata": {},
   "source": [
    "credit_score returns an acceptable skew value, indicating a normal distribution, so no changes will be made"
   ]
  },
  {
   "cell_type": "code",
   "execution_count": 72,
   "id": "cb071331-40f2-4d8c-98c2-724243a2e995",
   "metadata": {},
   "outputs": [
    {
     "name": "stdout",
     "output_type": "stream",
     "text": [
      "0.004 skew value\n"
     ]
    },
    {
     "data": {
      "text/plain": [
       "<seaborn.axisgrid.FacetGrid at 0x2421c50ae90>"
      ]
     },
     "execution_count": 72,
     "metadata": {},
     "output_type": "execute_result"
    },
    {
     "data": {
      "image/png": "[encoded data removed]",
      "text/plain": [
       "<Figure size 500x500 with 1 Axes>"
      ]
     },
     "metadata": {},
     "output_type": "display_data"
    }
   ],
   "source": [
    "print(f\"{imputed_num_cols['annual_mileage'].skew():.3f} skew value\")\n",
    "sns.displot(imputed_num_cols[\"annual_mileage\"], kde=True, bins=30)"
   ]
  },
  {
   "cell_type": "markdown",
   "id": "99a44811-b2a9-4184-9f16-5833922c8053",
   "metadata": {},
   "source": [
    "Likewise, annual_mileage returns a low skew value, so no changes will be made"
   ]
  },
  {
   "cell_type": "code",
   "execution_count": 74,
   "id": "dbd5d2c5-d5ca-467b-8cb8-f6db8f5459d4",
   "metadata": {},
   "outputs": [
    {
     "name": "stdout",
     "output_type": "stream",
     "text": [
      "past_accidents: 2.147 skew value\n",
      "duis: 2.764 skew value\n",
      "speeding_violations: 2.327 skew value\n"
     ]
    },
    {
     "data": {
      "text/plain": [
       "<seaborn.axisgrid.FacetGrid at 0x2421af75b90>"
      ]
     },
     "execution_count": 74,
     "metadata": {},
     "output_type": "execute_result"
    },
    {
     "data": {
      "image/png": "[encoded data removed]",
      "text/plain": [
       "<Figure size 500x500 with 1 Axes>"
      ]
     },
     "metadata": {},
     "output_type": "display_data"
    },
    {
     "data": {
      "image/png": "[encoded data removed]",
      "text/plain": [
       "<Figure size 500x500 with 1 Axes>"
      ]
     },
     "metadata": {},
     "output_type": "display_data"
    },
    {
     "data": {
      "image/png": "[encoded data removed]",
      "text/plain": [
       "<Figure size 500x500 with 1 Axes>"
      ]
     },
     "metadata": {},
     "output_type": "display_data"
    }
   ],
   "source": [
    "print(f\"past_accidents: {imputed_num_cols['num_past_accidents'].skew():.3f} skew value\")\n",
    "sns.displot(imputed_num_cols['num_past_accidents'], kde=True, bins=30)\n",
    "\n",
    "print(f\"duis: {imputed_num_cols['num_duis'].skew():.3f} skew value\")\n",
    "sns.displot(imputed_num_cols[\"num_duis\"], kde=True, bins=30)\n",
    "\n",
    "print(f\"speeding_violations: {imputed_num_cols['num_speeding_violations'].skew():.3f} skew value\")\n",
    "sns.displot(imputed_num_cols[\"num_speeding_violations\"], kde=True, bins=30)"
   ]
  },
  {
   "cell_type": "markdown",
   "id": "4a0d24f1-18ec-44b7-8cca-8c4945ebe530",
   "metadata": {},
   "source": [
    "Since num_past_accidents, num_duis, and num_speeding_violations all have high scores for skewness, transformations will be applied to encourage a normal distribution"
   ]
  },
  {
   "cell_type": "code",
   "execution_count": 76,
   "id": "db1fa77a-6813-4408-ab77-95d37d9d2db4",
   "metadata": {},
   "outputs": [
    {
     "name": "stdout",
     "output_type": "stream",
     "text": [
      "num_duis sqrt skew value: 1.79\n"
     ]
    },
    {
     "data": {
      "text/plain": [
       "<seaborn.axisgrid.FacetGrid at 0x2421ce4f090>"
      ]
     },
     "execution_count": 76,
     "metadata": {},
     "output_type": "execute_result"
    },
    {
     "data": {
      "image/png": "[encoded data removed]",
      "text/plain": [
       "<Figure size 500x500 with 1 Axes>"
      ]
     },
     "metadata": {},
     "output_type": "display_data"
    }
   ],
   "source": [
    "# Start with num_duis feature, which has the highest skew value out of the three\n",
    "\n",
    "# Apply square root transformation\n",
    "imputed_num_cols[\"num_duis_sqrt\"] = np.sqrt(imputed_num_cols[\"num_duis\"])\n",
    "\n",
    "#Print skew value and plot transformation\n",
    "print(f\"num_duis sqrt skew value: {imputed_num_cols['num_duis_sqrt'].skew():.2f}\")\n",
    "sns.displot(imputed_num_cols[\"num_duis_sqrt\"], kde=True, bins=30)"
   ]
  },
  {
   "cell_type": "markdown",
   "id": "1968e6df-fc8f-470c-8da0-9b91af910050",
   "metadata": {},
   "source": [
    "The square root transformation did not perform that well, will experiment with other transformations to see if there's improvement"
   ]
  },
  {
   "cell_type": "code",
   "execution_count": 78,
   "id": "34bab4e1-f315-499b-b3c5-fc678c7ec22f",
   "metadata": {},
   "outputs": [
    {
     "name": "stdout",
     "output_type": "stream",
     "text": [
      "num_duis log skew value: 1.95\n"
     ]
    },
    {
     "data": {
      "text/plain": [
       "<seaborn.axisgrid.FacetGrid at 0x2421df4f150>"
      ]
     },
     "execution_count": 78,
     "metadata": {},
     "output_type": "execute_result"
    },
    {
     "data": {
      "image/png": "[encoded data removed]",
      "text/plain": [
       "<Figure size 500x500 with 1 Axes>"
      ]
     },
     "metadata": {},
     "output_type": "display_data"
    }
   ],
   "source": [
    "# Apply logorithm transformation instead\n",
    "\n",
    "# Add 1 to all values in the column so log transformation can work\n",
    "imputed_num_cols[\"num_duis_one\"] = imputed_num_cols[\"num_duis\"] + 1\n",
    "\n",
    "imputed_num_cols[\"num_duis_log\"] = np.log(imputed_num_cols[\"num_duis_one\"])\n",
    "print(f\"num_duis log skew value: {imputed_num_cols['num_duis_log'].skew():.2f}\")\n",
    "sns.displot(imputed_num_cols[\"num_duis_log\"], kde=True, bins=30)"
   ]
  },
  {
   "cell_type": "markdown",
   "id": "74bfbf4f-f9ce-45ef-856c-b8903017f5fd",
   "metadata": {},
   "source": [
    "The logorithm transformation performed worse than square root transformation, will try BoxCox next"
   ]
  },
  {
   "cell_type": "code",
   "execution_count": 80,
   "id": "7b1da421-c4ed-4b12-ba3b-cb986e5e906b",
   "metadata": {},
   "outputs": [
    {
     "name": "stdout",
     "output_type": "stream",
     "text": [
      "num_duis BoxCox skew value: 1.58\n"
     ]
    },
    {
     "data": {
      "text/plain": [
       "<seaborn.axisgrid.FacetGrid at 0x2421e00b3d0>"
      ]
     },
     "execution_count": 80,
     "metadata": {},
     "output_type": "execute_result"
    },
    {
     "data": {
      "image/png": "[encoded data removed]",
      "text/plain": [
       "<Figure size 500x500 with 1 Axes>"
      ]
     },
     "metadata": {},
     "output_type": "display_data"
    }
   ],
   "source": [
    "# Trying BoxCox transformation\n",
    "imputed_num_cols[\"num_duis_one\"] = imputed_num_cols[\"num_duis\"] + 1\n",
    "\n",
    "imputed_num_cols[\"num_duis_box\"] = power_transform(pd.DataFrame(imputed_num_cols[\"num_duis_one\"]), method=\"box-cox\")\n",
    "print(f\"num_duis BoxCox skew value: {imputed_num_cols['num_duis_box'].skew():.2f}\")\n",
    "sns.displot(imputed_num_cols[\"num_duis_box\"], kde=True, bins=30)"
   ]
  },
  {
   "cell_type": "markdown",
   "id": "c422e49c-e0f2-4876-acc3-6fafb1538b95",
   "metadata": {},
   "source": [
    "The num_duis feature is also not performing good enough under the BoxCox transformation\n",
    "\n",
    "Dropping the num_duis feature may be necessary, as the data is too skewed and may do more harm than good for certain ML models\n",
    "\n",
    "The num_duis feature is also not significant according to our correlation matrix, so let's just drop it for now"
   ]
  },
  {
   "cell_type": "code",
   "execution_count": 82,
   "id": "c6b17128-bffa-4cdb-a34f-98b3bb6ef773",
   "metadata": {},
   "outputs": [],
   "source": [
    "# Dropping num_duis column\n",
    "imputed_num_cols = imputed_num_cols.drop(columns=[\"num_duis\"])"
   ]
  },
  {
   "cell_type": "markdown",
   "id": "a1fd7cdd-aac3-4cc9-b94c-c7283344f7f5",
   "metadata": {},
   "source": [
    "Since BoxCox transformation worked best out of the three, we'll continue to use it for the next two features"
   ]
  },
  {
   "cell_type": "code",
   "execution_count": 84,
   "id": "9d9dd32a-8b44-4a3e-9c12-59e6c60333cd",
   "metadata": {},
   "outputs": [
    {
     "name": "stdout",
     "output_type": "stream",
     "text": [
      "past_accidents BoxCox skew value: 0.41\n"
     ]
    },
    {
     "data": {
      "text/plain": [
       "<seaborn.axisgrid.FacetGrid at 0x2421e0ac190>"
      ]
     },
     "execution_count": 84,
     "metadata": {},
     "output_type": "execute_result"
    },
    {
     "data": {
      "image/png": "[encoded data removed]",
      "text/plain": [
       "<Figure size 500x500 with 1 Axes>"
      ]
     },
     "metadata": {},
     "output_type": "display_data"
    }
   ],
   "source": [
    "# Since the BoxCox transformation only works on positive values, add 1 to column values\n",
    "imputed_num_cols[\"num_past_accidents_one\"] = imputed_num_cols[\"num_past_accidents\"] + 1\n",
    "\n",
    "# Applying transformation and checking skew value \n",
    "imputed_num_cols[\"num_past_accidents_box\"] = power_transform(pd.DataFrame(imputed_num_cols[\"num_past_accidents_one\"]), method=\"box-cox\")\n",
    "print(f\"past_accidents BoxCox skew value: {imputed_num_cols['num_past_accidents_box'].skew():.2f}\")\n",
    "sns.displot(imputed_num_cols[\"num_past_accidents_box\"], kde=True, bins=20)"
   ]
  },
  {
   "cell_type": "code",
   "execution_count": 85,
   "id": "7b96529a-6e43-4ea5-80ca-f8b8d6c2cf04",
   "metadata": {},
   "outputs": [
    {
     "name": "stdout",
     "output_type": "stream",
     "text": [
      "num_duis sqrt skew value: 0.80\n"
     ]
    },
    {
     "data": {
      "text/plain": [
       "<seaborn.axisgrid.FacetGrid at 0x2421e0c24d0>"
      ]
     },
     "execution_count": 85,
     "metadata": {},
     "output_type": "execute_result"
    },
    {
     "data": {
      "image/png": "[encoded data removed]",
      "text/plain": [
       "<Figure size 500x500 with 1 Axes>"
      ]
     },
     "metadata": {},
     "output_type": "display_data"
    }
   ],
   "source": [
    "# Double check if square root transformation improves the skew value\n",
    "\n",
    "imputed_num_cols[\"num_past_accidents_sqrt\"] = np.sqrt(imputed_num_cols[\"num_past_accidents\"])\n",
    "\n",
    "# Print skew value and plot transformation\n",
    "print(f\"num_duis sqrt skew value: {imputed_num_cols['num_past_accidents_sqrt'].skew():.2f}\")\n",
    "sns.displot(imputed_num_cols[\"num_past_accidents_sqrt\"], kde=True, bins=30)"
   ]
  },
  {
   "cell_type": "markdown",
   "id": "0ff28e88-32bd-41a7-83a5-31cdddfd4ef4",
   "metadata": {},
   "source": [
    "The square root transformation performed worse\n",
    "\n",
    "However, the skew value of num_past_accidents improved to a relatively acceptable value using BoxCox, will keep the feature for now"
   ]
  },
  {
   "cell_type": "code",
   "execution_count": 87,
   "id": "b4fdd2d7-1637-4b59-8539-8e75b062e211",
   "metadata": {},
   "outputs": [
    {
     "name": "stdout",
     "output_type": "stream",
     "text": [
      "imputed_num_cols BoxCox skew value: 0.30\n"
     ]
    },
    {
     "data": {
      "text/plain": [
       "<seaborn.axisgrid.FacetGrid at 0x2421e2032d0>"
      ]
     },
     "execution_count": 87,
     "metadata": {},
     "output_type": "execute_result"
    },
    {
     "data": {
      "image/png": "[encoded data removed]",
      "text/plain": [
       "<Figure size 500x500 with 1 Axes>"
      ]
     },
     "metadata": {},
     "output_type": "display_data"
    }
   ],
   "source": [
    "# Apply BoxCox transformation to speeding violations feature\n",
    "imputed_num_cols[\"num_speeding_violations_one\"] = imputed_num_cols[\"num_speeding_violations\"] + 1\n",
    "\n",
    "imputed_num_cols[\"num_speeding_violations_box\"] = power_transform(pd.DataFrame(imputed_num_cols[\"num_speeding_violations_one\"]), method=\"box-cox\")\n",
    "print(f\"imputed_num_cols BoxCox skew value: {imputed_num_cols['num_speeding_violations_box'].skew():.2f}\")\n",
    "sns.displot(imputed_num_cols[\"num_speeding_violations_box\"], kde=True, bins=30)"
   ]
  },
  {
   "cell_type": "markdown",
   "id": "1350ab76-6015-4ded-a122-05a875acd325",
   "metadata": {},
   "source": [
    "Skew value of num_speeding_violations also improved to an acceptable level, so we'll keep this column for now"
   ]
  },
  {
   "cell_type": "code",
   "execution_count": 89,
   "id": "94709fc2-2e4b-493e-86a0-31191c99bfda",
   "metadata": {},
   "outputs": [],
   "source": [
    "# Replacing feature values with updated ones\n",
    "imputed_num_cols[\"num_speeding_violations\"] = imputed_num_cols[\"num_speeding_violations_box\"]\n",
    "imputed_num_cols[\"num_past_accidents\"] = imputed_num_cols[\"num_past_accidents_box\"]"
   ]
  },
  {
   "cell_type": "code",
   "execution_count": 90,
   "id": "444a6ce5-5785-4ca5-8e59-649f890f32c8",
   "metadata": {},
   "outputs": [],
   "source": [
    "# Drop extra columns created during the transformations\n",
    "imputed_num_cols = imputed_num_cols.drop(columns=[\"num_duis_sqrt\",\"num_duis_one\",\"num_duis_log\",\"num_duis_box\",\n",
    "                                                  \"num_past_accidents_one\",\"num_past_accidents_box\",\n",
    "                                                  \"num_past_accidents_sqrt\",\"num_speeding_violations_one\",\n",
    "                                                  \"num_speeding_violations_box\"])                      "
   ]
  },
  {
   "cell_type": "markdown",
   "id": "1595bee1-66b3-4cc1-af40-01d8a7848f6f",
   "metadata": {},
   "source": [
    "#### 3.4 Feature Scaling Numerical Features"
   ]
  },
  {
   "cell_type": "code",
   "execution_count": 92,
   "id": "272bd51f-5d99-4d81-9618-b6f6607c6e2a",
   "metadata": {},
   "outputs": [
    {
     "data": {
      "text/html": [
       "<div>\n",
       "<style scoped>\n",
       "    .dataframe tbody tr th:only-of-type {\n",
       "        vertical-align: middle;\n",
       "    }\n",
       "\n",
       "    .dataframe tbody tr th {\n",
       "        vertical-align: top;\n",
       "    }\n",
       "\n",
       "    .dataframe thead th {\n",
       "        text-align: right;\n",
       "    }\n",
       "</style>\n",
       "<table border=\"1\" class=\"dataframe\">\n",
       "  <thead>\n",
       "    <tr style=\"text-align: right;\">\n",
       "      <th></th>\n",
       "      <th>credit_score</th>\n",
       "      <th>annual_mileage</th>\n",
       "      <th>num_speeding_violations</th>\n",
       "      <th>num_past_accidents</th>\n",
       "    </tr>\n",
       "  </thead>\n",
       "  <tbody>\n",
       "    <tr>\n",
       "      <th>count</th>\n",
       "      <td>7990.000000</td>\n",
       "      <td>7990.000000</td>\n",
       "      <td>7.990000e+03</td>\n",
       "      <td>7.990000e+03</td>\n",
       "    </tr>\n",
       "    <tr>\n",
       "      <th>mean</th>\n",
       "      <td>0.516132</td>\n",
       "      <td>11730.413016</td>\n",
       "      <td>4.802166e-17</td>\n",
       "      <td>9.159687e-17</td>\n",
       "    </tr>\n",
       "    <tr>\n",
       "      <th>std</th>\n",
       "      <td>0.131360</td>\n",
       "      <td>2675.772481</td>\n",
       "      <td>1.000063e+00</td>\n",
       "      <td>1.000063e+00</td>\n",
       "    </tr>\n",
       "    <tr>\n",
       "      <th>min</th>\n",
       "      <td>0.053358</td>\n",
       "      <td>2000.000000</td>\n",
       "      <td>-9.403561e-01</td>\n",
       "      <td>-8.646870e-01</td>\n",
       "    </tr>\n",
       "    <tr>\n",
       "      <th>25%</th>\n",
       "      <td>0.429691</td>\n",
       "      <td>10000.000000</td>\n",
       "      <td>-9.403561e-01</td>\n",
       "      <td>-8.646870e-01</td>\n",
       "    </tr>\n",
       "    <tr>\n",
       "      <th>50%</th>\n",
       "      <td>0.524603</td>\n",
       "      <td>12000.000000</td>\n",
       "      <td>-9.403561e-01</td>\n",
       "      <td>-8.646870e-01</td>\n",
       "    </tr>\n",
       "    <tr>\n",
       "      <th>75%</th>\n",
       "      <td>0.608239</td>\n",
       "      <td>13000.000000</td>\n",
       "      <td>8.930960e-01</td>\n",
       "      <td>1.153454e+00</td>\n",
       "    </tr>\n",
       "    <tr>\n",
       "      <th>max</th>\n",
       "      <td>0.915883</td>\n",
       "      <td>22000.000000</td>\n",
       "      <td>1.993653e+00</td>\n",
       "      <td>1.875114e+00</td>\n",
       "    </tr>\n",
       "  </tbody>\n",
       "</table>\n",
       "</div>"
      ],
      "text/plain": [
       "       credit_score  annual_mileage  num_speeding_violations  \\\n",
       "count   7990.000000     7990.000000             7.990000e+03   \n",
       "mean       0.516132    11730.413016             4.802166e-17   \n",
       "std        0.131360     2675.772481             1.000063e+00   \n",
       "min        0.053358     2000.000000            -9.403561e-01   \n",
       "25%        0.429691    10000.000000            -9.403561e-01   \n",
       "50%        0.524603    12000.000000            -9.403561e-01   \n",
       "75%        0.608239    13000.000000             8.930960e-01   \n",
       "max        0.915883    22000.000000             1.993653e+00   \n",
       "\n",
       "       num_past_accidents  \n",
       "count        7.990000e+03  \n",
       "mean         9.159687e-17  \n",
       "std          1.000063e+00  \n",
       "min         -8.646870e-01  \n",
       "25%         -8.646870e-01  \n",
       "50%         -8.646870e-01  \n",
       "75%          1.153454e+00  \n",
       "max          1.875114e+00  "
      ]
     },
     "execution_count": 92,
     "metadata": {},
     "output_type": "execute_result"
    }
   ],
   "source": [
    "imputed_num_cols.describe()"
   ]
  },
  {
   "cell_type": "markdown",
   "id": "98d665d6-5677-49df-b66c-959d2dea9abb",
   "metadata": {},
   "source": [
    "credit_score and annual_mileage still have outliers\n",
    "\n",
    "I will use RobustScaler to keep them in the data but not have them affect the scaling method as strongly"
   ]
  },
  {
   "cell_type": "code",
   "execution_count": 94,
   "id": "d09d86f9-004a-4e36-8902-6818f5e3054c",
   "metadata": {},
   "outputs": [
    {
     "data": {
      "text/html": [
       "<div>\n",
       "<style scoped>\n",
       "    .dataframe tbody tr th:only-of-type {\n",
       "        vertical-align: middle;\n",
       "    }\n",
       "\n",
       "    .dataframe tbody tr th {\n",
       "        vertical-align: top;\n",
       "    }\n",
       "\n",
       "    .dataframe thead th {\n",
       "        text-align: right;\n",
       "    }\n",
       "</style>\n",
       "<table border=\"1\" class=\"dataframe\">\n",
       "  <thead>\n",
       "    <tr style=\"text-align: right;\">\n",
       "      <th></th>\n",
       "      <th>credit_score</th>\n",
       "      <th>annual_mileage</th>\n",
       "      <th>num_speeding_violations</th>\n",
       "      <th>num_past_accidents</th>\n",
       "    </tr>\n",
       "  </thead>\n",
       "  <tbody>\n",
       "    <tr>\n",
       "      <th>0</th>\n",
       "      <td>-0.820823</td>\n",
       "      <td>0.333333</td>\n",
       "      <td>1.00000</td>\n",
       "      <td>1.115369</td>\n",
       "    </tr>\n",
       "    <tr>\n",
       "      <th>1</th>\n",
       "      <td>0.000000</td>\n",
       "      <td>0.666667</td>\n",
       "      <td>0.00000</td>\n",
       "      <td>0.000000</td>\n",
       "    </tr>\n",
       "    <tr>\n",
       "      <th>2</th>\n",
       "      <td>0.367674</td>\n",
       "      <td>0.000000</td>\n",
       "      <td>0.00000</td>\n",
       "      <td>0.000000</td>\n",
       "    </tr>\n",
       "    <tr>\n",
       "      <th>3</th>\n",
       "      <td>1.250311</td>\n",
       "      <td>0.333333</td>\n",
       "      <td>0.72381</td>\n",
       "      <td>0.000000</td>\n",
       "    </tr>\n",
       "    <tr>\n",
       "      <th>4</th>\n",
       "      <td>1.151683</td>\n",
       "      <td>-0.333333</td>\n",
       "      <td>0.00000</td>\n",
       "      <td>0.000000</td>\n",
       "    </tr>\n",
       "  </tbody>\n",
       "</table>\n",
       "</div>"
      ],
      "text/plain": [
       "   credit_score  annual_mileage  num_speeding_violations  num_past_accidents\n",
       "0     -0.820823        0.333333                  1.00000            1.115369\n",
       "1      0.000000        0.666667                  0.00000            0.000000\n",
       "2      0.367674        0.000000                  0.00000            0.000000\n",
       "3      1.250311        0.333333                  0.72381            0.000000\n",
       "4      1.151683       -0.333333                  0.00000            0.000000"
      ]
     },
     "execution_count": 94,
     "metadata": {},
     "output_type": "execute_result"
    }
   ],
   "source": [
    "# Using RobustScaler to scale numeral columns\n",
    "scaler = RobustScaler()\n",
    "\n",
    "num_scaled = scaler.fit_transform(imputed_num_cols)\n",
    "num_scaled_df = pd.DataFrame(num_scaled, columns=imputed_num_cols.columns)\n",
    "\n",
    "num_scaled_df.head()"
   ]
  },
  {
   "cell_type": "code",
   "execution_count": 95,
   "id": "cf1f78ac-d945-45b0-81ac-52c62441775e",
   "metadata": {},
   "outputs": [
    {
     "data": {
      "text/html": [
       "<div>\n",
       "<style scoped>\n",
       "    .dataframe tbody tr th:only-of-type {\n",
       "        vertical-align: middle;\n",
       "    }\n",
       "\n",
       "    .dataframe tbody tr th {\n",
       "        vertical-align: top;\n",
       "    }\n",
       "\n",
       "    .dataframe thead th {\n",
       "        text-align: right;\n",
       "    }\n",
       "</style>\n",
       "<table border=\"1\" class=\"dataframe\">\n",
       "  <thead>\n",
       "    <tr style=\"text-align: right;\">\n",
       "      <th></th>\n",
       "      <th>credit_score</th>\n",
       "      <th>annual_mileage</th>\n",
       "      <th>num_speeding_violations</th>\n",
       "      <th>num_past_accidents</th>\n",
       "    </tr>\n",
       "  </thead>\n",
       "  <tbody>\n",
       "    <tr>\n",
       "      <th>count</th>\n",
       "      <td>7990.000000</td>\n",
       "      <td>7990.000000</td>\n",
       "      <td>7990.000000</td>\n",
       "      <td>7990.000000</td>\n",
       "    </tr>\n",
       "    <tr>\n",
       "      <th>mean</th>\n",
       "      <td>-0.047441</td>\n",
       "      <td>-0.089862</td>\n",
       "      <td>0.512888</td>\n",
       "      <td>0.428457</td>\n",
       "    </tr>\n",
       "    <tr>\n",
       "      <th>std</th>\n",
       "      <td>0.735711</td>\n",
       "      <td>0.891924</td>\n",
       "      <td>0.545453</td>\n",
       "      <td>0.495536</td>\n",
       "    </tr>\n",
       "    <tr>\n",
       "      <th>min</th>\n",
       "      <td>-2.639319</td>\n",
       "      <td>-3.333333</td>\n",
       "      <td>0.000000</td>\n",
       "      <td>0.000000</td>\n",
       "    </tr>\n",
       "    <tr>\n",
       "      <th>25%</th>\n",
       "      <td>-0.531572</td>\n",
       "      <td>-0.666667</td>\n",
       "      <td>0.000000</td>\n",
       "      <td>0.000000</td>\n",
       "    </tr>\n",
       "    <tr>\n",
       "      <th>50%</th>\n",
       "      <td>0.000000</td>\n",
       "      <td>0.000000</td>\n",
       "      <td>0.000000</td>\n",
       "      <td>0.000000</td>\n",
       "    </tr>\n",
       "    <tr>\n",
       "      <th>75%</th>\n",
       "      <td>0.468428</td>\n",
       "      <td>0.333333</td>\n",
       "      <td>1.000000</td>\n",
       "      <td>1.000000</td>\n",
       "    </tr>\n",
       "    <tr>\n",
       "      <th>max</th>\n",
       "      <td>2.191459</td>\n",
       "      <td>3.333333</td>\n",
       "      <td>1.600265</td>\n",
       "      <td>1.357586</td>\n",
       "    </tr>\n",
       "  </tbody>\n",
       "</table>\n",
       "</div>"
      ],
      "text/plain": [
       "       credit_score  annual_mileage  num_speeding_violations  \\\n",
       "count   7990.000000     7990.000000              7990.000000   \n",
       "mean      -0.047441       -0.089862                 0.512888   \n",
       "std        0.735711        0.891924                 0.545453   \n",
       "min       -2.639319       -3.333333                 0.000000   \n",
       "25%       -0.531572       -0.666667                 0.000000   \n",
       "50%        0.000000        0.000000                 0.000000   \n",
       "75%        0.468428        0.333333                 1.000000   \n",
       "max        2.191459        3.333333                 1.600265   \n",
       "\n",
       "       num_past_accidents  \n",
       "count         7990.000000  \n",
       "mean             0.428457  \n",
       "std              0.495536  \n",
       "min              0.000000  \n",
       "25%              0.000000  \n",
       "50%              0.000000  \n",
       "75%              1.000000  \n",
       "max              1.357586  "
      ]
     },
     "execution_count": 95,
     "metadata": {},
     "output_type": "execute_result"
    }
   ],
   "source": [
    "num_scaled_df.describe()"
   ]
  },
  {
   "cell_type": "markdown",
   "id": "1de781ec-38fa-41db-aa28-641ae325a077",
   "metadata": {},
   "source": [
    "#### 3.5 Encoding Categorical Features"
   ]
  },
  {
   "cell_type": "code",
   "execution_count": 97,
   "id": "0306899a-bc4b-48b7-b218-0cf53dad2232",
   "metadata": {},
   "outputs": [
    {
     "data": {
      "text/html": [
       "<div>\n",
       "<style scoped>\n",
       "    .dataframe tbody tr th:only-of-type {\n",
       "        vertical-align: middle;\n",
       "    }\n",
       "\n",
       "    .dataframe tbody tr th {\n",
       "        vertical-align: top;\n",
       "    }\n",
       "\n",
       "    .dataframe thead th {\n",
       "        text-align: right;\n",
       "    }\n",
       "</style>\n",
       "<table border=\"1\" class=\"dataframe\">\n",
       "  <thead>\n",
       "    <tr style=\"text-align: right;\">\n",
       "      <th></th>\n",
       "      <th>age</th>\n",
       "      <th>driving_experience</th>\n",
       "      <th>education_level</th>\n",
       "      <th>income_level</th>\n",
       "    </tr>\n",
       "  </thead>\n",
       "  <tbody>\n",
       "    <tr>\n",
       "      <th>0</th>\n",
       "      <td>1.0</td>\n",
       "      <td>1.0</td>\n",
       "      <td>0.0</td>\n",
       "      <td>1.0</td>\n",
       "    </tr>\n",
       "    <tr>\n",
       "      <th>1</th>\n",
       "      <td>0.0</td>\n",
       "      <td>0.0</td>\n",
       "      <td>0.0</td>\n",
       "      <td>0.0</td>\n",
       "    </tr>\n",
       "    <tr>\n",
       "      <th>2</th>\n",
       "      <td>3.0</td>\n",
       "      <td>0.0</td>\n",
       "      <td>2.0</td>\n",
       "      <td>3.0</td>\n",
       "    </tr>\n",
       "    <tr>\n",
       "      <th>3</th>\n",
       "      <td>1.0</td>\n",
       "      <td>1.0</td>\n",
       "      <td>2.0</td>\n",
       "      <td>3.0</td>\n",
       "    </tr>\n",
       "    <tr>\n",
       "      <th>4</th>\n",
       "      <td>3.0</td>\n",
       "      <td>0.0</td>\n",
       "      <td>1.0</td>\n",
       "      <td>3.0</td>\n",
       "    </tr>\n",
       "  </tbody>\n",
       "</table>\n",
       "</div>"
      ],
      "text/plain": [
       "   age  driving_experience  education_level  income_level\n",
       "0  1.0                 1.0              0.0           1.0\n",
       "1  0.0                 0.0              0.0           0.0\n",
       "2  3.0                 0.0              2.0           3.0\n",
       "3  1.0                 1.0              2.0           3.0\n",
       "4  3.0                 0.0              1.0           3.0"
      ]
     },
     "execution_count": 97,
     "metadata": {},
     "output_type": "execute_result"
    }
   ],
   "source": [
    "# Apply ordinal encoding for ordinal categorical columns\n",
    "\n",
    "# Define inherent orders for ordinal features\n",
    "age_order = [\"16-25\", \"26-39\", \"40-64\", \"65+\"]\n",
    "driving_exp_order = [\"0-9y\", \"10-19y\", \"20-29y\", \"30y+\"]\n",
    "education_level_order = [\"none\", \"high school\", \"university\"]\n",
    "income_level_order = [\"poverty\", \"working class\", \"middle class\", \"upper class\"]\n",
    "\n",
    "# Create encoder using the orders from above and handling unknown values by seting them to -1\n",
    "ordinal_encoder = OrdinalEncoder(categories=[age_order, driving_exp_order, education_level_order, income_level_order],\n",
    "                                 handle_unknown='use_encoded_value', unknown_value=-1)\n",
    "\n",
    "ord_cat_encoded = ordinal_encoder.fit_transform(imputed_ord_cols)\n",
    "ord_cat_encoded = pd.DataFrame(ord_cat_encoded, columns = imputed_ord_cols.columns)\n",
    "ord_cat_encoded.head()"
   ]
  },
  {
   "cell_type": "code",
   "execution_count": 98,
   "id": "560574db-a01a-4f0f-a549-981bf6d246df",
   "metadata": {},
   "outputs": [
    {
     "data": {
      "text/html": [
       "<div>\n",
       "<style scoped>\n",
       "    .dataframe tbody tr th:only-of-type {\n",
       "        vertical-align: middle;\n",
       "    }\n",
       "\n",
       "    .dataframe tbody tr th {\n",
       "        vertical-align: top;\n",
       "    }\n",
       "\n",
       "    .dataframe thead th {\n",
       "        text-align: right;\n",
       "    }\n",
       "</style>\n",
       "<table border=\"1\" class=\"dataframe\">\n",
       "  <thead>\n",
       "    <tr style=\"text-align: right;\">\n",
       "      <th></th>\n",
       "      <th>postal_code_10238</th>\n",
       "      <th>postal_code_21217</th>\n",
       "      <th>postal_code_32765</th>\n",
       "      <th>postal_code_92101</th>\n",
       "    </tr>\n",
       "  </thead>\n",
       "  <tbody>\n",
       "    <tr>\n",
       "      <th>0</th>\n",
       "      <td>1.0</td>\n",
       "      <td>0.0</td>\n",
       "      <td>0.0</td>\n",
       "      <td>0.0</td>\n",
       "    </tr>\n",
       "    <tr>\n",
       "      <th>1</th>\n",
       "      <td>0.0</td>\n",
       "      <td>1.0</td>\n",
       "      <td>0.0</td>\n",
       "      <td>0.0</td>\n",
       "    </tr>\n",
       "    <tr>\n",
       "      <th>2</th>\n",
       "      <td>1.0</td>\n",
       "      <td>0.0</td>\n",
       "      <td>0.0</td>\n",
       "      <td>0.0</td>\n",
       "    </tr>\n",
       "    <tr>\n",
       "      <th>3</th>\n",
       "      <td>0.0</td>\n",
       "      <td>0.0</td>\n",
       "      <td>1.0</td>\n",
       "      <td>0.0</td>\n",
       "    </tr>\n",
       "    <tr>\n",
       "      <th>4</th>\n",
       "      <td>0.0</td>\n",
       "      <td>0.0</td>\n",
       "      <td>1.0</td>\n",
       "      <td>0.0</td>\n",
       "    </tr>\n",
       "  </tbody>\n",
       "</table>\n",
       "</div>"
      ],
      "text/plain": [
       "   postal_code_10238  postal_code_21217  postal_code_32765  postal_code_92101\n",
       "0                1.0                0.0                0.0                0.0\n",
       "1                0.0                1.0                0.0                0.0\n",
       "2                1.0                0.0                0.0                0.0\n",
       "3                0.0                0.0                1.0                0.0\n",
       "4                0.0                0.0                1.0                0.0"
      ]
     },
     "execution_count": 98,
     "metadata": {},
     "output_type": "execute_result"
    }
   ],
   "source": [
    "# Apply OneHotEncoder to nominal categorical columns\n",
    "one_hot_encoder = OneHotEncoder(sparse_output=False)\n",
    "nom_cat_encoded = one_hot_encoder.fit_transform(imputed_nom_cols)\n",
    "\n",
    "# Generates the new feature names after encoding and adds to a list\n",
    "encoded_columns = one_hot_encoder.get_feature_names_out(imputed_nom_cols.columns)\n",
    "\n",
    "# Transform the array into a df and use encoded_columns to specify column names\n",
    "nom_cat_encoded_df = pd.DataFrame(nom_cat_encoded, columns=encoded_columns)\n",
    "nom_cat_encoded_df.head()"
   ]
  },
  {
   "cell_type": "code",
   "execution_count": 99,
   "id": "4ffc3a3c-c916-49d5-bb2e-460278117f69",
   "metadata": {},
   "outputs": [
    {
     "data": {
      "text/html": [
       "<div>\n",
       "<style scoped>\n",
       "    .dataframe tbody tr th:only-of-type {\n",
       "        vertical-align: middle;\n",
       "    }\n",
       "\n",
       "    .dataframe tbody tr th {\n",
       "        vertical-align: top;\n",
       "    }\n",
       "\n",
       "    .dataframe thead th {\n",
       "        text-align: right;\n",
       "    }\n",
       "</style>\n",
       "<table border=\"1\" class=\"dataframe\">\n",
       "  <thead>\n",
       "    <tr style=\"text-align: right;\">\n",
       "      <th></th>\n",
       "      <th>credit_score</th>\n",
       "      <th>annual_mileage</th>\n",
       "      <th>num_speeding_violations</th>\n",
       "      <th>num_past_accidents</th>\n",
       "      <th>age</th>\n",
       "      <th>driving_experience</th>\n",
       "      <th>education_level</th>\n",
       "      <th>income_level</th>\n",
       "      <th>postal_code_10238</th>\n",
       "      <th>postal_code_21217</th>\n",
       "      <th>postal_code_32765</th>\n",
       "      <th>postal_code_92101</th>\n",
       "      <th>gender</th>\n",
       "      <th>vehicle_owned</th>\n",
       "      <th>vehicle_year</th>\n",
       "      <th>is_married</th>\n",
       "      <th>has_children</th>\n",
       "    </tr>\n",
       "  </thead>\n",
       "  <tbody>\n",
       "    <tr>\n",
       "      <th>0</th>\n",
       "      <td>-0.820823</td>\n",
       "      <td>0.333333</td>\n",
       "      <td>1.00000</td>\n",
       "      <td>1.115369</td>\n",
       "      <td>1.0</td>\n",
       "      <td>1.0</td>\n",
       "      <td>0.0</td>\n",
       "      <td>1.0</td>\n",
       "      <td>1.0</td>\n",
       "      <td>0.0</td>\n",
       "      <td>0.0</td>\n",
       "      <td>0.0</td>\n",
       "      <td>1.0</td>\n",
       "      <td>0.0</td>\n",
       "      <td>1.0</td>\n",
       "      <td>0.0</td>\n",
       "      <td>0.0</td>\n",
       "    </tr>\n",
       "    <tr>\n",
       "      <th>1</th>\n",
       "      <td>0.000000</td>\n",
       "      <td>0.666667</td>\n",
       "      <td>0.00000</td>\n",
       "      <td>0.000000</td>\n",
       "      <td>0.0</td>\n",
       "      <td>0.0</td>\n",
       "      <td>0.0</td>\n",
       "      <td>0.0</td>\n",
       "      <td>0.0</td>\n",
       "      <td>1.0</td>\n",
       "      <td>0.0</td>\n",
       "      <td>0.0</td>\n",
       "      <td>0.0</td>\n",
       "      <td>0.0</td>\n",
       "      <td>0.0</td>\n",
       "      <td>0.0</td>\n",
       "      <td>0.0</td>\n",
       "    </tr>\n",
       "    <tr>\n",
       "      <th>2</th>\n",
       "      <td>0.367674</td>\n",
       "      <td>0.000000</td>\n",
       "      <td>0.00000</td>\n",
       "      <td>0.000000</td>\n",
       "      <td>3.0</td>\n",
       "      <td>0.0</td>\n",
       "      <td>2.0</td>\n",
       "      <td>3.0</td>\n",
       "      <td>1.0</td>\n",
       "      <td>0.0</td>\n",
       "      <td>0.0</td>\n",
       "      <td>0.0</td>\n",
       "      <td>0.0</td>\n",
       "      <td>1.0</td>\n",
       "      <td>1.0</td>\n",
       "      <td>1.0</td>\n",
       "      <td>1.0</td>\n",
       "    </tr>\n",
       "    <tr>\n",
       "      <th>3</th>\n",
       "      <td>1.250311</td>\n",
       "      <td>0.333333</td>\n",
       "      <td>0.72381</td>\n",
       "      <td>0.000000</td>\n",
       "      <td>1.0</td>\n",
       "      <td>1.0</td>\n",
       "      <td>2.0</td>\n",
       "      <td>3.0</td>\n",
       "      <td>0.0</td>\n",
       "      <td>0.0</td>\n",
       "      <td>1.0</td>\n",
       "      <td>0.0</td>\n",
       "      <td>0.0</td>\n",
       "      <td>1.0</td>\n",
       "      <td>0.0</td>\n",
       "      <td>1.0</td>\n",
       "      <td>1.0</td>\n",
       "    </tr>\n",
       "    <tr>\n",
       "      <th>4</th>\n",
       "      <td>1.151683</td>\n",
       "      <td>-0.333333</td>\n",
       "      <td>0.00000</td>\n",
       "      <td>0.000000</td>\n",
       "      <td>3.0</td>\n",
       "      <td>0.0</td>\n",
       "      <td>1.0</td>\n",
       "      <td>3.0</td>\n",
       "      <td>0.0</td>\n",
       "      <td>0.0</td>\n",
       "      <td>1.0</td>\n",
       "      <td>0.0</td>\n",
       "      <td>1.0</td>\n",
       "      <td>1.0</td>\n",
       "      <td>0.0</td>\n",
       "      <td>0.0</td>\n",
       "      <td>0.0</td>\n",
       "    </tr>\n",
       "  </tbody>\n",
       "</table>\n",
       "</div>"
      ],
      "text/plain": [
       "   credit_score  annual_mileage  num_speeding_violations  num_past_accidents  \\\n",
       "0     -0.820823        0.333333                  1.00000            1.115369   \n",
       "1      0.000000        0.666667                  0.00000            0.000000   \n",
       "2      0.367674        0.000000                  0.00000            0.000000   \n",
       "3      1.250311        0.333333                  0.72381            0.000000   \n",
       "4      1.151683       -0.333333                  0.00000            0.000000   \n",
       "\n",
       "   age  driving_experience  education_level  income_level  postal_code_10238  \\\n",
       "0  1.0                 1.0              0.0           1.0                1.0   \n",
       "1  0.0                 0.0              0.0           0.0                0.0   \n",
       "2  3.0                 0.0              2.0           3.0                1.0   \n",
       "3  1.0                 1.0              2.0           3.0                0.0   \n",
       "4  3.0                 0.0              1.0           3.0                0.0   \n",
       "\n",
       "   postal_code_21217  postal_code_32765  postal_code_92101  gender  \\\n",
       "0                0.0                0.0                0.0     1.0   \n",
       "1                1.0                0.0                0.0     0.0   \n",
       "2                0.0                0.0                0.0     0.0   \n",
       "3                0.0                1.0                0.0     0.0   \n",
       "4                0.0                1.0                0.0     1.0   \n",
       "\n",
       "   vehicle_owned  vehicle_year  is_married  has_children  \n",
       "0            0.0           1.0         0.0           0.0  \n",
       "1            0.0           0.0         0.0           0.0  \n",
       "2            1.0           1.0         1.0           1.0  \n",
       "3            1.0           0.0         1.0           1.0  \n",
       "4            1.0           0.0         0.0           0.0  "
      ]
     },
     "execution_count": 99,
     "metadata": {},
     "output_type": "execute_result"
    }
   ],
   "source": [
    "# Combining all transformed dataframes into one\n",
    "X_train_clean = pd.concat([num_scaled_df, ord_cat_encoded, nom_cat_encoded_df, imputed_bin_cols], axis=1)\n",
    "X_train_clean.head()"
   ]
  },
  {
   "cell_type": "markdown",
   "id": "d9232e8f-862e-4322-8fcf-e8a1a72ab346",
   "metadata": {},
   "source": [
    "#### 3.6 Oversampling Data using ADASYN\n",
    "\n",
    "- As we saw early in the Overview process, we need to use oversampling techniques to balance out the postive claims to match the amount of negative claims\n",
    "\n",
    "- Oversampling replicates minority datapoints to acheive a more balanced dataset and prevent our ML models from downplaying our positive insurance claims datapoints\n",
    "\n",
    "- We will use ADASYN (Adaptive Synthetic Sampling), which is an oversampling technique that creates synthetic minority data with a focus on borderline examples\n",
    "\n",
    "**Note:** We had to implement this after encoding because ADASYN only works on numerical data"
   ]
  },
  {
   "cell_type": "code",
   "execution_count": 101,
   "id": "b6fc7452-e312-4786-99eb-4862efd7f10f",
   "metadata": {},
   "outputs": [],
   "source": [
    "adasyn = ADASYN(random_state=42)\n",
    "\n",
    "X_train_resampled, y_train_resampled = adasyn.fit_resample(X_train_clean, y_train)"
   ]
  },
  {
   "cell_type": "code",
   "execution_count": 102,
   "id": "9b4c9383-6c37-4c4d-97bb-86ef27b88e7a",
   "metadata": {},
   "outputs": [
    {
     "name": "stdout",
     "output_type": "stream",
     "text": [
      "Positive claims: 5578\n",
      "Negative claims: 5491\n"
     ]
    }
   ],
   "source": [
    "# Checking balance of data after oversampling\n",
    "postive_claim_count = 0\n",
    "negative_claim_count = 0\n",
    "\n",
    "for i in range(len(y_train_resampled)):\n",
    "    if y_train_resampled.iloc[i] == 1:\n",
    "        postive_claim_count += 1\n",
    "    else:\n",
    "        negative_claim_count += 1\n",
    "\n",
    "print(f\"Positive claims: {postive_claim_count}\")\n",
    "print(f\"Negative claims: {negative_claim_count}\")"
   ]
  },
  {
   "cell_type": "markdown",
   "id": "02b82ad0-7dbf-4cc7-a0d1-1010f78579d4",
   "metadata": {},
   "source": [
    "#### 3.7 Checking the VIF\n",
    "\n",
    "Check the presence of multicollinearity using the variance inflation factor, or VIF\n",
    "\n",
    "- This is important as strongly/perfectly correlated features lead to difficulties accurately determining the contribution of predictors for certain models\n",
    "\n",
    "- This could make it difficult to properly predict coefficient estimates for linear based models\n",
    "\n",
    "- It is especially important to check with our nominal categorical features, as OneHot encoding often leads to perfect multicollinearity between the encoded features"
   ]
  },
  {
   "cell_type": "code",
   "execution_count": 104,
   "id": "8f5a4e87-3756-459b-9afc-443c657c931d",
   "metadata": {},
   "outputs": [
    {
     "data": {
      "text/html": [
       "<div>\n",
       "<style scoped>\n",
       "    .dataframe tbody tr th:only-of-type {\n",
       "        vertical-align: middle;\n",
       "    }\n",
       "\n",
       "    .dataframe tbody tr th {\n",
       "        vertical-align: top;\n",
       "    }\n",
       "\n",
       "    .dataframe thead th {\n",
       "        text-align: right;\n",
       "    }\n",
       "</style>\n",
       "<table border=\"1\" class=\"dataframe\">\n",
       "  <thead>\n",
       "    <tr style=\"text-align: right;\">\n",
       "      <th></th>\n",
       "      <th>Features</th>\n",
       "      <th>VIF</th>\n",
       "    </tr>\n",
       "  </thead>\n",
       "  <tbody>\n",
       "    <tr>\n",
       "      <th>0</th>\n",
       "      <td>credit_score</td>\n",
       "      <td>2.052120</td>\n",
       "    </tr>\n",
       "    <tr>\n",
       "      <th>1</th>\n",
       "      <td>annual_mileage</td>\n",
       "      <td>1.670946</td>\n",
       "    </tr>\n",
       "    <tr>\n",
       "      <th>2</th>\n",
       "      <td>num_speeding_violations</td>\n",
       "      <td>2.609681</td>\n",
       "    </tr>\n",
       "    <tr>\n",
       "      <th>3</th>\n",
       "      <td>num_past_accidents</td>\n",
       "      <td>2.077992</td>\n",
       "    </tr>\n",
       "    <tr>\n",
       "      <th>4</th>\n",
       "      <td>age</td>\n",
       "      <td>3.007632</td>\n",
       "    </tr>\n",
       "    <tr>\n",
       "      <th>5</th>\n",
       "      <td>driving_experience</td>\n",
       "      <td>4.081162</td>\n",
       "    </tr>\n",
       "    <tr>\n",
       "      <th>6</th>\n",
       "      <td>education_level</td>\n",
       "      <td>1.515858</td>\n",
       "    </tr>\n",
       "    <tr>\n",
       "      <th>7</th>\n",
       "      <td>income_level</td>\n",
       "      <td>3.947644</td>\n",
       "    </tr>\n",
       "    <tr>\n",
       "      <th>8</th>\n",
       "      <td>postal_code_10238</td>\n",
       "      <td>8.376414</td>\n",
       "    </tr>\n",
       "    <tr>\n",
       "      <th>9</th>\n",
       "      <td>postal_code_21217</td>\n",
       "      <td>1.112425</td>\n",
       "    </tr>\n",
       "    <tr>\n",
       "      <th>10</th>\n",
       "      <td>postal_code_32765</td>\n",
       "      <td>3.394867</td>\n",
       "    </tr>\n",
       "    <tr>\n",
       "      <th>11</th>\n",
       "      <td>postal_code_92101</td>\n",
       "      <td>1.554986</td>\n",
       "    </tr>\n",
       "    <tr>\n",
       "      <th>12</th>\n",
       "      <td>gender</td>\n",
       "      <td>1.146307</td>\n",
       "    </tr>\n",
       "    <tr>\n",
       "      <th>13</th>\n",
       "      <td>vehicle_owned</td>\n",
       "      <td>1.219103</td>\n",
       "    </tr>\n",
       "    <tr>\n",
       "      <th>14</th>\n",
       "      <td>vehicle_year</td>\n",
       "      <td>1.150173</td>\n",
       "    </tr>\n",
       "    <tr>\n",
       "      <th>15</th>\n",
       "      <td>is_married</td>\n",
       "      <td>1.449975</td>\n",
       "    </tr>\n",
       "    <tr>\n",
       "      <th>16</th>\n",
       "      <td>has_children</td>\n",
       "      <td>1.359578</td>\n",
       "    </tr>\n",
       "  </tbody>\n",
       "</table>\n",
       "</div>"
      ],
      "text/plain": [
       "                   Features       VIF\n",
       "0              credit_score  2.052120\n",
       "1            annual_mileage  1.670946\n",
       "2   num_speeding_violations  2.609681\n",
       "3        num_past_accidents  2.077992\n",
       "4                       age  3.007632\n",
       "5        driving_experience  4.081162\n",
       "6           education_level  1.515858\n",
       "7              income_level  3.947644\n",
       "8         postal_code_10238  8.376414\n",
       "9         postal_code_21217  1.112425\n",
       "10        postal_code_32765  3.394867\n",
       "11        postal_code_92101  1.554986\n",
       "12                   gender  1.146307\n",
       "13            vehicle_owned  1.219103\n",
       "14             vehicle_year  1.150173\n",
       "15               is_married  1.449975\n",
       "16             has_children  1.359578"
      ]
     },
     "execution_count": 104,
     "metadata": {},
     "output_type": "execute_result"
    }
   ],
   "source": [
    "# Creating function to calculate the VIF\n",
    "def calc_VIF(data):\n",
    "    vif = pd.DataFrame()\n",
    "    vif[\"Features\"] = data.columns\n",
    "    vif[\"VIF\"] = [variance_inflation_factor(data.values, i) for i in range(data.shape[1])]\n",
    "    return vif\n",
    "\n",
    "VIF = calc_VIF(X_train_clean)\n",
    "VIF"
   ]
  },
  {
   "cell_type": "markdown",
   "id": "9c6eea2f-dd5a-40c3-9ecb-c9deda275d8d",
   "metadata": {},
   "source": [
    "Our VIF values seem reasonable for the most part\n",
    "\n",
    "It seems that our only OneHot encoded variable, postal_code, does not have perfect multicollinearity, so we do not have to remove the baseline category\n",
    "\n",
    "However, since postal_code_10238 still has a relatively high VIF of 8.38, we may need to apply L2 regularization when testing the certain models"
   ]
  },
  {
   "cell_type": "code",
   "execution_count": 106,
   "id": "247bd9da-0651-481c-aa54-8ce88703af59",
   "metadata": {},
   "outputs": [
    {
     "data": {
      "text/html": [
       "<div>\n",
       "<style scoped>\n",
       "    .dataframe tbody tr th:only-of-type {\n",
       "        vertical-align: middle;\n",
       "    }\n",
       "\n",
       "    .dataframe tbody tr th {\n",
       "        vertical-align: top;\n",
       "    }\n",
       "\n",
       "    .dataframe thead th {\n",
       "        text-align: right;\n",
       "    }\n",
       "</style>\n",
       "<table border=\"1\" class=\"dataframe\">\n",
       "  <thead>\n",
       "    <tr style=\"text-align: right;\">\n",
       "      <th></th>\n",
       "      <th>credit_score</th>\n",
       "      <th>annual_mileage</th>\n",
       "      <th>num_speeding_violations</th>\n",
       "      <th>num_past_accidents</th>\n",
       "      <th>age</th>\n",
       "      <th>driving_experience</th>\n",
       "      <th>education_level</th>\n",
       "      <th>income_level</th>\n",
       "      <th>postal_code_10238</th>\n",
       "      <th>postal_code_21217</th>\n",
       "      <th>postal_code_32765</th>\n",
       "      <th>postal_code_92101</th>\n",
       "      <th>gender</th>\n",
       "      <th>vehicle_owned</th>\n",
       "      <th>vehicle_year</th>\n",
       "      <th>is_married</th>\n",
       "      <th>has_children</th>\n",
       "    </tr>\n",
       "  </thead>\n",
       "  <tbody>\n",
       "    <tr>\n",
       "      <th>count</th>\n",
       "      <td>7990.000000</td>\n",
       "      <td>7990.000000</td>\n",
       "      <td>7990.000000</td>\n",
       "      <td>7990.000000</td>\n",
       "      <td>7990.000000</td>\n",
       "      <td>7990.000000</td>\n",
       "      <td>7990.000000</td>\n",
       "      <td>7990.000000</td>\n",
       "      <td>7990.000000</td>\n",
       "      <td>7990.000000</td>\n",
       "      <td>7990.000000</td>\n",
       "      <td>7990.000000</td>\n",
       "      <td>7990.000000</td>\n",
       "      <td>7990.000000</td>\n",
       "      <td>7990.000000</td>\n",
       "      <td>7990.000000</td>\n",
       "      <td>7990.000000</td>\n",
       "    </tr>\n",
       "    <tr>\n",
       "      <th>mean</th>\n",
       "      <td>-0.047441</td>\n",
       "      <td>-0.089862</td>\n",
       "      <td>0.512888</td>\n",
       "      <td>0.428457</td>\n",
       "      <td>1.489737</td>\n",
       "      <td>1.070839</td>\n",
       "      <td>1.201502</td>\n",
       "      <td>1.896621</td>\n",
       "      <td>0.697247</td>\n",
       "      <td>0.011014</td>\n",
       "      <td>0.241802</td>\n",
       "      <td>0.049937</td>\n",
       "      <td>0.497997</td>\n",
       "      <td>0.703004</td>\n",
       "      <td>0.304631</td>\n",
       "      <td>0.495620</td>\n",
       "      <td>0.689862</td>\n",
       "    </tr>\n",
       "    <tr>\n",
       "      <th>std</th>\n",
       "      <td>0.735711</td>\n",
       "      <td>0.891924</td>\n",
       "      <td>0.545453</td>\n",
       "      <td>0.495536</td>\n",
       "      <td>1.024341</td>\n",
       "      <td>0.991004</td>\n",
       "      <td>0.737696</td>\n",
       "      <td>1.148974</td>\n",
       "      <td>0.459478</td>\n",
       "      <td>0.104374</td>\n",
       "      <td>0.428202</td>\n",
       "      <td>0.217829</td>\n",
       "      <td>0.500027</td>\n",
       "      <td>0.456963</td>\n",
       "      <td>0.460280</td>\n",
       "      <td>0.500012</td>\n",
       "      <td>0.462579</td>\n",
       "    </tr>\n",
       "    <tr>\n",
       "      <th>min</th>\n",
       "      <td>-2.639319</td>\n",
       "      <td>-3.333333</td>\n",
       "      <td>0.000000</td>\n",
       "      <td>0.000000</td>\n",
       "      <td>0.000000</td>\n",
       "      <td>0.000000</td>\n",
       "      <td>0.000000</td>\n",
       "      <td>0.000000</td>\n",
       "      <td>0.000000</td>\n",
       "      <td>0.000000</td>\n",
       "      <td>0.000000</td>\n",
       "      <td>0.000000</td>\n",
       "      <td>0.000000</td>\n",
       "      <td>0.000000</td>\n",
       "      <td>0.000000</td>\n",
       "      <td>0.000000</td>\n",
       "      <td>0.000000</td>\n",
       "    </tr>\n",
       "    <tr>\n",
       "      <th>25%</th>\n",
       "      <td>-0.531572</td>\n",
       "      <td>-0.666667</td>\n",
       "      <td>0.000000</td>\n",
       "      <td>0.000000</td>\n",
       "      <td>1.000000</td>\n",
       "      <td>0.000000</td>\n",
       "      <td>1.000000</td>\n",
       "      <td>1.000000</td>\n",
       "      <td>0.000000</td>\n",
       "      <td>0.000000</td>\n",
       "      <td>0.000000</td>\n",
       "      <td>0.000000</td>\n",
       "      <td>0.000000</td>\n",
       "      <td>0.000000</td>\n",
       "      <td>0.000000</td>\n",
       "      <td>0.000000</td>\n",
       "      <td>0.000000</td>\n",
       "    </tr>\n",
       "    <tr>\n",
       "      <th>50%</th>\n",
       "      <td>0.000000</td>\n",
       "      <td>0.000000</td>\n",
       "      <td>0.000000</td>\n",
       "      <td>0.000000</td>\n",
       "      <td>1.000000</td>\n",
       "      <td>1.000000</td>\n",
       "      <td>1.000000</td>\n",
       "      <td>2.000000</td>\n",
       "      <td>1.000000</td>\n",
       "      <td>0.000000</td>\n",
       "      <td>0.000000</td>\n",
       "      <td>0.000000</td>\n",
       "      <td>0.000000</td>\n",
       "      <td>1.000000</td>\n",
       "      <td>0.000000</td>\n",
       "      <td>0.000000</td>\n",
       "      <td>1.000000</td>\n",
       "    </tr>\n",
       "    <tr>\n",
       "      <th>75%</th>\n",
       "      <td>0.468428</td>\n",
       "      <td>0.333333</td>\n",
       "      <td>1.000000</td>\n",
       "      <td>1.000000</td>\n",
       "      <td>2.000000</td>\n",
       "      <td>2.000000</td>\n",
       "      <td>2.000000</td>\n",
       "      <td>3.000000</td>\n",
       "      <td>1.000000</td>\n",
       "      <td>0.000000</td>\n",
       "      <td>0.000000</td>\n",
       "      <td>0.000000</td>\n",
       "      <td>1.000000</td>\n",
       "      <td>1.000000</td>\n",
       "      <td>1.000000</td>\n",
       "      <td>1.000000</td>\n",
       "      <td>1.000000</td>\n",
       "    </tr>\n",
       "    <tr>\n",
       "      <th>max</th>\n",
       "      <td>2.191459</td>\n",
       "      <td>3.333333</td>\n",
       "      <td>1.600265</td>\n",
       "      <td>1.357586</td>\n",
       "      <td>3.000000</td>\n",
       "      <td>3.000000</td>\n",
       "      <td>2.000000</td>\n",
       "      <td>3.000000</td>\n",
       "      <td>1.000000</td>\n",
       "      <td>1.000000</td>\n",
       "      <td>1.000000</td>\n",
       "      <td>1.000000</td>\n",
       "      <td>1.000000</td>\n",
       "      <td>1.000000</td>\n",
       "      <td>1.000000</td>\n",
       "      <td>1.000000</td>\n",
       "      <td>1.000000</td>\n",
       "    </tr>\n",
       "  </tbody>\n",
       "</table>\n",
       "</div>"
      ],
      "text/plain": [
       "       credit_score  annual_mileage  num_speeding_violations  \\\n",
       "count   7990.000000     7990.000000              7990.000000   \n",
       "mean      -0.047441       -0.089862                 0.512888   \n",
       "std        0.735711        0.891924                 0.545453   \n",
       "min       -2.639319       -3.333333                 0.000000   \n",
       "25%       -0.531572       -0.666667                 0.000000   \n",
       "50%        0.000000        0.000000                 0.000000   \n",
       "75%        0.468428        0.333333                 1.000000   \n",
       "max        2.191459        3.333333                 1.600265   \n",
       "\n",
       "       num_past_accidents          age  driving_experience  education_level  \\\n",
       "count         7990.000000  7990.000000         7990.000000      7990.000000   \n",
       "mean             0.428457     1.489737            1.070839         1.201502   \n",
       "std              0.495536     1.024341            0.991004         0.737696   \n",
       "min              0.000000     0.000000            0.000000         0.000000   \n",
       "25%              0.000000     1.000000            0.000000         1.000000   \n",
       "50%              0.000000     1.000000            1.000000         1.000000   \n",
       "75%              1.000000     2.000000            2.000000         2.000000   \n",
       "max              1.357586     3.000000            3.000000         2.000000   \n",
       "\n",
       "       income_level  postal_code_10238  postal_code_21217  postal_code_32765  \\\n",
       "count   7990.000000        7990.000000        7990.000000        7990.000000   \n",
       "mean       1.896621           0.697247           0.011014           0.241802   \n",
       "std        1.148974           0.459478           0.104374           0.428202   \n",
       "min        0.000000           0.000000           0.000000           0.000000   \n",
       "25%        1.000000           0.000000           0.000000           0.000000   \n",
       "50%        2.000000           1.000000           0.000000           0.000000   \n",
       "75%        3.000000           1.000000           0.000000           0.000000   \n",
       "max        3.000000           1.000000           1.000000           1.000000   \n",
       "\n",
       "       postal_code_92101       gender  vehicle_owned  vehicle_year  \\\n",
       "count        7990.000000  7990.000000    7990.000000   7990.000000   \n",
       "mean            0.049937     0.497997       0.703004      0.304631   \n",
       "std             0.217829     0.500027       0.456963      0.460280   \n",
       "min             0.000000     0.000000       0.000000      0.000000   \n",
       "25%             0.000000     0.000000       0.000000      0.000000   \n",
       "50%             0.000000     0.000000       1.000000      0.000000   \n",
       "75%             0.000000     1.000000       1.000000      1.000000   \n",
       "max             1.000000     1.000000       1.000000      1.000000   \n",
       "\n",
       "        is_married  has_children  \n",
       "count  7990.000000   7990.000000  \n",
       "mean      0.495620      0.689862  \n",
       "std       0.500012      0.462579  \n",
       "min       0.000000      0.000000  \n",
       "25%       0.000000      0.000000  \n",
       "50%       0.000000      1.000000  \n",
       "75%       1.000000      1.000000  \n",
       "max       1.000000      1.000000  "
      ]
     },
     "execution_count": 106,
     "metadata": {},
     "output_type": "execute_result"
    }
   ],
   "source": [
    "# Check whether all features are normally distributed, imputed, and scaled properly\n",
    "X_train_clean.describe()"
   ]
  },
  {
   "cell_type": "markdown",
   "id": "46d422bd-2a09-4921-a838-53d87fedd781",
   "metadata": {},
   "source": [
    "## 4. Creating Model Pipeline"
   ]
  },
  {
   "cell_type": "markdown",
   "id": "dcc934ed-494d-49b2-9d67-f9963ddd0bbf",
   "metadata": {},
   "source": [
    "#### 4.1 Finalizing Functions and Variables for the Pipeline"
   ]
  },
  {
   "cell_type": "code",
   "execution_count": 109,
   "id": "70d014f3-b68e-4b27-a3d2-45289e5f3b4a",
   "metadata": {},
   "outputs": [],
   "source": [
    "#Finalizing features and their categories\n",
    "num_attribs = [\"credit_score\", \"annual_mileage\"]\n",
    "boxcox_attribs = [\"num_speeding_violations\", \"num_past_accidents\"]\n",
    "ord_attribs = [\"age\", \"driving_experience\", \"education_level\", \"income_level\"] \n",
    "nom_attribs = [\"postal_code\"]\n",
    "bin_attribs = [\"vehicle_owned\", \"is_married\", \"has_children\"]\n",
    "map_attribs = [\"gender\", \"vehicle_year\"]"
   ]
  },
  {
   "cell_type": "code",
   "execution_count": 110,
   "id": "15f5fc67-331c-4f1c-a6b1-587fce535684",
   "metadata": {},
   "outputs": [],
   "source": [
    "# Creating functions to use as custom transformations in the pipeline\n",
    "\n",
    "# Creating an add_constant function to apply to the boxcox data \n",
    "def add_constant(data):\n",
    "    return data + 1\n",
    "\n",
    "#Make into custom transformer\n",
    "add_constant_transformer = FunctionTransformer(add_constant, feature_names_out=\"one-to-one\", validate=True)\n",
    "\n",
    "#Map features in mapping_attribs and turn into transformer for pipeline\n",
    "mapping = {\"male\": 1,\n",
    "           \"female\": 0,\n",
    "           \"after 2015\": 1,\n",
    "           \"before 2015\": 0}\n",
    "\n",
    "def binarize_values(data, cols, map):\n",
    "    for col in cols:\n",
    "        data[col] = data[col].map(map)\n",
    "    return data\n",
    "\n",
    "binary_transformer = FunctionTransformer(lambda df: binarize_values(df, map_attribs, mapping), feature_names_out = \"one-to-one\")"
   ]
  },
  {
   "cell_type": "code",
   "execution_count": 111,
   "id": "a8ab78f8-380f-43fb-bbde-5d79298f598b",
   "metadata": {},
   "outputs": [],
   "source": [
    "# Defining category orders for our OrdinalEncoder\n",
    "age_order = [\"16-25\", \"26-39\", \"40-64\", \"65+\"]\n",
    "driving_exp_order = [\"0-9y\", \"10-19y\", \"20-29y\", \"30y+\"]\n",
    "education_level_order = [\"none\", \"high school\", \"university\"]\n",
    "income_level_order = [\"poverty\", \"working class\", \"middle class\", \"upper class\"]\n",
    "category_order = [age_order, driving_exp_order, education_level_order, income_level_order]"
   ]
  },
  {
   "cell_type": "markdown",
   "id": "4165a5c6-eea0-4bf2-87b7-54eaa14cdaee",
   "metadata": {},
   "source": [
    "#### 4.2 Creating Pipeline and Training Model"
   ]
  },
  {
   "cell_type": "code",
   "execution_count": 113,
   "id": "8672f423-af2b-4955-a2e9-9502bd41816b",
   "metadata": {},
   "outputs": [],
   "source": [
    "# Creating individual pipelines and using ColumnTransformer to combine and form preprocessing pipeline\n",
    "num_pipeline = make_pipeline(\n",
    "    SimpleImputer(strategy=\"median\"), \n",
    "    RobustScaler())\n",
    "\n",
    "boxcox_pipeline = make_pipeline(\n",
    "        SimpleImputer(strategy=\"median\"), \n",
    "        add_constant_transformer,\n",
    "        PowerTransformer(method=\"box-cox\"),\n",
    "        RobustScaler())\n",
    "\n",
    "ord_pipeline = make_pipeline(\n",
    "    SimpleImputer(strategy=\"most_frequent\"),\n",
    "    OrdinalEncoder(categories=category_order, handle_unknown='use_encoded_value', unknown_value=-1)\n",
    ")\n",
    "\n",
    "nom_pipeline = make_pipeline(\n",
    "    SimpleImputer(strategy=\"most_frequent\"),\n",
    "    OneHotEncoder(handle_unknown=\"ignore\", sparse_output=False),   #drop=\"first\" drops the baseline category to account for multicollinearity\n",
    ")\n",
    "\n",
    "bin_pipeline = make_pipeline(\n",
    "    SimpleImputer(strategy=\"most_frequent\")\n",
    ")\n",
    "\n",
    "map_pipeline = make_pipeline(\n",
    "    binary_transformer,\n",
    "    SimpleImputer(strategy=\"most_frequent\")\n",
    ")\n",
    "\n",
    "preprocessing = ColumnTransformer([\n",
    "    (\"num\", num_pipeline, num_attribs),\n",
    "    (\"boxcox\", boxcox_pipeline, boxcox_attribs),\n",
    "    (\"ord\", ord_pipeline, ord_attribs),\n",
    "    (\"nom\", nom_pipeline, nom_attribs),\n",
    "    (\"bin\", bin_pipeline, bin_attribs),\n",
    "    (\"map\", map_pipeline, map_attribs),\n",
    "], remainder = \"drop\")"
   ]
  },
  {
   "cell_type": "code",
   "execution_count": 114,
   "id": "f0836243-f478-4aec-b736-9785ae0e13dc",
   "metadata": {},
   "outputs": [],
   "source": [
    "# Training/fitting training set\n",
    "X_train_prepared = preprocessing.fit_transform(X_train)"
   ]
  },
  {
   "cell_type": "code",
   "execution_count": 115,
   "id": "0825175a-34b7-45c2-b118-1919111df9a7",
   "metadata": {},
   "outputs": [
    {
     "data": {
      "text/plain": [
       "array(['num__credit_score', 'num__annual_mileage',\n",
       "       'boxcox__num_speeding_violations', 'boxcox__num_past_accidents',\n",
       "       'ord__age', 'ord__driving_experience', 'ord__education_level',\n",
       "       'ord__income_level', 'nom__postal_code_10238',\n",
       "       'nom__postal_code_21217', 'nom__postal_code_32765',\n",
       "       'nom__postal_code_92101', 'bin__vehicle_owned', 'bin__is_married',\n",
       "       'bin__has_children', 'map__gender', 'map__vehicle_year'],\n",
       "      dtype=object)"
      ]
     },
     "execution_count": 115,
     "metadata": {},
     "output_type": "execute_result"
    }
   ],
   "source": [
    "# Get feature names\n",
    "feature_names = preprocessing.get_feature_names_out()\n",
    "feature_names"
   ]
  },
  {
   "cell_type": "markdown",
   "id": "a715c1f2-3641-4c64-93e6-5e355bb422e7",
   "metadata": {},
   "source": [
    "## 5. Model Testing\n",
    "\n",
    "#### 5.1 Exploring and Testing Different Models"
   ]
  },
  {
   "cell_type": "code",
   "execution_count": 117,
   "id": "99480fc4-2326-48a3-9d2a-08bc21bfd16d",
   "metadata": {},
   "outputs": [],
   "source": [
    "# Defining models we want to try\n",
    "# Adding l2 regularization to applicable models\n",
    "models = [\n",
    "    (\"Log Reg\", LogisticRegression(penalty=\"l2\", solver=\"liblinear\")),\n",
    "    (\"KNN\", KNeighborsClassifier()), \n",
    "    (\"Decision Tree\", DecisionTreeClassifier()),\n",
    "    (\"Random Forest\", RandomForestClassifier(random_state=42)),  \n",
    "    (\"Linear SVM\", LinearSVC(random_state=42, max_iter=1000, penalty=\"l2\")),  \n",
    "    (\"AdaBoost\", AdaBoostClassifier(random_state=42, algorithm=\"SAMME\")), \n",
    "    (\"Gradient Boost\", GradientBoostingClassifier(random_state=42)),  \n",
    "    (\"Bagging\", BaggingClassifier(random_state=42))  \n",
    "]    "
   ]
  },
  {
   "cell_type": "code",
   "execution_count": 118,
   "id": "7f3be116-59cb-4db7-9947-e14296b44120",
   "metadata": {},
   "outputs": [],
   "source": [
    "# Use cross-validation to evaluate the various models' accuracies\n",
    "kf = KFold(n_splits=5, shuffle=True, random_state=42)\n",
    "\n",
    "model_results={}\n",
    "\n",
    "for model_name, model in models:\n",
    "    try:\n",
    "        pipeline = ImbPipeline([\n",
    "            (\"adasyn\", ADASYN(random_state=42)),\n",
    "            (\"model\", model)\n",
    "        ])\n",
    "        acc_scores = cross_val_score(pipeline, X_train_prepared, y_train, cv=kf, scoring=\"accuracy\")\n",
    "        model_results[model_name] = acc_scores\n",
    "    except Exception as e:\n",
    "        print(f\"Error with model {model_name}: {e}\")\n",
    "        \n",
    "model_accuracy_df = pd.DataFrame(model_results)"
   ]
  },
  {
   "cell_type": "code",
   "execution_count": 119,
   "id": "32a6be13-1437-42e2-84e5-72c5baa9f8ac",
   "metadata": {},
   "outputs": [
    {
     "data": {
      "text/html": [
       "<div>\n",
       "<style scoped>\n",
       "    .dataframe tbody tr th:only-of-type {\n",
       "        vertical-align: middle;\n",
       "    }\n",
       "\n",
       "    .dataframe tbody tr th {\n",
       "        vertical-align: top;\n",
       "    }\n",
       "\n",
       "    .dataframe thead th {\n",
       "        text-align: right;\n",
       "    }\n",
       "</style>\n",
       "<table border=\"1\" class=\"dataframe\">\n",
       "  <thead>\n",
       "    <tr style=\"text-align: right;\">\n",
       "      <th></th>\n",
       "      <th>Log Reg</th>\n",
       "      <th>KNN</th>\n",
       "      <th>Decision Tree</th>\n",
       "      <th>Random Forest</th>\n",
       "      <th>Linear SVM</th>\n",
       "      <th>AdaBoost</th>\n",
       "      <th>Gradient Boost</th>\n",
       "      <th>Bagging</th>\n",
       "    </tr>\n",
       "  </thead>\n",
       "  <tbody>\n",
       "    <tr>\n",
       "      <th>0</th>\n",
       "      <td>0.831665</td>\n",
       "      <td>0.777847</td>\n",
       "      <td>0.783479</td>\n",
       "      <td>0.841677</td>\n",
       "      <td>0.829161</td>\n",
       "      <td>0.838548</td>\n",
       "      <td>0.849812</td>\n",
       "      <td>0.812891</td>\n",
       "    </tr>\n",
       "    <tr>\n",
       "      <th>1</th>\n",
       "      <td>0.819149</td>\n",
       "      <td>0.777222</td>\n",
       "      <td>0.773467</td>\n",
       "      <td>0.826658</td>\n",
       "      <td>0.816646</td>\n",
       "      <td>0.833542</td>\n",
       "      <td>0.843554</td>\n",
       "      <td>0.809762</td>\n",
       "    </tr>\n",
       "    <tr>\n",
       "      <th>2</th>\n",
       "      <td>0.803504</td>\n",
       "      <td>0.769712</td>\n",
       "      <td>0.777222</td>\n",
       "      <td>0.819149</td>\n",
       "      <td>0.798498</td>\n",
       "      <td>0.820401</td>\n",
       "      <td>0.825407</td>\n",
       "      <td>0.814143</td>\n",
       "    </tr>\n",
       "    <tr>\n",
       "      <th>3</th>\n",
       "      <td>0.839800</td>\n",
       "      <td>0.764706</td>\n",
       "      <td>0.791615</td>\n",
       "      <td>0.849812</td>\n",
       "      <td>0.836671</td>\n",
       "      <td>0.842303</td>\n",
       "      <td>0.854193</td>\n",
       "      <td>0.829787</td>\n",
       "    </tr>\n",
       "    <tr>\n",
       "      <th>4</th>\n",
       "      <td>0.821026</td>\n",
       "      <td>0.762829</td>\n",
       "      <td>0.779725</td>\n",
       "      <td>0.832916</td>\n",
       "      <td>0.821026</td>\n",
       "      <td>0.824155</td>\n",
       "      <td>0.835419</td>\n",
       "      <td>0.823529</td>\n",
       "    </tr>\n",
       "  </tbody>\n",
       "</table>\n",
       "</div>"
      ],
      "text/plain": [
       "    Log Reg       KNN  Decision Tree  Random Forest  Linear SVM  AdaBoost  \\\n",
       "0  0.831665  0.777847       0.783479       0.841677    0.829161  0.838548   \n",
       "1  0.819149  0.777222       0.773467       0.826658    0.816646  0.833542   \n",
       "2  0.803504  0.769712       0.777222       0.819149    0.798498  0.820401   \n",
       "3  0.839800  0.764706       0.791615       0.849812    0.836671  0.842303   \n",
       "4  0.821026  0.762829       0.779725       0.832916    0.821026  0.824155   \n",
       "\n",
       "   Gradient Boost   Bagging  \n",
       "0        0.849812  0.812891  \n",
       "1        0.843554  0.809762  \n",
       "2        0.825407  0.814143  \n",
       "3        0.854193  0.829787  \n",
       "4        0.835419  0.823529  "
      ]
     },
     "execution_count": 119,
     "metadata": {},
     "output_type": "execute_result"
    }
   ],
   "source": [
    "# Accuracy amongst the models within different folds\n",
    "model_accuracy_df"
   ]
  },
  {
   "cell_type": "code",
   "execution_count": 120,
   "id": "a14c8704-eb45-44c0-a2a4-6d02e8ffae0d",
   "metadata": {},
   "outputs": [
    {
     "name": "stdout",
     "output_type": "stream",
     "text": [
      "Log Reg           0.823\n",
      "KNN               0.770\n",
      "Decision Tree     0.781\n",
      "Random Forest     0.834\n",
      "Linear SVM        0.820\n",
      "AdaBoost          0.832\n",
      "Gradient Boost    0.842\n",
      "Bagging           0.818\n",
      "dtype: float64\n"
     ]
    }
   ],
   "source": [
    "# Average accuracy for the different models\n",
    "print(round(model_accuracy_df.mean(), 3))"
   ]
  },
  {
   "cell_type": "code",
   "execution_count": 121,
   "id": "61de0a02-02fb-4ce9-89ba-2436e5ce7331",
   "metadata": {},
   "outputs": [
    {
     "data": {
      "text/plain": [
       "Text(0.5, 1.0, 'Accuracy Score for Different Models')"
      ]
     },
     "execution_count": 121,
     "metadata": {},
     "output_type": "execute_result"
    },
    {
     "data": {
      "image/png": "[encoded data removed]",
      "text/plain": [
       "<Figure size 1600x800 with 1 Axes>"
      ]
     },
     "metadata": {},
     "output_type": "display_data"
    }
   ],
   "source": [
    "# Plotting cross-validation results of the models as boxplots\n",
    "fig, ax = plt.subplots(figsize=(16, 8))\n",
    "sns.boxplot(model_accuracy_df)\n",
    "\n",
    "ax.set_xlabel(\"Model\", fontsize=12)\n",
    "ax.set_ylabel(\"Accuracy\", fontsize=12)\n",
    "ax.set_title(\"Accuracy Score for Different Models\", fontsize=14)"
   ]
  },
  {
   "cell_type": "markdown",
   "id": "9d360d96-c60d-4aef-a6f4-0f848d04a6d1",
   "metadata": {},
   "source": [
    "We'll decide to move forward with Random Forest, AdaBoost, Gradient Boost \n",
    "\n",
    "These models were chosen on the basis of their higher average and median accuracy, as well as reasonable amount of variability between folds"
   ]
  },
  {
   "cell_type": "markdown",
   "id": "e0305679-ce16-44b4-b277-2cdb88b59087",
   "metadata": {},
   "source": [
    "#### 5.2 Tuning Hyperparameters \n",
    "\n",
    "We'll use RandomSearchCV to find the best set of hyperparameters for each model"
   ]
  },
  {
   "cell_type": "code",
   "execution_count": 124,
   "id": "d1d88759-ee5c-4f12-870f-cbdceb6a4930",
   "metadata": {},
   "outputs": [
    {
     "name": "stdout",
     "output_type": "stream",
     "text": [
      "Fitting 5 folds for each of 50 candidates, totalling 250 fits\n",
      "Best parameters for Gradient Boosting (RandomizedSearchCV): {'model__subsample': 1.0, 'model__random_state': 42, 'model__n_estimators': 300, 'model__min_samples_split': 10, 'model__min_samples_leaf': 4, 'model__max_features': 'auto', 'model__max_depth': 4, 'model__learning_rate': 0.05}\n",
      "Best score for Gradient Boosting (RandomizedSearchCV): 0.8469336670838548\n"
     ]
    }
   ],
   "source": [
    "# Hyperparameter tuning for GradientBoost model\n",
    "# Defining hyperparameters and value ranges we are testing\n",
    "param_dist_gboost = {\n",
    "    \"model__n_estimators\": [100, 200, 300],          \n",
    "    \"model__learning_rate\": [0.01, 0.1, 0.05],         \n",
    "    \"model__max_depth\": [3, 4, 5],               \n",
    "    \"model__min_samples_split\": [2, 5, 10],          \n",
    "    \"model__min_samples_leaf\": [1, 2, 4],            \n",
    "    \"model__subsample\": [0.8, 1.0],                    \n",
    "    \"model__max_features\": [\"auto\", \"sqrt\", \"log2\"],   \n",
    "    \"model__random_state\": [42]                        \n",
    "}\n",
    "\n",
    "pipeline_gboost = ImbPipeline([\n",
    "    (\"adasyn\", ADASYN(random_state=42)),                  \n",
    "    (\"model\", GradientBoostingClassifier(random_state=42)) \n",
    "])\n",
    "random_search_gboost = RandomizedSearchCV(estimator=pipeline_gboost, \n",
    "                                          param_distributions=param_dist_gboost, \n",
    "                                          n_iter=50,  \n",
    "                                          cv=5, \n",
    "                                          scoring=\"accuracy\", \n",
    "                                          n_jobs=-1, \n",
    "                                          verbose=2,\n",
    "                                          random_state=42)\n",
    "\n",
    "random_search_gboost.fit(X_train_prepared, y_train)\n",
    "\n",
    "# Output the best parameters and score\n",
    "print(\"Best parameters for Gradient Boosting (RandomizedSearchCV):\", random_search_gboost.best_params_)\n",
    "print(\"Best score for Gradient Boosting (RandomizedSearchCV):\", random_search_gboost.best_score_)"
   ]
  },
  {
   "cell_type": "code",
   "execution_count": 125,
   "id": "67d73519-50e7-4cf3-b798-036ce024bc11",
   "metadata": {},
   "outputs": [
    {
     "name": "stdout",
     "output_type": "stream",
     "text": [
      "Fitting 5 folds for each of 50 candidates, totalling 250 fits\n",
      "Best parameters for RandomForest (RandomizedSearchCV): {'model__bootstrap': False, 'model__criterion': 'entropy', 'model__max_depth': 20, 'model__max_features': 'log2', 'model__min_samples_leaf': 4, 'model__min_samples_split': 10, 'model__n_estimators': 100, 'model__random_state': 42}\n",
      "Best score for RandomForest (RandomizedSearchCV): 0.8416770963704631\n"
     ]
    }
   ],
   "source": [
    "# Hyperparameter tuning for RandomForest model\n",
    "# Defining hyperparameters and value ranges we are testing\n",
    "param_dist_rf = {\n",
    "    \"model__n_estimators\": [100, 200, 500],           \n",
    "    \"model__max_depth\": [None, 10, 20, 30],           \n",
    "    \"model__min_samples_split\": randint(2, 11),        \n",
    "    \"model__min_samples_leaf\": randint(1, 5),         \n",
    "    \"model__max_features\": [\"auto\", \"sqrt\", \"log2\"],  \n",
    "    \"model__bootstrap\": [True, False],                \n",
    "    \"model__criterion\": [\"gini\", \"entropy\"],          \n",
    "    \"model__random_state\": [42]                        \n",
    "}\n",
    "\n",
    "# Creating pipeline to include both our oversampling method (ADASYN) and our model (RandomForestClassifier)\n",
    "pipeline_rf = ImbPipeline([\n",
    "    (\"adasyn\", ADASYN(random_state=42)),                  \n",
    "    (\"model\", RandomForestClassifier(random_state=42))  \n",
    "])\n",
    "\n",
    "random_search_rf = RandomizedSearchCV(estimator=pipeline_rf, \n",
    "                                      param_distributions=param_dist_rf, \n",
    "                                      n_iter=50,  \n",
    "                                      cv=5, scoring=\"accuracy\", \n",
    "                                      n_jobs=-1, verbose=2, random_state=42)\n",
    "\n",
    "random_search_rf.fit(X_train_prepared, y_train)\n",
    "\n",
    "# Output the best parameters and score\n",
    "print(\"Best parameters for RandomForest (RandomizedSearchCV):\", random_search_rf.best_params_)\n",
    "print(\"Best score for RandomForest (RandomizedSearchCV):\", random_search_rf.best_score_)"
   ]
  },
  {
   "cell_type": "code",
   "execution_count": 126,
   "id": "55e1f4f9-e2e7-41e7-ab32-85ba1d34caf6",
   "metadata": {},
   "outputs": [
    {
     "name": "stdout",
     "output_type": "stream",
     "text": [
      "Fitting 5 folds for each of 24 candidates, totalling 120 fits\n",
      "Best parameters for AdaBoost (RandomizedSearchCV): {'model__random_state': 42, 'model__n_estimators': 200, 'model__learning_rate': 1.0, 'model__algorithm': 'SAMME.R'}\n",
      "Best score for AdaBoost (RandomizedSearchCV): 0.8455569461827285\n"
     ]
    }
   ],
   "source": [
    "# Hyperparameter tuning for our AdaBoost model\n",
    "# Defining hyperparameters and value ranges we are testing\n",
    "param_dist_adaboost = {\n",
    "    \"model__n_estimators\": [50, 100, 200],             \n",
    "    \"model__learning_rate\": [0.01, 0.1, 0.5, 1.0],   \n",
    "    \"model__algorithm\": [\"SAMME\", \"SAMME.R\"],         \n",
    "    \"model__random_state\": [42]                        \n",
    "}\n",
    "\n",
    "# Creating pipeline to include both our oversampling method (ADASYN) and our model (AdaBoostClassifier)\n",
    "pipeline_adaboost = ImbPipeline([\n",
    "    (\"adasyn\", ADASYN(random_state=42)),                \n",
    "    (\"model\", AdaBoostClassifier(random_state=42))      \n",
    "])\n",
    "\n",
    "random_search_adaboost = RandomizedSearchCV(estimator=pipeline_adaboost, \n",
    "                                            param_distributions=param_dist_adaboost, \n",
    "                                            n_iter=50,  \n",
    "                                            cv=5, \n",
    "                                            scoring=\"accuracy\", \n",
    "                                            n_jobs=-1, \n",
    "                                            verbose=2,\n",
    "                                            random_state=42)\n",
    "\n",
    "random_search_adaboost.fit(X_train_prepared, y_train)\n",
    "\n",
    "# Output the best parameters and score\n",
    "print(\"Best parameters for AdaBoost (RandomizedSearchCV):\", random_search_adaboost.best_params_)\n",
    "print(\"Best score for AdaBoost (RandomizedSearchCV):\", random_search_adaboost.best_score_) "
   ]
  },
  {
   "cell_type": "markdown",
   "id": "c33fdc53-60c2-4114-9184-7ec31b918b5a",
   "metadata": {},
   "source": [
    "#### 5.3 Feature Selection\n",
    "\n",
    "Now that we found optimal hyperparameters for our three models, we can explore the most important features of each model and also remove features accordingly"
   ]
  },
  {
   "cell_type": "code",
   "execution_count": 128,
   "id": "8f144422-3f6a-40c4-a5b2-1205ab528bd4",
   "metadata": {},
   "outputs": [],
   "source": [
    "# Training GradientBoost model using GridSearchCV's best hyperparameters\n",
    "gboost = ImbPipeline([\n",
    "    (\"adasyn\", ADASYN(random_state=42)),\n",
    "    (\"gboost\", GradientBoostingClassifier(subsample=1.0, random_state=42, \n",
    "                                          n_estimators=300, min_samples_split=10, \n",
    "                                          min_samples_leaf=4, max_features=\"auto\", \n",
    "                                          max_depth=4, learning_rate=0.05))\n",
    "     ])"
   ]
  },
  {
   "cell_type": "code",
   "execution_count": 129,
   "id": "0f48a48f-42d0-4c61-8ece-67e81e5807d4",
   "metadata": {},
   "outputs": [
    {
     "name": "stdout",
     "output_type": "stream",
     "text": [
      "<bound method NDFrame.head of                             Feature  Importance\n",
      "5           ord__driving_experience    0.403359\n",
      "16                map__vehicle_year    0.154515\n",
      "12               bin__vehicle_owned    0.130096\n",
      "9            nom__postal_code_21217    0.062728\n",
      "1               num__annual_mileage    0.050655\n",
      "8            nom__postal_code_10238    0.043619\n",
      "15                      map__gender    0.040340\n",
      "13                  bin__is_married    0.023843\n",
      "3        boxcox__num_past_accidents    0.018452\n",
      "0                 num__credit_score    0.018304\n",
      "2   boxcox__num_speeding_violations    0.017806\n",
      "4                          ord__age    0.010878\n",
      "14                bin__has_children    0.010383\n",
      "6              ord__education_level    0.006625\n",
      "7                 ord__income_level    0.006171\n",
      "10           nom__postal_code_32765    0.001346\n",
      "11           nom__postal_code_92101    0.000878>\n"
     ]
    }
   ],
   "source": [
    "# Training GradientBoost based on best parameters\n",
    "gboost.fit(X_train_prepared, y_train)\n",
    "\n",
    "# Accessing the trained GradientBoostingClassifier\n",
    "gb_model = gboost.named_steps[\"gboost\"]\n",
    "\n",
    "# Get feature importances from the trained GradientBoostingClassifier\n",
    "gb_feature_importances = gb_model.feature_importances_\n",
    "\n",
    "# Plot the importance of each feature in our GradientBoost model\n",
    "gb_feature_importance_df = pd.DataFrame({\n",
    "    \"Feature\": feature_names,\n",
    "    \"Importance\": gb_feature_importances\n",
    "}).sort_values(by=\"Importance\", ascending=False)\n",
    "\n",
    "print(gb_feature_importance_df.head)"
   ]
  },
  {
   "cell_type": "code",
   "execution_count": 130,
   "id": "76d819d0-979c-4f87-baa9-8a768e81bb6e",
   "metadata": {},
   "outputs": [],
   "source": [
    "# Training RandomForest model using GridSearchCV's best hyperparameters\n",
    "rf = ImbPipeline([\n",
    "    (\"adasyn\", ADASYN(random_state=42)),\n",
    "    (\"random_forest\", RandomForestClassifier(bootstrap=False, criterion= \"entropy\", \n",
    "                                             max_depth=20, max_features=\"log2\", \n",
    "                                             min_samples_leaf=4, min_samples_split=10, \n",
    "                                             n_estimators=100, random_state=42))\n",
    "     ])"
   ]
  },
  {
   "cell_type": "code",
   "execution_count": 131,
   "id": "358d73bb-99dc-45b0-9a57-c8d632e29ba7",
   "metadata": {},
   "outputs": [
    {
     "name": "stdout",
     "output_type": "stream",
     "text": [
      "<bound method NDFrame.head of                             Feature  Importance\n",
      "5           ord__driving_experience    0.180337\n",
      "16                map__vehicle_year    0.120079\n",
      "12               bin__vehicle_owned    0.099716\n",
      "4                          ord__age    0.076892\n",
      "3        boxcox__num_past_accidents    0.071103\n",
      "0                 num__credit_score    0.070741\n",
      "2   boxcox__num_speeding_violations    0.068300\n",
      "1               num__annual_mileage    0.064241\n",
      "15                      map__gender    0.045405\n",
      "8            nom__postal_code_10238    0.041286\n",
      "9            nom__postal_code_21217    0.038886\n",
      "7                 ord__income_level    0.035344\n",
      "13                  bin__is_married    0.027972\n",
      "6              ord__education_level    0.021488\n",
      "14                bin__has_children    0.018262\n",
      "10           nom__postal_code_32765    0.013719\n",
      "11           nom__postal_code_92101    0.006228>\n"
     ]
    }
   ],
   "source": [
    "# Plot the importance of each feature in our RandomForest model\n",
    "rf.fit(X_train_prepared, y_train)\n",
    "\n",
    "rf_model = rf.named_steps[\"random_forest\"]\n",
    "\n",
    "rf_feature_importances = rf_model.feature_importances_\n",
    "\n",
    "rf_feature_importance_df = pd.DataFrame({\n",
    "    \"Feature\": feature_names,\n",
    "    \"Importance\": rf_feature_importances\n",
    "}).sort_values(by=\"Importance\", ascending=False)\n",
    "\n",
    "print(rf_feature_importance_df.head)"
   ]
  },
  {
   "cell_type": "code",
   "execution_count": 132,
   "id": "7a7ee17c-2b75-4c59-a2cd-4186fc05d5ac",
   "metadata": {},
   "outputs": [],
   "source": [
    "# Training AdaBoost model using GridSearchCV's best hyperparameters\n",
    "adaboost = ImbPipeline([\n",
    "    (\"adasyn\", ADASYN(random_state=42)),\n",
    "    (\"adaboost\", AdaBoostClassifier(algorithm= \"SAMME.R\", learning_rate=1.0, \n",
    "                                    n_estimators=200, random_state=42))\n",
    "     ])"
   ]
  },
  {
   "cell_type": "code",
   "execution_count": 133,
   "id": "0bcf94d3-b350-44a5-a09d-3ff3425a1d16",
   "metadata": {},
   "outputs": [
    {
     "name": "stdout",
     "output_type": "stream",
     "text": [
      "                            Feature  Importance\n",
      "3        boxcox__num_past_accidents       0.210\n",
      "1               num__annual_mileage       0.170\n",
      "6              ord__education_level       0.100\n",
      "2   boxcox__num_speeding_violations       0.095\n",
      "15                      map__gender       0.080\n",
      "16                map__vehicle_year       0.075\n",
      "13                  bin__is_married       0.070\n",
      "14                bin__has_children       0.055\n",
      "0                 num__credit_score       0.045\n",
      "5           ord__driving_experience       0.035\n",
      "4                          ord__age       0.030\n",
      "12               bin__vehicle_owned       0.010\n",
      "7                 ord__income_level       0.010\n",
      "9            nom__postal_code_21217       0.005\n",
      "11           nom__postal_code_92101       0.005\n",
      "8            nom__postal_code_10238       0.005\n",
      "10           nom__postal_code_32765       0.000\n"
     ]
    }
   ],
   "source": [
    "# Plotting the importance of each feature in AdaBoost model\n",
    "adaboost.fit(X_train_prepared, y_train)\n",
    "\n",
    "ad_model = adaboost.named_steps[\"adaboost\"]\n",
    "\n",
    "ad_feature_importances = ad_model.feature_importances_\n",
    "\n",
    "ad_feature_importance_df = pd.DataFrame({\n",
    "    \"Feature\": feature_names,\n",
    "    \"Importance\": ad_feature_importances\n",
    "}).sort_values(by=\"Importance\", ascending=False)\n",
    "\n",
    "print(ad_feature_importance_df)"
   ]
  },
  {
   "cell_type": "markdown",
   "id": "606471a0-00ee-4631-b261-5443a57c6d68",
   "metadata": {},
   "source": [
    "**Interpretation of Important Features:**\n",
    "\n",
    "- It seems that driving_experience, vehicle_year, vehicle_owned were the top 3 features for both our GradientBoost and RandomForest model\n",
    "\n",
    "- GradientBoost's and RandomForest's most important features aligned pretty similarly overall, though AdaBoost's features were sometimes quite different than the two\n",
    "\n",
    "- Overall postal_code and income_level showed low importance for all three models (except for postal code 21217 for GradientBoost)\n",
    "\n",
    "Since this dataset does not have many features, I manually picked which features I wanted to drop rather than using scikit's SelectFromModel transformer to do so. \n",
    "\n",
    "I will remove **postal_code** and **income_level**, which I selected by combining common features that were in the bottom half of each of the model's lists"
   ]
  },
  {
   "cell_type": "code",
   "execution_count": 135,
   "id": "7ff5dc91-6057-488d-8219-f67d9cbbbdd2",
   "metadata": {},
   "outputs": [
    {
     "data": {
      "text/html": [
       "<div>\n",
       "<style scoped>\n",
       "    .dataframe tbody tr th:only-of-type {\n",
       "        vertical-align: middle;\n",
       "    }\n",
       "\n",
       "    .dataframe tbody tr th {\n",
       "        vertical-align: top;\n",
       "    }\n",
       "\n",
       "    .dataframe thead th {\n",
       "        text-align: right;\n",
       "    }\n",
       "</style>\n",
       "<table border=\"1\" class=\"dataframe\">\n",
       "  <thead>\n",
       "    <tr style=\"text-align: right;\">\n",
       "      <th></th>\n",
       "      <th>age</th>\n",
       "      <th>gender</th>\n",
       "      <th>race</th>\n",
       "      <th>driving_experience</th>\n",
       "      <th>education_level</th>\n",
       "      <th>credit_score</th>\n",
       "      <th>vehicle_owned</th>\n",
       "      <th>vehicle_year</th>\n",
       "      <th>is_married</th>\n",
       "      <th>has_children</th>\n",
       "      <th>annual_mileage</th>\n",
       "      <th>vehicle_type</th>\n",
       "      <th>num_speeding_violations</th>\n",
       "      <th>num_duis</th>\n",
       "      <th>num_past_accidents</th>\n",
       "    </tr>\n",
       "  </thead>\n",
       "  <tbody>\n",
       "    <tr>\n",
       "      <th>1310</th>\n",
       "      <td>26-39</td>\n",
       "      <td>male</td>\n",
       "      <td>majority</td>\n",
       "      <td>10-19y</td>\n",
       "      <td>none</td>\n",
       "      <td>0.378046</td>\n",
       "      <td>0.0</td>\n",
       "      <td>after 2015</td>\n",
       "      <td>0.0</td>\n",
       "      <td>0.0</td>\n",
       "      <td>13000.0</td>\n",
       "      <td>sedan</td>\n",
       "      <td>2</td>\n",
       "      <td>1</td>\n",
       "      <td>3</td>\n",
       "    </tr>\n",
       "    <tr>\n",
       "      <th>156</th>\n",
       "      <td>16-25</td>\n",
       "      <td>female</td>\n",
       "      <td>majority</td>\n",
       "      <td>0-9y</td>\n",
       "      <td>none</td>\n",
       "      <td>NaN</td>\n",
       "      <td>0.0</td>\n",
       "      <td>before 2015</td>\n",
       "      <td>0.0</td>\n",
       "      <td>0.0</td>\n",
       "      <td>14000.0</td>\n",
       "      <td>sedan</td>\n",
       "      <td>0</td>\n",
       "      <td>0</td>\n",
       "      <td>0</td>\n",
       "    </tr>\n",
       "    <tr>\n",
       "      <th>3581</th>\n",
       "      <td>65+</td>\n",
       "      <td>female</td>\n",
       "      <td>majority</td>\n",
       "      <td>0-9y</td>\n",
       "      <td>university</td>\n",
       "      <td>0.590250</td>\n",
       "      <td>1.0</td>\n",
       "      <td>after 2015</td>\n",
       "      <td>1.0</td>\n",
       "      <td>1.0</td>\n",
       "      <td>12000.0</td>\n",
       "      <td>sedan</td>\n",
       "      <td>0</td>\n",
       "      <td>0</td>\n",
       "      <td>0</td>\n",
       "    </tr>\n",
       "    <tr>\n",
       "      <th>3322</th>\n",
       "      <td>26-39</td>\n",
       "      <td>female</td>\n",
       "      <td>majority</td>\n",
       "      <td>10-19y</td>\n",
       "      <td>university</td>\n",
       "      <td>0.747843</td>\n",
       "      <td>1.0</td>\n",
       "      <td>before 2015</td>\n",
       "      <td>1.0</td>\n",
       "      <td>1.0</td>\n",
       "      <td>13000.0</td>\n",
       "      <td>sedan</td>\n",
       "      <td>1</td>\n",
       "      <td>0</td>\n",
       "      <td>0</td>\n",
       "    </tr>\n",
       "    <tr>\n",
       "      <th>8547</th>\n",
       "      <td>65+</td>\n",
       "      <td>male</td>\n",
       "      <td>majority</td>\n",
       "      <td>0-9y</td>\n",
       "      <td>high school</td>\n",
       "      <td>0.730233</td>\n",
       "      <td>1.0</td>\n",
       "      <td>before 2015</td>\n",
       "      <td>0.0</td>\n",
       "      <td>0.0</td>\n",
       "      <td>11000.0</td>\n",
       "      <td>sedan</td>\n",
       "      <td>0</td>\n",
       "      <td>0</td>\n",
       "      <td>0</td>\n",
       "    </tr>\n",
       "  </tbody>\n",
       "</table>\n",
       "</div>"
      ],
      "text/plain": [
       "        age  gender      race driving_experience education_level  \\\n",
       "1310  26-39    male  majority             10-19y            none   \n",
       "156   16-25  female  majority               0-9y            none   \n",
       "3581    65+  female  majority               0-9y      university   \n",
       "3322  26-39  female  majority             10-19y      university   \n",
       "8547    65+    male  majority               0-9y     high school   \n",
       "\n",
       "      credit_score  vehicle_owned vehicle_year  is_married  has_children  \\\n",
       "1310      0.378046            0.0   after 2015         0.0           0.0   \n",
       "156            NaN            0.0  before 2015         0.0           0.0   \n",
       "3581      0.590250            1.0   after 2015         1.0           1.0   \n",
       "3322      0.747843            1.0  before 2015         1.0           1.0   \n",
       "8547      0.730233            1.0  before 2015         0.0           0.0   \n",
       "\n",
       "      annual_mileage vehicle_type  num_speeding_violations  num_duis  \\\n",
       "1310         13000.0        sedan                        2         1   \n",
       "156          14000.0        sedan                        0         0   \n",
       "3581         12000.0        sedan                        0         0   \n",
       "3322         13000.0        sedan                        1         0   \n",
       "8547         11000.0        sedan                        0         0   \n",
       "\n",
       "      num_past_accidents  \n",
       "1310                   3  \n",
       "156                    0  \n",
       "3581                   0  \n",
       "3322                   0  \n",
       "8547                   0  "
      ]
     },
     "execution_count": 135,
     "metadata": {},
     "output_type": "execute_result"
    }
   ],
   "source": [
    "# List of negligable features\n",
    "unimportant_features = [\"postal_code\", \"income_level\"]\n",
    "\n",
    "# Dropping negligable features from training and test set\n",
    "X_train_new = X_train.drop(columns=unimportant_features)\n",
    "X_test_new = X_test.drop(columns=unimportant_features)\n",
    "X_train_new.head()"
   ]
  },
  {
   "cell_type": "markdown",
   "id": "22044166-f909-4952-a123-469cd533d774",
   "metadata": {},
   "source": [
    "#### 5.4 Re-training Models with Updated Features\n",
    "\n",
    "Now that we updated our features to reduce noise, we will re-test our models to see if removing these 3 features improved performance"
   ]
  },
  {
   "cell_type": "code",
   "execution_count": 137,
   "id": "a3339ce7-82f1-4f0b-896b-5445a84ca184",
   "metadata": {},
   "outputs": [],
   "source": [
    "# Updated columns for preprocessing pipeline\n",
    "new_num_attribs = [\"credit_score\", \"annual_mileage\"]\n",
    "new_boxcox_attribs = [\"num_speeding_violations\", \"num_past_accidents\"]\n",
    "new_ord_attribs = [\"age\", \"driving_experience\", \"education_level\"] \n",
    "new_nom_attribs = []\n",
    "new_bin_attribs = [\"vehicle_owned\", \"is_married\", \"has_children\"]\n",
    "new_map_attribs = [\"gender\", \"vehicle_year\"]"
   ]
  },
  {
   "cell_type": "code",
   "execution_count": 138,
   "id": "273fc0ec-10d7-41b3-b95f-297f3465fac4",
   "metadata": {},
   "outputs": [],
   "source": [
    "# Updated ordinal category specifications (without income_order)\n",
    "new_category_order = [age_order, driving_exp_order, education_level_order]"
   ]
  },
  {
   "cell_type": "code",
   "execution_count": 139,
   "id": "9f44bbe4-fda8-4050-b325-0448e3e23162",
   "metadata": {},
   "outputs": [],
   "source": [
    "# Updated ordinal pipeline\n",
    "new_ord_pipeline = make_pipeline(\n",
    "    SimpleImputer(strategy=\"most_frequent\"),\n",
    "    OrdinalEncoder(categories=new_category_order, handle_unknown=\"use_encoded_value\", unknown_value=-1)\n",
    ")"
   ]
  },
  {
   "cell_type": "code",
   "execution_count": 140,
   "id": "ab760031-d89f-487f-8cc8-17c6fde5624d",
   "metadata": {},
   "outputs": [],
   "source": [
    "# Updated preprocessing pipeline\n",
    "new_preprocessing = ColumnTransformer([\n",
    "    (\"num\", num_pipeline, new_num_attribs),\n",
    "    (\"boxcox\", boxcox_pipeline, new_boxcox_attribs),\n",
    "    (\"ord\", new_ord_pipeline, new_ord_attribs),\n",
    "    (\"nom\", nom_pipeline, new_nom_attribs),\n",
    "    (\"bin\", bin_pipeline, new_bin_attribs),\n",
    "    (\"map\", map_pipeline, new_map_attribs),\n",
    "], remainder = \"drop\")"
   ]
  },
  {
   "cell_type": "code",
   "execution_count": 141,
   "id": "37982303-ee31-4cf8-af6d-b9bc9df1ce5f",
   "metadata": {},
   "outputs": [
    {
     "name": "stdout",
     "output_type": "stream",
     "text": [
      "Mean cross-validation accuracy: 0.8335\n"
     ]
    }
   ],
   "source": [
    "# Retraining our GBoost model\n",
    "kf_new = KFold(n_splits=5, shuffle=True, random_state=42)\n",
    "adasyn = ADASYN(n_neighbors=3, sampling_strategy=0.8, random_state=42)\n",
    "\n",
    "gboost_pipeline_train = ImbPipeline([\n",
    "    (\"preprocessor\", new_preprocessing),  \n",
    "    (\"adasyn\", adasyn),\n",
    "    (\"gboost\", gboost)\n",
    "])\n",
    "\n",
    "# Accuracy while using cross-Validation\n",
    "gb_cross_val_scores = cross_val_score(gboost_pipeline_train, X_train_new, y_train, cv=kf_new, n_jobs=-1)\n",
    "print(f\"Mean cross-validation accuracy: {gb_cross_val_scores.mean():.4f}\")"
   ]
  },
  {
   "cell_type": "markdown",
   "id": "2e2e8b17-33ed-4485-be26-65c4e5a74e17",
   "metadata": {},
   "source": [
    "Score before feature removal: 0.8469"
   ]
  },
  {
   "cell_type": "code",
   "execution_count": 143,
   "id": "76432f9c-0d19-4b96-99f9-0ce657ea751f",
   "metadata": {},
   "outputs": [
    {
     "name": "stdout",
     "output_type": "stream",
     "text": [
      "Mean cross-validation accuracy: 0.8272\n"
     ]
    }
   ],
   "source": [
    "# Retraining our Randomforest model\n",
    "rf_pipeline_train = ImbPipeline([\n",
    "    (\"preprocessor\", new_preprocessing),  \n",
    "    (\"adasyn\", adasyn),\n",
    "    (\"randomforest\", rf)\n",
    "])\n",
    "\n",
    "# Accuracy while using cross-Validation\n",
    "rf_cross_val_scores = cross_val_score(rf_pipeline_train, X_train_new, y_train, cv=kf_new, n_jobs=-1)\n",
    "print(f\"Mean cross-validation accuracy: {rf_cross_val_scores.mean():.4f}\")"
   ]
  },
  {
   "cell_type": "markdown",
   "id": "8115b2f6-8150-4e81-8051-7351cc056382",
   "metadata": {},
   "source": [
    "Score before feature removal: 0.8417"
   ]
  },
  {
   "cell_type": "code",
   "execution_count": 145,
   "id": "e526dd6f-8dcc-4aaa-945d-fa127eae7fdc",
   "metadata": {},
   "outputs": [
    {
     "name": "stdout",
     "output_type": "stream",
     "text": [
      "Mean cross-validation accuracy: 0.8277\n"
     ]
    }
   ],
   "source": [
    "# Retraining our AdaBoost model\n",
    "ada_pipeline_train = ImbPipeline([\n",
    "    (\"preprocessor\", new_preprocessing),  \n",
    "    (\"adasyn\", adasyn),\n",
    "    (\"ad\", adaboost)\n",
    "])\n",
    "\n",
    "# Accuracy while using cross-Validation\n",
    "ad_cross_val_scores = cross_val_score(ada_pipeline_train, X_train_new, y_train, cv=kf_new, n_jobs=-1)\n",
    "print(f\"Mean cross-validation accuracy: {ad_cross_val_scores.mean():.4f}\")"
   ]
  },
  {
   "cell_type": "markdown",
   "id": "87cc3b1a-740e-4339-a588-073ccd7d9e38",
   "metadata": {},
   "source": [
    "Score before feature removal: 0.8456"
   ]
  },
  {
   "cell_type": "markdown",
   "id": "57d41fcf-0af5-4636-954b-8be487d7ade3",
   "metadata": {},
   "source": [
    "- It seems that removing \"low importance\" features actually lowered performance in all three of our models\n",
    "\n",
    "- We will keep the original set of features then\n",
    "\n",
    "Next, we can try using an ensemble method to try to improve model performance"
   ]
  },
  {
   "cell_type": "markdown",
   "id": "08fb4b5e-7698-4acb-a1e4-e97770133991",
   "metadata": {},
   "source": [
    "#### 5.5 Testing Ensemble Method\n",
    "\n",
    "Ensemble methods are used by combining multiple models together to hopefully form an even better predictor\n",
    "\n",
    "We will be using a Voting Classifier to join our models together, which uses the highest average probability between the models used for its prediction"
   ]
  },
  {
   "cell_type": "code",
   "execution_count": 149,
   "id": "81c750c5-774a-43fc-bb5f-bb3dd5c9fe60",
   "metadata": {},
   "outputs": [
    {
     "name": "stdout",
     "output_type": "stream",
     "text": [
      "Mean cross-validation accuracy: 0.8463\n"
     ]
    }
   ],
   "source": [
    "# Combining the performance of our GradientBoost, RandomForest, and AdaBoost model using Voting Classifier\n",
    "adasyn_ens = ADASYN(n_neighbors=3, sampling_strategy=0.8, random_state=42)\n",
    "kf_ens = KFold(n_splits=5, shuffle=True, random_state=42)\n",
    "\n",
    "voting_clf = VotingClassifier(\n",
    "    estimators=[\n",
    "        (\"gb\", gboost),\n",
    "        (\"rf\", rf),\n",
    "        (\"ad\", adaboost)\n",
    "    ],\n",
    "    voting=\"soft\" \n",
    ")\n",
    "\n",
    "# Creating pipeline with preprocessing, oversampling, and voting ensemble method\n",
    "ensemble_pipeline = ImbPipeline([\n",
    "    (\"preprocessing\", preprocessing),  \n",
    "    (\"adasyn\", adasyn_ens),  \n",
    "    (\"voting_clf\", voting_clf) \n",
    "])\n",
    "\n",
    "ensemble_pipeline.fit(X_train, y_train)\n",
    "\n",
    "# Accuracy while using cross-Validation\n",
    "cross_val_scores = cross_val_score(ensemble_pipeline, X_train, y_train, cv=kf_ens, n_jobs=-1)\n",
    "print(f\"Mean cross-validation accuracy: {cross_val_scores.mean():.4f}\")"
   ]
  },
  {
   "cell_type": "markdown",
   "id": "f6a6b5cc-8916-4c8f-886e-d7ca1e70d52d",
   "metadata": {},
   "source": [
    "Seems that the ensemble method actually performed marginally worse than our GradientBoost model by itself\n",
    "\n",
    "We'll move forward with the GradientBoost model with its adjusted hyperparameters from RandomSearchCV to finally test on our test set"
   ]
  },
  {
   "cell_type": "markdown",
   "id": "c1911182-4be5-4bf4-91ce-5b0e88acec78",
   "metadata": {},
   "source": [
    "#### 5.6 Evaluating on Test Set"
   ]
  },
  {
   "cell_type": "code",
   "execution_count": 152,
   "id": "23fef845-eb08-4489-becc-c7f859af16b3",
   "metadata": {},
   "outputs": [
    {
     "name": "stdout",
     "output_type": "stream",
     "text": [
      "Mean cross-validation accuracy: 0.8481\n"
     ]
    }
   ],
   "source": [
    "# Creating instance of GBoost model with updated parameters\n",
    "gboost_final = GradientBoostingClassifier(subsample=1.0, random_state=42, \n",
    "                                          n_estimators=300, min_samples_split=10, \n",
    "                                          min_samples_leaf=4, max_features=\"auto\", \n",
    "                                          max_depth=4, learning_rate=0.05)\n",
    "\n",
    "\n",
    "kf_final = KFold(n_splits=5, shuffle=True, random_state=42)\n",
    "adasyn_final = ADASYN(n_neighbors=3, sampling_strategy=0.8, random_state=42)\n",
    "\n",
    "final_gboost_pipeline = ImbPipeline([\n",
    "    (\"preprocessor\", preprocessing),  \n",
    "    (\"adasyn\", adasyn),\n",
    "    (\"gboost\", gboost_final)\n",
    "])\n",
    "\n",
    "final_gboost_pipeline.fit(X_train, y_train)\n",
    "\n",
    "# Accuracy while using cross-Validation\n",
    "gb_final_cross_val_scores = cross_val_score(final_gboost_pipeline, X_train, y_train, cv=kf_final, n_jobs=-1)\n",
    "print(f\"Mean cross-validation accuracy: {gb_final_cross_val_scores.mean():.4f}\")"
   ]
  },
  {
   "cell_type": "markdown",
   "id": "072be27c-8b5f-4612-a826-0c4e19ad335a",
   "metadata": {},
   "source": [
    "After cross validation, our GradientBoostingClassifier resulted in a 84.81% accuracy score, which is better than anything else we have tried\n",
    "\n",
    "We will now evaluate our trained model on our test set"
   ]
  },
  {
   "cell_type": "markdown",
   "id": "5c117702-640c-4248-b4b2-d13b0d51d2a0",
   "metadata": {},
   "source": [
    "#### 5.7 Test Set Results"
   ]
  },
  {
   "cell_type": "code",
   "execution_count": 155,
   "id": "da9da82c-baeb-4140-8497-1082da5160f3",
   "metadata": {},
   "outputs": [
    {
     "name": "stdout",
     "output_type": "stream",
     "text": [
      "Accuracy of Final GradientBoost model on Test Set: 0.8564\n"
     ]
    }
   ],
   "source": [
    "y_pred_test = final_gboost_pipeline.predict(X_test)\n",
    "accuracy_test = accuracy_score(y_test, y_pred_test)\n",
    "print(f\"Accuracy of Final GradientBoost model on Test Set: {accuracy_test:.4f}\")"
   ]
  },
  {
   "cell_type": "markdown",
   "id": "3aabfaab-e7f1-4eaa-bafe-26be08dd499a",
   "metadata": {},
   "source": [
    "Nice! Our test set finished with an accuracy of just around 85.6%\n",
    "\n",
    "Our test accuracy and training accuracy are very similar indicating that it should generalize pretty well to new data\n",
    "\n",
    "Finally, I'll create a confusion matrix to better visualize our model's performance on the test set"
   ]
  },
  {
   "cell_type": "code",
   "execution_count": 157,
   "id": "ce4143ec-0a46-46fd-9564-2d5dc0692935",
   "metadata": {},
   "outputs": [
    {
     "data": {
      "image/png": "[encoded data removed]",
      "text/plain": [
       "<Figure size 640x480 with 2 Axes>"
      ]
     },
     "metadata": {},
     "output_type": "display_data"
    }
   ],
   "source": [
    "# Creating confusion matrix instance\n",
    "cm = confusion_matrix(y_test, y_pred_test)\n",
    "\n",
    "# Display the confusion matrix using ConfusionMatrixDisplay\n",
    "disp = ConfusionMatrixDisplay(confusion_matrix=cm)\n",
    "disp.plot(cmap=plt.cm.Blues)\n",
    "plt.title(\"Final Results Confusion Matrix\")\n",
    "plt.show()"
   ]
  },
  {
   "cell_type": "markdown",
   "id": "0609d331-affc-46cc-9c58-0c1043058163",
   "metadata": {},
   "source": [
    "**Key:**\n",
    "\n",
    "True Negatives: 1193 policyholders were correctly predicted as not having made a claim (actual 0, predicted 0)\n",
    "\n",
    "False Positives (Type I error): 180 policyholders were incorrectly predicted as having made a claim (actual 0, predicted 1)\n",
    "\n",
    "False Negatives (Type II error): 107 policyholders actually made a claim, but the model predicted that no claim would be made (actual 1, predicted 0)\n",
    "\n",
    "True Positives: 518 policyholders were correctly predicted as having made a claim (actual 1, predicted 1)\n",
    "\n",
    "**Insights:**\n",
    "\n",
    "- The model is well balanced, with a strong performance in predicting positive cases (83.3%) and a respectable precision score (74.7%)\n",
    "\n",
    "- Overall, the model handles both the \"no claim\" and \"claim\" predictions fairly well\n",
    "  - This means our oversampling did a good job in preventing the model from biasing towards \"no claim\" simply because of the class imbalance"
   ]
  },
  {
   "cell_type": "markdown",
   "id": "8aed85b8-c935-42b6-a619-f391e8fec03e",
   "metadata": {},
   "source": [
    "## 6. Conclusion"
   ]
  },
  {
   "cell_type": "markdown",
   "id": "dae6aced-26ad-468d-81a0-4f4cb6b0c707",
   "metadata": {},
   "source": [
    "Ultimately, our Gradient Boosting Classifier performed the best, predicting whether a claim was made or not with 85.6% accuracy, with relatively balanced errors between Type I and Type II given the distribution. Through our exploratory analysis and our model, we were able to capture parameters, like driving_experience and vehicle_year, that consistently showed a stronger correlation with our target feature. With these results, we can support underwriter's in their risk assessment in applicants and refine pricing strategies for policyholders given certain traits. \n",
    "\n",
    "**Possible Improvements and Limitations:**\n",
    "- The actual data for certain parameters were quite limiting; vehicle year, one of our strongest parameters, was limited to be a binary feature with only before 2015 and after 2015 as possible values\n",
    "  - Specific vehicle years, or even the addition of car brands, would be more realistic data for our model to work on in the real world\n",
    "  - Same goes for features such as age, vehicle type, and driving experience, which were restricted to the categories given by the original data\n",
    "- I could have picked a wider variety of models to work with\n",
    "  - There are a lot of similarities between the Gradient Boosting and AdaBoost models, so it would have been better to pick something like a regression model to move forward with for one of the two, especially for the ensemble method portion of the project\n",
    "- Retrieving more data for the model to be trained on\n",
    "  - For the purpose of improving generalization and application in the real world, 10,000 instances is not a lot of data to train the model on, and is a limiting factor in this project\n",
    "- This project does not address possible \n",
    "ocurencse of insurance fraud, which may skew certain instance in the datas"
   ]
  }
 ],
 "metadata": {
  "kernelspec": {
   "display_name": "Python 3 (ipykernel)",
   "language": "python",
   "name": "python3"
  },
  "language_info": {
   "codemirror_mode": {
    "name": "ipython",
    "version": 3
   },
   "file_extension": ".py",
   "mimetype": "text/x-python",
   "name": "python",
   "nbconvert_exporter": "python",
   "pygments_lexer": "ipython3",
   "version": "3.11.7"
  }
 },
 "nbformat": 4,
 "nbformat_minor": 5
}
